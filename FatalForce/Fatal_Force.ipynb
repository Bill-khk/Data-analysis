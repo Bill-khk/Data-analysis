{
 "cells": [
  {
   "cell_type": "markdown",
   "metadata": {
    "id": "0KrR-Qd_wXf-"
   },
   "source": [
    "# Introduction"
   ]
  },
  {
   "cell_type": "markdown",
   "metadata": {
    "id": "I6e2m4XsuRoL"
   },
   "source": [
    "Since Jan. 1, 2015, [The Washington Post](https://www.washingtonpost.com/) has been compiling a database of every fatal shooting in the US by a police officer in the line of duty. \n",
    "\n",
    "<center><img src=https://i.imgur.com/sX3K62b.png></center>\n",
    "\n",
    "While there are many challenges regarding data collection and reporting, The Washington Post has been tracking more than a dozen details about each killing. This includes the race, age and gender of the deceased, whether the person was armed, and whether the victim was experiencing a mental-health crisis. The Washington Post has gathered this supplemental information from law enforcement websites, local new reports, social media, and by monitoring independent databases such as \"Killed by police\" and \"Fatal Encounters\". The Post has also conducted additional reporting in many cases.\n",
    "\n",
    "There are 4 additional datasets: US census data on poverty rate, high school graduation rate, median household income, and racial demographics. [Source of census data](https://factfinder.census.gov/faces/nav/jsf/pages/community_facts.xhtml)."
   ]
  },
  {
   "cell_type": "markdown",
   "metadata": {
    "id": "JwGJl3mnw2Af"
   },
   "source": [
    "### Upgrade Plotly\n",
    "\n",
    "Run the cell below if you are working with Google Colab"
   ]
  },
  {
   "cell_type": "markdown",
   "metadata": {
    "id": "JwGJl3mnw2Af"
   },
   "source": [
    "### Upgrade Plotly\n",
    "\n",
    "Run the cell below if you are working with Google Colab"
   ]
  },
  {
   "cell_type": "code",
   "execution_count": 1,
   "metadata": {
    "colab": {
     "base_uri": "https://localhost:8080/"
    },
    "id": "KvA9PBoRwvQG",
    "outputId": "ca6ee2a1-8da5-4f2d-f2b2-ea019cd92cae"
   },
   "outputs": [
    {
     "name": "stdout",
     "output_type": "stream",
     "text": [
      "Requirement already satisfied: plotly in c:\\users\\billk\\appdata\\local\\programs\\python\\python312\\lib\\site-packages (6.1.2)\n",
      "Requirement already satisfied: narwhals>=1.15.1 in c:\\users\\billk\\appdata\\local\\programs\\python\\python312\\lib\\site-packages (from plotly) (1.41.0)\n",
      "Requirement already satisfied: packaging in c:\\users\\billk\\appdata\\local\\programs\\python\\python312\\lib\\site-packages (from plotly) (24.1)\n",
      "Note: you may need to restart the kernel to use updated packages.\n"
     ]
    }
   ],
   "source": [
    "%pip install --upgrade plotly"
   ]
  },
  {
   "cell_type": "markdown",
   "metadata": {
    "id": "jqXsMLNJxELp"
   },
   "source": [
    "## Import Statements"
   ]
  },
  {
   "cell_type": "code",
   "execution_count": 2,
   "metadata": {
    "id": "TPhEXC2FxGSr"
   },
   "outputs": [],
   "source": [
    "import numpy as np\n",
    "import pandas as pd\n",
    "import plotly.express as px\n",
    "import matplotlib.pyplot as plt\n",
    "import seaborn as sns\n",
    "\n",
    "# This might be helpful:\n",
    "from collections import Counter"
   ]
  },
  {
   "cell_type": "markdown",
   "metadata": {
    "id": "SwKGmmaLxS2s"
   },
   "source": [
    "## Notebook Presentation"
   ]
  },
  {
   "cell_type": "code",
   "execution_count": 3,
   "metadata": {
    "id": "ayQQqhKtxBxj"
   },
   "outputs": [],
   "source": [
    "pd.options.display.float_format = '{:,.2f}'.format"
   ]
  },
  {
   "cell_type": "markdown",
   "metadata": {
    "id": "nKxJMOiMyAUF"
   },
   "source": [
    "## Load the Data"
   ]
  },
  {
   "cell_type": "code",
   "execution_count": 4,
   "metadata": {
    "_cell_guid": "abb0685f-f844-43f8-84c0-4cd54361c7bf",
    "_uuid": "9c06ed7c41db79ae9d940f2d52aeff23621b3037",
    "id": "8KmGeg6ouRoP"
   },
   "outputs": [],
   "source": [
    "df_hh_income = pd.read_csv('Median_Household_Income_2015.csv', encoding=\"windows-1252\")\n",
    "df_pct_poverty = pd.read_csv('Pct_People_Below_Poverty_Level.csv', encoding=\"windows-1252\")\n",
    "df_pct_completed_hs = pd.read_csv('Pct_Over_25_Completed_High_School.csv', encoding=\"windows-1252\")\n",
    "df_share_race_city = pd.read_csv('Share_of_Race_By_City.csv', encoding=\"windows-1252\")\n",
    "df_fatalities = pd.read_csv('Deaths_by_Police_US.csv', encoding=\"windows-1252\")"
   ]
  },
  {
   "cell_type": "markdown",
   "metadata": {
    "id": "6RuA5SvUyEaB"
   },
   "source": [
    "# Preliminary Data Exploration\n",
    "\n",
    "* What is the shape of the DataFrames? \n",
    "* How many rows and columns do they have?\n",
    "* What are the column names?\n",
    "* Are there any NaN values or duplicates?"
   ]
  },
  {
   "cell_type": "code",
   "execution_count": 5,
   "metadata": {
    "id": "3U9RcS1WyrRJ"
   },
   "outputs": [
    {
     "data": {
      "text/plain": [
       "((29322, 3), (29329, 3), (29329, 3), (29268, 7), (2535, 14))"
      ]
     },
     "execution_count": 5,
     "metadata": {},
     "output_type": "execute_result"
    }
   ],
   "source": [
    "df_hh_income.shape, df_pct_poverty.shape, df_pct_completed_hs.shape, df_share_race_city.shape, df_fatalities.shape"
   ]
  },
  {
   "cell_type": "code",
   "execution_count": 6,
   "metadata": {
    "id": "DmIARadGyrgs"
   },
   "outputs": [],
   "source": [
    "#df_hh_income.info(), df_pct_poverty.info(), df_pct_completed_hs.info(), df_share_race_city.info(), df_fatalities.info()"
   ]
  },
  {
   "cell_type": "code",
   "execution_count": 7,
   "metadata": {
    "id": "OSgTJoX7yrcS"
   },
   "outputs": [
    {
     "data": {
      "text/plain": [
       "(np.True_, np.False_, np.False_, np.False_, np.True_)"
      ]
     },
     "execution_count": 7,
     "metadata": {},
     "output_type": "execute_result"
    }
   ],
   "source": [
    "df_hh_income.isna().values.any(), df_pct_poverty.isna().values.any(), df_pct_completed_hs.isna().values.any(), df_share_race_city.isna().values.any(), df_fatalities.isna().values.any()"
   ]
  },
  {
   "cell_type": "markdown",
   "metadata": {
    "id": "p72TfMvayr2C"
   },
   "source": [
    "## Data Cleaning - Check for Missing Values and Duplicates\n",
    "\n",
    "Consider how to deal with the NaN values. Perhaps substituting 0 is appropriate. "
   ]
  },
  {
   "cell_type": "code",
   "execution_count": 8,
   "metadata": {},
   "outputs": [
    {
     "data": {
      "text/html": [
       "<div>\n",
       "<style scoped>\n",
       "    .dataframe tbody tr th:only-of-type {\n",
       "        vertical-align: middle;\n",
       "    }\n",
       "\n",
       "    .dataframe tbody tr th {\n",
       "        vertical-align: top;\n",
       "    }\n",
       "\n",
       "    .dataframe thead th {\n",
       "        text-align: right;\n",
       "    }\n",
       "</style>\n",
       "<table border=\"1\" class=\"dataframe\">\n",
       "  <thead>\n",
       "    <tr style=\"text-align: right;\">\n",
       "      <th></th>\n",
       "      <th>Geographic Area</th>\n",
       "      <th>City</th>\n",
       "      <th>Median Income</th>\n",
       "    </tr>\n",
       "  </thead>\n",
       "  <tbody>\n",
       "    <tr>\n",
       "      <th>29119</th>\n",
       "      <td>WY</td>\n",
       "      <td>Albany CDP</td>\n",
       "      <td>NaN</td>\n",
       "    </tr>\n",
       "    <tr>\n",
       "      <th>29121</th>\n",
       "      <td>WY</td>\n",
       "      <td>Alcova CDP</td>\n",
       "      <td>NaN</td>\n",
       "    </tr>\n",
       "    <tr>\n",
       "      <th>29123</th>\n",
       "      <td>WY</td>\n",
       "      <td>Alpine Northeast CDP</td>\n",
       "      <td>NaN</td>\n",
       "    </tr>\n",
       "    <tr>\n",
       "      <th>29126</th>\n",
       "      <td>WY</td>\n",
       "      <td>Antelope Hills CDP</td>\n",
       "      <td>NaN</td>\n",
       "    </tr>\n",
       "    <tr>\n",
       "      <th>29129</th>\n",
       "      <td>WY</td>\n",
       "      <td>Arlington CDP</td>\n",
       "      <td>NaN</td>\n",
       "    </tr>\n",
       "  </tbody>\n",
       "</table>\n",
       "</div>"
      ],
      "text/plain": [
       "      Geographic Area                  City Median Income\n",
       "29119              WY            Albany CDP           NaN\n",
       "29121              WY            Alcova CDP           NaN\n",
       "29123              WY  Alpine Northeast CDP           NaN\n",
       "29126              WY    Antelope Hills CDP           NaN\n",
       "29129              WY         Arlington CDP           NaN"
      ]
     },
     "execution_count": 8,
     "metadata": {},
     "output_type": "execute_result"
    }
   ],
   "source": [
    "#Analysis of the NaN values : \n",
    "df_hh_income[df_hh_income['Median Income'].isna()].head()"
   ]
  },
  {
   "cell_type": "code",
   "execution_count": 9,
   "metadata": {
    "id": "WEZuPaXvyxxp"
   },
   "outputs": [
    {
     "data": {
      "text/html": [
       "<div>\n",
       "<style scoped>\n",
       "    .dataframe tbody tr th:only-of-type {\n",
       "        vertical-align: middle;\n",
       "    }\n",
       "\n",
       "    .dataframe tbody tr th {\n",
       "        vertical-align: top;\n",
       "    }\n",
       "\n",
       "    .dataframe thead th {\n",
       "        text-align: right;\n",
       "    }\n",
       "</style>\n",
       "<table border=\"1\" class=\"dataframe\">\n",
       "  <thead>\n",
       "    <tr style=\"text-align: right;\">\n",
       "      <th></th>\n",
       "      <th>Geographic Area</th>\n",
       "      <th>City</th>\n",
       "      <th>Median Income</th>\n",
       "    </tr>\n",
       "  </thead>\n",
       "  <tbody>\n",
       "  </tbody>\n",
       "</table>\n",
       "</div>"
      ],
      "text/plain": [
       "Empty DataFrame\n",
       "Columns: [Geographic Area, City, Median Income]\n",
       "Index: []"
      ]
     },
     "execution_count": 9,
     "metadata": {},
     "output_type": "execute_result"
    }
   ],
   "source": [
    "#Replacing NAN by 0\n",
    "df_hh_income['Median Income'] = df_hh_income['Median Income'].fillna(0)\n",
    "df_hh_income[df_hh_income['Median Income'].isna()].head() "
   ]
  },
  {
   "cell_type": "code",
   "execution_count": 10,
   "metadata": {
    "id": "550aSczryx01"
   },
   "outputs": [
    {
     "data": {
      "text/plain": [
       "id                         False\n",
       "name                       False\n",
       "date                       False\n",
       "manner_of_death            False\n",
       "armed                       True\n",
       "age                         True\n",
       "gender                     False\n",
       "race                        True\n",
       "city                       False\n",
       "state                      False\n",
       "signs_of_mental_illness    False\n",
       "threat_level               False\n",
       "flee                        True\n",
       "body_camera                False\n",
       "dtype: bool"
      ]
     },
     "execution_count": 10,
     "metadata": {},
     "output_type": "execute_result"
    }
   ],
   "source": [
    "#Analysis of the NaN values : \n",
    "df_fatalities.isna().any()"
   ]
  },
  {
   "cell_type": "code",
   "execution_count": 11,
   "metadata": {},
   "outputs": [],
   "source": [
    "df_fatalities = df_fatalities.dropna()"
   ]
  },
  {
   "cell_type": "code",
   "execution_count": 12,
   "metadata": {},
   "outputs": [
    {
     "data": {
      "text/plain": [
       "(np.False_, np.False_, np.False_, np.False_, np.False_)"
      ]
     },
     "execution_count": 12,
     "metadata": {},
     "output_type": "execute_result"
    }
   ],
   "source": [
    "#No more NA values\n",
    "df_hh_income.isna().values.any(), df_pct_poverty.isna().values.any(), df_pct_completed_hs.isna().values.any(), df_share_race_city.isna().values.any(), df_fatalities.isna().values.any()"
   ]
  },
  {
   "cell_type": "code",
   "execution_count": 13,
   "metadata": {},
   "outputs": [
    {
     "data": {
      "text/plain": [
       "(np.False_, np.False_, np.False_, np.False_, np.False_)"
      ]
     },
     "execution_count": 13,
     "metadata": {},
     "output_type": "execute_result"
    }
   ],
   "source": [
    "#No duplicated values\n",
    "df_hh_income.duplicated().values.any(), df_pct_poverty.duplicated().values.any(), df_pct_completed_hs.duplicated().values.any(), df_share_race_city.duplicated().values.any(), df_fatalities.duplicated().values.any()"
   ]
  },
  {
   "cell_type": "markdown",
   "metadata": {
    "_uuid": "52b308c936f5835c5cd186497fe3f96e96372483",
    "id": "n3DrcXVQuRoZ"
   },
   "source": [
    "# Chart the Poverty Rate in each US State\n",
    "\n",
    "Create a bar chart that ranks the poverty rate from highest to lowest by US state. Which state has the highest poverty rate? Which state has the lowest poverty rate?  Bar Plot"
   ]
  },
  {
   "cell_type": "code",
   "execution_count": 14,
   "metadata": {
    "id": "mGxEzMDqzqmn"
   },
   "outputs": [
    {
     "data": {
      "text/html": [
       "<div>\n",
       "<style scoped>\n",
       "    .dataframe tbody tr th:only-of-type {\n",
       "        vertical-align: middle;\n",
       "    }\n",
       "\n",
       "    .dataframe tbody tr th {\n",
       "        vertical-align: top;\n",
       "    }\n",
       "\n",
       "    .dataframe thead th {\n",
       "        text-align: right;\n",
       "    }\n",
       "</style>\n",
       "<table border=\"1\" class=\"dataframe\">\n",
       "  <thead>\n",
       "    <tr style=\"text-align: right;\">\n",
       "      <th></th>\n",
       "      <th>Geographic Area</th>\n",
       "      <th>City</th>\n",
       "      <th>poverty_rate</th>\n",
       "    </tr>\n",
       "  </thead>\n",
       "  <tbody>\n",
       "    <tr>\n",
       "      <th>0</th>\n",
       "      <td>AL</td>\n",
       "      <td>Abanda CDP</td>\n",
       "      <td>78.8</td>\n",
       "    </tr>\n",
       "    <tr>\n",
       "      <th>1</th>\n",
       "      <td>AL</td>\n",
       "      <td>Abbeville city</td>\n",
       "      <td>29.1</td>\n",
       "    </tr>\n",
       "    <tr>\n",
       "      <th>2</th>\n",
       "      <td>AL</td>\n",
       "      <td>Adamsville city</td>\n",
       "      <td>25.5</td>\n",
       "    </tr>\n",
       "    <tr>\n",
       "      <th>3</th>\n",
       "      <td>AL</td>\n",
       "      <td>Addison town</td>\n",
       "      <td>30.7</td>\n",
       "    </tr>\n",
       "    <tr>\n",
       "      <th>4</th>\n",
       "      <td>AL</td>\n",
       "      <td>Akron town</td>\n",
       "      <td>42</td>\n",
       "    </tr>\n",
       "  </tbody>\n",
       "</table>\n",
       "</div>"
      ],
      "text/plain": [
       "  Geographic Area             City poverty_rate\n",
       "0              AL       Abanda CDP         78.8\n",
       "1              AL   Abbeville city         29.1\n",
       "2              AL  Adamsville city         25.5\n",
       "3              AL     Addison town         30.7\n",
       "4              AL       Akron town           42"
      ]
     },
     "execution_count": 14,
     "metadata": {},
     "output_type": "execute_result"
    }
   ],
   "source": [
    "df_pct_poverty.head()"
   ]
  },
  {
   "cell_type": "code",
   "execution_count": 15,
   "metadata": {},
   "outputs": [
    {
     "name": "stdout",
     "output_type": "stream",
     "text": [
      "<class 'pandas.core.frame.DataFrame'>\n",
      "RangeIndex: 29329 entries, 0 to 29328\n",
      "Data columns (total 3 columns):\n",
      " #   Column           Non-Null Count  Dtype \n",
      "---  ------           --------------  ----- \n",
      " 0   Geographic Area  29329 non-null  object\n",
      " 1   City             29329 non-null  object\n",
      " 2   poverty_rate     29329 non-null  object\n",
      "dtypes: object(3)\n",
      "memory usage: 687.5+ KB\n"
     ]
    }
   ],
   "source": [
    "df_pct_poverty.info()"
   ]
  },
  {
   "cell_type": "code",
   "execution_count": 16,
   "metadata": {},
   "outputs": [
    {
     "data": {
      "text/plain": [
       "poverty_rate\n",
       "0       1464\n",
       "-        201\n",
       "7.4      129\n",
       "6.7      129\n",
       "10       128\n",
       "        ... \n",
       "73.7       1\n",
       "92.7       1\n",
       "72.4       1\n",
       "68.2       1\n",
       "94.1       1\n",
       "Name: count, Length: 771, dtype: int64"
      ]
     },
     "execution_count": 16,
     "metadata": {},
     "output_type": "execute_result"
    }
   ],
   "source": [
    "df_pct_poverty['poverty_rate'].value_counts()"
   ]
  },
  {
   "cell_type": "code",
   "execution_count": 17,
   "metadata": {},
   "outputs": [],
   "source": [
    "df_pct_poverty['poverty_rate'] = df_pct_poverty['poverty_rate'].str.replace('-', '0')"
   ]
  },
  {
   "cell_type": "code",
   "execution_count": 18,
   "metadata": {},
   "outputs": [],
   "source": [
    "df_pct_poverty['poverty_rate'] = df_pct_poverty['poverty_rate'].astype(float)"
   ]
  },
  {
   "cell_type": "code",
   "execution_count": 19,
   "metadata": {},
   "outputs": [
    {
     "data": {
      "text/html": [
       "<div>\n",
       "<style scoped>\n",
       "    .dataframe tbody tr th:only-of-type {\n",
       "        vertical-align: middle;\n",
       "    }\n",
       "\n",
       "    .dataframe tbody tr th {\n",
       "        vertical-align: top;\n",
       "    }\n",
       "\n",
       "    .dataframe thead th {\n",
       "        text-align: right;\n",
       "    }\n",
       "</style>\n",
       "<table border=\"1\" class=\"dataframe\">\n",
       "  <thead>\n",
       "    <tr style=\"text-align: right;\">\n",
       "      <th></th>\n",
       "      <th>Geographic Area</th>\n",
       "      <th>poverty_rate</th>\n",
       "    </tr>\n",
       "  </thead>\n",
       "  <tbody>\n",
       "    <tr>\n",
       "      <th>25</th>\n",
       "      <td>MS</td>\n",
       "      <td>26.88</td>\n",
       "    </tr>\n",
       "    <tr>\n",
       "      <th>3</th>\n",
       "      <td>AZ</td>\n",
       "      <td>25.27</td>\n",
       "    </tr>\n",
       "    <tr>\n",
       "      <th>10</th>\n",
       "      <td>GA</td>\n",
       "      <td>23.66</td>\n",
       "    </tr>\n",
       "    <tr>\n",
       "      <th>2</th>\n",
       "      <td>AR</td>\n",
       "      <td>22.96</td>\n",
       "    </tr>\n",
       "    <tr>\n",
       "      <th>32</th>\n",
       "      <td>NM</td>\n",
       "      <td>22.51</td>\n",
       "    </tr>\n",
       "  </tbody>\n",
       "</table>\n",
       "</div>"
      ],
      "text/plain": [
       "   Geographic Area  poverty_rate\n",
       "25              MS         26.88\n",
       "3               AZ         25.27\n",
       "10              GA         23.66\n",
       "2               AR         22.96\n",
       "32              NM         22.51"
      ]
     },
     "execution_count": 19,
     "metadata": {},
     "output_type": "execute_result"
    }
   ],
   "source": [
    "state_pov_rate = df_pct_poverty.groupby('Geographic Area')['poverty_rate'].mean().reset_index()\n",
    "state_pov_rate = state_pov_rate.sort_values(by='poverty_rate', ascending=False)\n",
    "state_pov_rate.head()"
   ]
  },
  {
   "cell_type": "code",
   "execution_count": 20,
   "metadata": {
    "id": "B3AM6oJQ1D_P"
   },
   "outputs": [
    {
     "data": {
      "application/vnd.plotly.v1+json": {
       "config": {
        "plotlyServerURL": "https://plot.ly"
       },
       "data": [
        {
         "hovertemplate": "x=%{x}<br>y=%{y}<extra></extra>",
         "legendgroup": "",
         "marker": {
          "color": "#636efa",
          "pattern": {
           "shape": ""
          }
         },
         "name": "",
         "orientation": "v",
         "showlegend": false,
         "textposition": "auto",
         "type": "bar",
         "x": [
          "MS",
          "AZ",
          "GA",
          "AR",
          "NM",
          "LA",
          "SC",
          "WV",
          "AL",
          "OK",
          "KY",
          "MO",
          "TN",
          "NC",
          "TX",
          "AK",
          "ID",
          "DC",
          "MI",
          "FL",
          "ME",
          "CA",
          "OR",
          "MT",
          "SD",
          "IN",
          "OH",
          "WA",
          "KS",
          "VA",
          "IL",
          "VT",
          "MN",
          "HI",
          "CO",
          "NE",
          "WI",
          "NH",
          "DE",
          "PA",
          "NV",
          "IA",
          "ND",
          "UT",
          "NY",
          "RI",
          "MD",
          "MA",
          "CT",
          "WY",
          "NJ"
         ],
         "xaxis": "x",
         "y": {
          "bdata": "VlDEel7iOkDEBEpMoEQ5QCpBnhLkqTdABjFaV5X2NkD+nS/89oE2QOJJapSxSjZAsAVbsAUbNkDqcvuDDBU1QDA4tpaenDRAMMKqxr+LNEAVrkfhehQ0QD63K4ZB7jNAAjIaJiDjM0Dn4psqd7gzQOWpRWkIfzNAPJH/LLitMkDJaQWYghMyQAAAAAAAADJAKHiqwJXmMUBQiRf7M4IxQLNs/hnT5DBAAZrbQGzjMEDEDAoukW8wQMa+sJRcbDBAA/ie1pN9L0AgU4a57P8uQKgNdNpApy1AtOHMDemmLUADJ3ACJ3AtQHNx5ofyKy1ALnHq99yyK0BjJLIXaJIrQBLddyrRfStAjjRHmiPNKkB/dt7FI2AqQKiOvEK31SlAexs726W3KUCBL65+0FEpQPgL7pqXHClAhlyo0275KEC6nCG28r0oQGmN1miNdihATRRdC4tDKED9M6bJAHMnQJ+gmi8mRydA0yd90ie9JEC4oP0zd4skQBihexG6FyNAZmZmZmZGIkChoKCgoCAiQFmoAMVjUiBA",
          "dtype": "f8"
         },
         "yaxis": "y"
        }
       ],
       "layout": {
        "barmode": "relative",
        "legend": {
         "tracegroupgap": 0
        },
        "template": {
         "data": {
          "bar": [
           {
            "error_x": {
             "color": "#2a3f5f"
            },
            "error_y": {
             "color": "#2a3f5f"
            },
            "marker": {
             "line": {
              "color": "#E5ECF6",
              "width": 0.5
             },
             "pattern": {
              "fillmode": "overlay",
              "size": 10,
              "solidity": 0.2
             }
            },
            "type": "bar"
           }
          ],
          "barpolar": [
           {
            "marker": {
             "line": {
              "color": "#E5ECF6",
              "width": 0.5
             },
             "pattern": {
              "fillmode": "overlay",
              "size": 10,
              "solidity": 0.2
             }
            },
            "type": "barpolar"
           }
          ],
          "carpet": [
           {
            "aaxis": {
             "endlinecolor": "#2a3f5f",
             "gridcolor": "white",
             "linecolor": "white",
             "minorgridcolor": "white",
             "startlinecolor": "#2a3f5f"
            },
            "baxis": {
             "endlinecolor": "#2a3f5f",
             "gridcolor": "white",
             "linecolor": "white",
             "minorgridcolor": "white",
             "startlinecolor": "#2a3f5f"
            },
            "type": "carpet"
           }
          ],
          "choropleth": [
           {
            "colorbar": {
             "outlinewidth": 0,
             "ticks": ""
            },
            "type": "choropleth"
           }
          ],
          "contour": [
           {
            "colorbar": {
             "outlinewidth": 0,
             "ticks": ""
            },
            "colorscale": [
             [
              0,
              "#0d0887"
             ],
             [
              0.1111111111111111,
              "#46039f"
             ],
             [
              0.2222222222222222,
              "#7201a8"
             ],
             [
              0.3333333333333333,
              "#9c179e"
             ],
             [
              0.4444444444444444,
              "#bd3786"
             ],
             [
              0.5555555555555556,
              "#d8576b"
             ],
             [
              0.6666666666666666,
              "#ed7953"
             ],
             [
              0.7777777777777778,
              "#fb9f3a"
             ],
             [
              0.8888888888888888,
              "#fdca26"
             ],
             [
              1,
              "#f0f921"
             ]
            ],
            "type": "contour"
           }
          ],
          "contourcarpet": [
           {
            "colorbar": {
             "outlinewidth": 0,
             "ticks": ""
            },
            "type": "contourcarpet"
           }
          ],
          "heatmap": [
           {
            "colorbar": {
             "outlinewidth": 0,
             "ticks": ""
            },
            "colorscale": [
             [
              0,
              "#0d0887"
             ],
             [
              0.1111111111111111,
              "#46039f"
             ],
             [
              0.2222222222222222,
              "#7201a8"
             ],
             [
              0.3333333333333333,
              "#9c179e"
             ],
             [
              0.4444444444444444,
              "#bd3786"
             ],
             [
              0.5555555555555556,
              "#d8576b"
             ],
             [
              0.6666666666666666,
              "#ed7953"
             ],
             [
              0.7777777777777778,
              "#fb9f3a"
             ],
             [
              0.8888888888888888,
              "#fdca26"
             ],
             [
              1,
              "#f0f921"
             ]
            ],
            "type": "heatmap"
           }
          ],
          "histogram": [
           {
            "marker": {
             "pattern": {
              "fillmode": "overlay",
              "size": 10,
              "solidity": 0.2
             }
            },
            "type": "histogram"
           }
          ],
          "histogram2d": [
           {
            "colorbar": {
             "outlinewidth": 0,
             "ticks": ""
            },
            "colorscale": [
             [
              0,
              "#0d0887"
             ],
             [
              0.1111111111111111,
              "#46039f"
             ],
             [
              0.2222222222222222,
              "#7201a8"
             ],
             [
              0.3333333333333333,
              "#9c179e"
             ],
             [
              0.4444444444444444,
              "#bd3786"
             ],
             [
              0.5555555555555556,
              "#d8576b"
             ],
             [
              0.6666666666666666,
              "#ed7953"
             ],
             [
              0.7777777777777778,
              "#fb9f3a"
             ],
             [
              0.8888888888888888,
              "#fdca26"
             ],
             [
              1,
              "#f0f921"
             ]
            ],
            "type": "histogram2d"
           }
          ],
          "histogram2dcontour": [
           {
            "colorbar": {
             "outlinewidth": 0,
             "ticks": ""
            },
            "colorscale": [
             [
              0,
              "#0d0887"
             ],
             [
              0.1111111111111111,
              "#46039f"
             ],
             [
              0.2222222222222222,
              "#7201a8"
             ],
             [
              0.3333333333333333,
              "#9c179e"
             ],
             [
              0.4444444444444444,
              "#bd3786"
             ],
             [
              0.5555555555555556,
              "#d8576b"
             ],
             [
              0.6666666666666666,
              "#ed7953"
             ],
             [
              0.7777777777777778,
              "#fb9f3a"
             ],
             [
              0.8888888888888888,
              "#fdca26"
             ],
             [
              1,
              "#f0f921"
             ]
            ],
            "type": "histogram2dcontour"
           }
          ],
          "mesh3d": [
           {
            "colorbar": {
             "outlinewidth": 0,
             "ticks": ""
            },
            "type": "mesh3d"
           }
          ],
          "parcoords": [
           {
            "line": {
             "colorbar": {
              "outlinewidth": 0,
              "ticks": ""
             }
            },
            "type": "parcoords"
           }
          ],
          "pie": [
           {
            "automargin": true,
            "type": "pie"
           }
          ],
          "scatter": [
           {
            "fillpattern": {
             "fillmode": "overlay",
             "size": 10,
             "solidity": 0.2
            },
            "type": "scatter"
           }
          ],
          "scatter3d": [
           {
            "line": {
             "colorbar": {
              "outlinewidth": 0,
              "ticks": ""
             }
            },
            "marker": {
             "colorbar": {
              "outlinewidth": 0,
              "ticks": ""
             }
            },
            "type": "scatter3d"
           }
          ],
          "scattercarpet": [
           {
            "marker": {
             "colorbar": {
              "outlinewidth": 0,
              "ticks": ""
             }
            },
            "type": "scattercarpet"
           }
          ],
          "scattergeo": [
           {
            "marker": {
             "colorbar": {
              "outlinewidth": 0,
              "ticks": ""
             }
            },
            "type": "scattergeo"
           }
          ],
          "scattergl": [
           {
            "marker": {
             "colorbar": {
              "outlinewidth": 0,
              "ticks": ""
             }
            },
            "type": "scattergl"
           }
          ],
          "scattermap": [
           {
            "marker": {
             "colorbar": {
              "outlinewidth": 0,
              "ticks": ""
             }
            },
            "type": "scattermap"
           }
          ],
          "scattermapbox": [
           {
            "marker": {
             "colorbar": {
              "outlinewidth": 0,
              "ticks": ""
             }
            },
            "type": "scattermapbox"
           }
          ],
          "scatterpolar": [
           {
            "marker": {
             "colorbar": {
              "outlinewidth": 0,
              "ticks": ""
             }
            },
            "type": "scatterpolar"
           }
          ],
          "scatterpolargl": [
           {
            "marker": {
             "colorbar": {
              "outlinewidth": 0,
              "ticks": ""
             }
            },
            "type": "scatterpolargl"
           }
          ],
          "scatterternary": [
           {
            "marker": {
             "colorbar": {
              "outlinewidth": 0,
              "ticks": ""
             }
            },
            "type": "scatterternary"
           }
          ],
          "surface": [
           {
            "colorbar": {
             "outlinewidth": 0,
             "ticks": ""
            },
            "colorscale": [
             [
              0,
              "#0d0887"
             ],
             [
              0.1111111111111111,
              "#46039f"
             ],
             [
              0.2222222222222222,
              "#7201a8"
             ],
             [
              0.3333333333333333,
              "#9c179e"
             ],
             [
              0.4444444444444444,
              "#bd3786"
             ],
             [
              0.5555555555555556,
              "#d8576b"
             ],
             [
              0.6666666666666666,
              "#ed7953"
             ],
             [
              0.7777777777777778,
              "#fb9f3a"
             ],
             [
              0.8888888888888888,
              "#fdca26"
             ],
             [
              1,
              "#f0f921"
             ]
            ],
            "type": "surface"
           }
          ],
          "table": [
           {
            "cells": {
             "fill": {
              "color": "#EBF0F8"
             },
             "line": {
              "color": "white"
             }
            },
            "header": {
             "fill": {
              "color": "#C8D4E3"
             },
             "line": {
              "color": "white"
             }
            },
            "type": "table"
           }
          ]
         },
         "layout": {
          "annotationdefaults": {
           "arrowcolor": "#2a3f5f",
           "arrowhead": 0,
           "arrowwidth": 1
          },
          "autotypenumbers": "strict",
          "coloraxis": {
           "colorbar": {
            "outlinewidth": 0,
            "ticks": ""
           }
          },
          "colorscale": {
           "diverging": [
            [
             0,
             "#8e0152"
            ],
            [
             0.1,
             "#c51b7d"
            ],
            [
             0.2,
             "#de77ae"
            ],
            [
             0.3,
             "#f1b6da"
            ],
            [
             0.4,
             "#fde0ef"
            ],
            [
             0.5,
             "#f7f7f7"
            ],
            [
             0.6,
             "#e6f5d0"
            ],
            [
             0.7,
             "#b8e186"
            ],
            [
             0.8,
             "#7fbc41"
            ],
            [
             0.9,
             "#4d9221"
            ],
            [
             1,
             "#276419"
            ]
           ],
           "sequential": [
            [
             0,
             "#0d0887"
            ],
            [
             0.1111111111111111,
             "#46039f"
            ],
            [
             0.2222222222222222,
             "#7201a8"
            ],
            [
             0.3333333333333333,
             "#9c179e"
            ],
            [
             0.4444444444444444,
             "#bd3786"
            ],
            [
             0.5555555555555556,
             "#d8576b"
            ],
            [
             0.6666666666666666,
             "#ed7953"
            ],
            [
             0.7777777777777778,
             "#fb9f3a"
            ],
            [
             0.8888888888888888,
             "#fdca26"
            ],
            [
             1,
             "#f0f921"
            ]
           ],
           "sequentialminus": [
            [
             0,
             "#0d0887"
            ],
            [
             0.1111111111111111,
             "#46039f"
            ],
            [
             0.2222222222222222,
             "#7201a8"
            ],
            [
             0.3333333333333333,
             "#9c179e"
            ],
            [
             0.4444444444444444,
             "#bd3786"
            ],
            [
             0.5555555555555556,
             "#d8576b"
            ],
            [
             0.6666666666666666,
             "#ed7953"
            ],
            [
             0.7777777777777778,
             "#fb9f3a"
            ],
            [
             0.8888888888888888,
             "#fdca26"
            ],
            [
             1,
             "#f0f921"
            ]
           ]
          },
          "colorway": [
           "#636efa",
           "#EF553B",
           "#00cc96",
           "#ab63fa",
           "#FFA15A",
           "#19d3f3",
           "#FF6692",
           "#B6E880",
           "#FF97FF",
           "#FECB52"
          ],
          "font": {
           "color": "#2a3f5f"
          },
          "geo": {
           "bgcolor": "white",
           "lakecolor": "white",
           "landcolor": "#E5ECF6",
           "showlakes": true,
           "showland": true,
           "subunitcolor": "white"
          },
          "hoverlabel": {
           "align": "left"
          },
          "hovermode": "closest",
          "mapbox": {
           "style": "light"
          },
          "paper_bgcolor": "white",
          "plot_bgcolor": "#E5ECF6",
          "polar": {
           "angularaxis": {
            "gridcolor": "white",
            "linecolor": "white",
            "ticks": ""
           },
           "bgcolor": "#E5ECF6",
           "radialaxis": {
            "gridcolor": "white",
            "linecolor": "white",
            "ticks": ""
           }
          },
          "scene": {
           "xaxis": {
            "backgroundcolor": "#E5ECF6",
            "gridcolor": "white",
            "gridwidth": 2,
            "linecolor": "white",
            "showbackground": true,
            "ticks": "",
            "zerolinecolor": "white"
           },
           "yaxis": {
            "backgroundcolor": "#E5ECF6",
            "gridcolor": "white",
            "gridwidth": 2,
            "linecolor": "white",
            "showbackground": true,
            "ticks": "",
            "zerolinecolor": "white"
           },
           "zaxis": {
            "backgroundcolor": "#E5ECF6",
            "gridcolor": "white",
            "gridwidth": 2,
            "linecolor": "white",
            "showbackground": true,
            "ticks": "",
            "zerolinecolor": "white"
           }
          },
          "shapedefaults": {
           "line": {
            "color": "#2a3f5f"
           }
          },
          "ternary": {
           "aaxis": {
            "gridcolor": "white",
            "linecolor": "white",
            "ticks": ""
           },
           "baxis": {
            "gridcolor": "white",
            "linecolor": "white",
            "ticks": ""
           },
           "bgcolor": "#E5ECF6",
           "caxis": {
            "gridcolor": "white",
            "linecolor": "white",
            "ticks": ""
           }
          },
          "title": {
           "x": 0.05
          },
          "xaxis": {
           "automargin": true,
           "gridcolor": "white",
           "linecolor": "white",
           "ticks": "",
           "title": {
            "standoff": 15
           },
           "zerolinecolor": "white",
           "zerolinewidth": 2
          },
          "yaxis": {
           "automargin": true,
           "gridcolor": "white",
           "linecolor": "white",
           "ticks": "",
           "title": {
            "standoff": 15
           },
           "zerolinecolor": "white",
           "zerolinewidth": 2
          }
         }
        },
        "title": {
         "text": "US State poverty rate ranking"
        },
        "xaxis": {
         "anchor": "y",
         "domain": [
          0,
          1
         ],
         "title": {
          "text": "States"
         }
        },
        "yaxis": {
         "anchor": "x",
         "domain": [
          0,
          1
         ],
         "title": {
          "text": "Poverty rate"
         }
        }
       }
      }
     },
     "metadata": {},
     "output_type": "display_data"
    }
   ],
   "source": [
    "import plotly.express as px\n",
    "fig1 = px.bar(x=state_pov_rate['Geographic Area'], y=state_pov_rate['poverty_rate'] , title='US State poverty rate ranking')\n",
    "fig1.update_layout(xaxis_title='States', yaxis_title='Poverty rate')"
   ]
  },
  {
   "cell_type": "markdown",
   "metadata": {
    "id": "GhUibVz5z4sn"
   },
   "source": [
    "# Chart the High School Graduation Rate by US State\n",
    "\n",
    "Show the High School Graduation Rate in ascending order of US States. Which state has the lowest high school graduation rate? Which state has the highest?"
   ]
  },
  {
   "cell_type": "code",
   "execution_count": 21,
   "metadata": {},
   "outputs": [
    {
     "data": {
      "text/html": [
       "<div>\n",
       "<style scoped>\n",
       "    .dataframe tbody tr th:only-of-type {\n",
       "        vertical-align: middle;\n",
       "    }\n",
       "\n",
       "    .dataframe tbody tr th {\n",
       "        vertical-align: top;\n",
       "    }\n",
       "\n",
       "    .dataframe thead th {\n",
       "        text-align: right;\n",
       "    }\n",
       "</style>\n",
       "<table border=\"1\" class=\"dataframe\">\n",
       "  <thead>\n",
       "    <tr style=\"text-align: right;\">\n",
       "      <th></th>\n",
       "      <th>Geographic Area</th>\n",
       "      <th>City</th>\n",
       "      <th>percent_completed_hs</th>\n",
       "    </tr>\n",
       "  </thead>\n",
       "  <tbody>\n",
       "    <tr>\n",
       "      <th>0</th>\n",
       "      <td>AL</td>\n",
       "      <td>Abanda CDP</td>\n",
       "      <td>21.2</td>\n",
       "    </tr>\n",
       "    <tr>\n",
       "      <th>1</th>\n",
       "      <td>AL</td>\n",
       "      <td>Abbeville city</td>\n",
       "      <td>69.1</td>\n",
       "    </tr>\n",
       "    <tr>\n",
       "      <th>2</th>\n",
       "      <td>AL</td>\n",
       "      <td>Adamsville city</td>\n",
       "      <td>78.9</td>\n",
       "    </tr>\n",
       "    <tr>\n",
       "      <th>3</th>\n",
       "      <td>AL</td>\n",
       "      <td>Addison town</td>\n",
       "      <td>81.4</td>\n",
       "    </tr>\n",
       "    <tr>\n",
       "      <th>4</th>\n",
       "      <td>AL</td>\n",
       "      <td>Akron town</td>\n",
       "      <td>68.6</td>\n",
       "    </tr>\n",
       "  </tbody>\n",
       "</table>\n",
       "</div>"
      ],
      "text/plain": [
       "  Geographic Area             City percent_completed_hs\n",
       "0              AL       Abanda CDP                 21.2\n",
       "1              AL   Abbeville city                 69.1\n",
       "2              AL  Adamsville city                 78.9\n",
       "3              AL     Addison town                 81.4\n",
       "4              AL       Akron town                 68.6"
      ]
     },
     "execution_count": 21,
     "metadata": {},
     "output_type": "execute_result"
    }
   ],
   "source": [
    "df_pct_completed_hs.head()"
   ]
  },
  {
   "cell_type": "code",
   "execution_count": null,
   "metadata": {
    "id": "laD6W9eG0JFR"
   },
   "outputs": [],
   "source": []
  },
  {
   "cell_type": "code",
   "execution_count": 22,
   "metadata": {},
   "outputs": [
    {
     "data": {
      "text/html": [
       "<div>\n",
       "<style scoped>\n",
       "    .dataframe tbody tr th:only-of-type {\n",
       "        vertical-align: middle;\n",
       "    }\n",
       "\n",
       "    .dataframe tbody tr th {\n",
       "        vertical-align: top;\n",
       "    }\n",
       "\n",
       "    .dataframe thead th {\n",
       "        text-align: right;\n",
       "    }\n",
       "</style>\n",
       "<table border=\"1\" class=\"dataframe\">\n",
       "  <thead>\n",
       "    <tr style=\"text-align: right;\">\n",
       "      <th></th>\n",
       "      <th>Geographic Area</th>\n",
       "      <th>City</th>\n",
       "      <th>percent_completed_hs</th>\n",
       "    </tr>\n",
       "  </thead>\n",
       "  <tbody>\n",
       "    <tr>\n",
       "      <th>573</th>\n",
       "      <td>AL</td>\n",
       "      <td>Whatley CDP</td>\n",
       "      <td>-</td>\n",
       "    </tr>\n",
       "  </tbody>\n",
       "</table>\n",
       "</div>"
      ],
      "text/plain": [
       "    Geographic Area         City percent_completed_hs\n",
       "573              AL  Whatley CDP                    -"
      ]
     },
     "execution_count": 22,
     "metadata": {},
     "output_type": "execute_result"
    }
   ],
   "source": [
    "df_pct_completed_hs[df_pct_completed_hs.index == df_pct_completed_hs['percent_completed_hs'].idxmin()]"
   ]
  },
  {
   "cell_type": "code",
   "execution_count": 23,
   "metadata": {},
   "outputs": [],
   "source": [
    "from numpy import nan \n",
    "df_pct_completed_hs['percent_completed_hs'] = df_pct_completed_hs['percent_completed_hs'].replace('-', nan)"
   ]
  },
  {
   "cell_type": "code",
   "execution_count": 24,
   "metadata": {},
   "outputs": [],
   "source": [
    "df_pct_completed_hs.dropna()\n",
    "df_pct_completed_hs['percent_completed_hs'] = df_pct_completed_hs['percent_completed_hs'].astype(float)"
   ]
  },
  {
   "cell_type": "code",
   "execution_count": 25,
   "metadata": {},
   "outputs": [
    {
     "data": {
      "text/html": [
       "<div>\n",
       "<style scoped>\n",
       "    .dataframe tbody tr th:only-of-type {\n",
       "        vertical-align: middle;\n",
       "    }\n",
       "\n",
       "    .dataframe tbody tr th {\n",
       "        vertical-align: top;\n",
       "    }\n",
       "\n",
       "    .dataframe thead th {\n",
       "        text-align: right;\n",
       "    }\n",
       "</style>\n",
       "<table border=\"1\" class=\"dataframe\">\n",
       "  <thead>\n",
       "    <tr style=\"text-align: right;\">\n",
       "      <th></th>\n",
       "      <th>Geographic Area</th>\n",
       "      <th>percent_completed_hs</th>\n",
       "    </tr>\n",
       "  </thead>\n",
       "  <tbody>\n",
       "    <tr>\n",
       "      <th>0</th>\n",
       "      <td>AK</td>\n",
       "      <td>84.63</td>\n",
       "    </tr>\n",
       "    <tr>\n",
       "      <th>1</th>\n",
       "      <td>AL</td>\n",
       "      <td>80.30</td>\n",
       "    </tr>\n",
       "    <tr>\n",
       "      <th>2</th>\n",
       "      <td>AR</td>\n",
       "      <td>79.95</td>\n",
       "    </tr>\n",
       "    <tr>\n",
       "      <th>3</th>\n",
       "      <td>AZ</td>\n",
       "      <td>80.47</td>\n",
       "    </tr>\n",
       "    <tr>\n",
       "      <th>4</th>\n",
       "      <td>CA</td>\n",
       "      <td>81.96</td>\n",
       "    </tr>\n",
       "  </tbody>\n",
       "</table>\n",
       "</div>"
      ],
      "text/plain": [
       "  Geographic Area  percent_completed_hs\n",
       "0              AK                 84.63\n",
       "1              AL                 80.30\n",
       "2              AR                 79.95\n",
       "3              AZ                 80.47\n",
       "4              CA                 81.96"
      ]
     },
     "execution_count": 25,
     "metadata": {},
     "output_type": "execute_result"
    }
   ],
   "source": [
    "hs_rate_g = df_pct_completed_hs.groupby('Geographic Area').mean('percent_completed_hs').reset_index()\n",
    "hs_rate_g.head()"
   ]
  },
  {
   "cell_type": "code",
   "execution_count": 26,
   "metadata": {},
   "outputs": [
    {
     "data": {
      "text/html": [
       "<div>\n",
       "<style scoped>\n",
       "    .dataframe tbody tr th:only-of-type {\n",
       "        vertical-align: middle;\n",
       "    }\n",
       "\n",
       "    .dataframe tbody tr th {\n",
       "        vertical-align: top;\n",
       "    }\n",
       "\n",
       "    .dataframe thead th {\n",
       "        text-align: right;\n",
       "    }\n",
       "</style>\n",
       "<table border=\"1\" class=\"dataframe\">\n",
       "  <thead>\n",
       "    <tr style=\"text-align: right;\">\n",
       "      <th></th>\n",
       "      <th>Geographic Area</th>\n",
       "      <th>percent_completed_hs</th>\n",
       "    </tr>\n",
       "  </thead>\n",
       "  <tbody>\n",
       "    <tr>\n",
       "      <th>19</th>\n",
       "      <td>MA</td>\n",
       "      <td>92.40</td>\n",
       "    </tr>\n",
       "  </tbody>\n",
       "</table>\n",
       "</div>"
      ],
      "text/plain": [
       "   Geographic Area  percent_completed_hs\n",
       "19              MA                 92.40"
      ]
     },
     "execution_count": 26,
     "metadata": {},
     "output_type": "execute_result"
    }
   ],
   "source": [
    "hs_rate_g[hs_rate_g.index == hs_rate_g['percent_completed_hs'].idxmax()]"
   ]
  },
  {
   "cell_type": "code",
   "execution_count": 27,
   "metadata": {},
   "outputs": [
    {
     "data": {
      "text/html": [
       "<div>\n",
       "<style scoped>\n",
       "    .dataframe tbody tr th:only-of-type {\n",
       "        vertical-align: middle;\n",
       "    }\n",
       "\n",
       "    .dataframe tbody tr th {\n",
       "        vertical-align: top;\n",
       "    }\n",
       "\n",
       "    .dataframe thead th {\n",
       "        text-align: right;\n",
       "    }\n",
       "</style>\n",
       "<table border=\"1\" class=\"dataframe\">\n",
       "  <thead>\n",
       "    <tr style=\"text-align: right;\">\n",
       "      <th></th>\n",
       "      <th>Geographic Area</th>\n",
       "      <th>percent_completed_hs</th>\n",
       "    </tr>\n",
       "  </thead>\n",
       "  <tbody>\n",
       "    <tr>\n",
       "      <th>43</th>\n",
       "      <td>TX</td>\n",
       "      <td>75.69</td>\n",
       "    </tr>\n",
       "  </tbody>\n",
       "</table>\n",
       "</div>"
      ],
      "text/plain": [
       "   Geographic Area  percent_completed_hs\n",
       "43              TX                 75.69"
      ]
     },
     "execution_count": 27,
     "metadata": {},
     "output_type": "execute_result"
    }
   ],
   "source": [
    "hs_rate_g[hs_rate_g.index == hs_rate_g['percent_completed_hs'].idxmin()]"
   ]
  },
  {
   "cell_type": "code",
   "execution_count": 28,
   "metadata": {},
   "outputs": [
    {
     "data": {
      "application/vnd.plotly.v1+json": {
       "config": {
        "plotlyServerURL": "https://plot.ly"
       },
       "data": [
        {
         "hovertemplate": "x=%{x}<br>y=%{y}<extra></extra>",
         "legendgroup": "",
         "marker": {
          "color": "#636efa",
          "pattern": {
           "shape": ""
          }
         },
         "name": "",
         "orientation": "v",
         "showlegend": false,
         "textposition": "auto",
         "type": "bar",
         "x": [
          "MA",
          "WY",
          "HI",
          "UT",
          "CT",
          "ME",
          "NJ",
          "NH",
          "NY",
          "MT",
          "WI",
          "IA",
          "CO",
          "NE",
          "VT",
          "MN",
          "DC",
          "MI",
          "PA",
          "RI",
          "DE",
          "IL",
          "MD",
          "OH",
          "OR",
          "KS",
          "WA",
          "ND",
          "SD",
          "NV",
          "IN",
          "FL",
          "ID",
          "VA",
          "AK",
          "MO",
          "NC",
          "OK",
          "KY",
          "WV",
          "CA",
          "TN",
          "NM",
          "SC",
          "AZ",
          "AL",
          "AR",
          "LA",
          "GA",
          "MS",
          "TX"
         ],
         "xaxis": "x",
         "y": {
          "bdata": "MEo1edwZV0BX82Y1bwZXQGIqMZWY6lZA+xxSE4znVkDe3d3d3eVWQLmRG7mR21ZAEViuRae2VkBneRKZhq1WQBh1ZUBHp1ZAHeHcbkKfVkAPIxzJ5JBWQARFCFIvh1ZAMm2zJNOGVkAqYeU7OX9WQDnCud2EflZATQEDuctdVkAzMzMzM1NWQNv7zUhKTVZAIqYWUX9BVkDMzMzMzDRWQP2EOCs/IVZAVYrYu/AeVkCfsCfsCRtWQOaW2e0NFlZAxNo3rH0TVkDycPenvw5WQD6d5RilDFZAGARWDi30VUAAAAAAQPBVQN3IjdzI7VVACKI71W6UVUB0GBVZOG9VQJduEoPASlVAcDw0V1Y4VUACJ3ACJyhVQM3MzMxs4VRAlRyqHvfPVEAYUEQ6ObpUQMHeMTWwl1RA29CEShWWVECsTavCJX1UQOkfnvhkaFRAjuM4juM+VECjtnlTZDZUQN9aMT/lHVRANM4CbD4TVEBx9pQ6xfxTQK+FsXiJ0lNAzczMzMzAU0CxEF0/IJ5TQFyPwvUo7FJA",
          "dtype": "f8"
         },
         "yaxis": "y"
        }
       ],
       "layout": {
        "barmode": "relative",
        "legend": {
         "tracegroupgap": 0
        },
        "template": {
         "data": {
          "bar": [
           {
            "error_x": {
             "color": "#2a3f5f"
            },
            "error_y": {
             "color": "#2a3f5f"
            },
            "marker": {
             "line": {
              "color": "#E5ECF6",
              "width": 0.5
             },
             "pattern": {
              "fillmode": "overlay",
              "size": 10,
              "solidity": 0.2
             }
            },
            "type": "bar"
           }
          ],
          "barpolar": [
           {
            "marker": {
             "line": {
              "color": "#E5ECF6",
              "width": 0.5
             },
             "pattern": {
              "fillmode": "overlay",
              "size": 10,
              "solidity": 0.2
             }
            },
            "type": "barpolar"
           }
          ],
          "carpet": [
           {
            "aaxis": {
             "endlinecolor": "#2a3f5f",
             "gridcolor": "white",
             "linecolor": "white",
             "minorgridcolor": "white",
             "startlinecolor": "#2a3f5f"
            },
            "baxis": {
             "endlinecolor": "#2a3f5f",
             "gridcolor": "white",
             "linecolor": "white",
             "minorgridcolor": "white",
             "startlinecolor": "#2a3f5f"
            },
            "type": "carpet"
           }
          ],
          "choropleth": [
           {
            "colorbar": {
             "outlinewidth": 0,
             "ticks": ""
            },
            "type": "choropleth"
           }
          ],
          "contour": [
           {
            "colorbar": {
             "outlinewidth": 0,
             "ticks": ""
            },
            "colorscale": [
             [
              0,
              "#0d0887"
             ],
             [
              0.1111111111111111,
              "#46039f"
             ],
             [
              0.2222222222222222,
              "#7201a8"
             ],
             [
              0.3333333333333333,
              "#9c179e"
             ],
             [
              0.4444444444444444,
              "#bd3786"
             ],
             [
              0.5555555555555556,
              "#d8576b"
             ],
             [
              0.6666666666666666,
              "#ed7953"
             ],
             [
              0.7777777777777778,
              "#fb9f3a"
             ],
             [
              0.8888888888888888,
              "#fdca26"
             ],
             [
              1,
              "#f0f921"
             ]
            ],
            "type": "contour"
           }
          ],
          "contourcarpet": [
           {
            "colorbar": {
             "outlinewidth": 0,
             "ticks": ""
            },
            "type": "contourcarpet"
           }
          ],
          "heatmap": [
           {
            "colorbar": {
             "outlinewidth": 0,
             "ticks": ""
            },
            "colorscale": [
             [
              0,
              "#0d0887"
             ],
             [
              0.1111111111111111,
              "#46039f"
             ],
             [
              0.2222222222222222,
              "#7201a8"
             ],
             [
              0.3333333333333333,
              "#9c179e"
             ],
             [
              0.4444444444444444,
              "#bd3786"
             ],
             [
              0.5555555555555556,
              "#d8576b"
             ],
             [
              0.6666666666666666,
              "#ed7953"
             ],
             [
              0.7777777777777778,
              "#fb9f3a"
             ],
             [
              0.8888888888888888,
              "#fdca26"
             ],
             [
              1,
              "#f0f921"
             ]
            ],
            "type": "heatmap"
           }
          ],
          "histogram": [
           {
            "marker": {
             "pattern": {
              "fillmode": "overlay",
              "size": 10,
              "solidity": 0.2
             }
            },
            "type": "histogram"
           }
          ],
          "histogram2d": [
           {
            "colorbar": {
             "outlinewidth": 0,
             "ticks": ""
            },
            "colorscale": [
             [
              0,
              "#0d0887"
             ],
             [
              0.1111111111111111,
              "#46039f"
             ],
             [
              0.2222222222222222,
              "#7201a8"
             ],
             [
              0.3333333333333333,
              "#9c179e"
             ],
             [
              0.4444444444444444,
              "#bd3786"
             ],
             [
              0.5555555555555556,
              "#d8576b"
             ],
             [
              0.6666666666666666,
              "#ed7953"
             ],
             [
              0.7777777777777778,
              "#fb9f3a"
             ],
             [
              0.8888888888888888,
              "#fdca26"
             ],
             [
              1,
              "#f0f921"
             ]
            ],
            "type": "histogram2d"
           }
          ],
          "histogram2dcontour": [
           {
            "colorbar": {
             "outlinewidth": 0,
             "ticks": ""
            },
            "colorscale": [
             [
              0,
              "#0d0887"
             ],
             [
              0.1111111111111111,
              "#46039f"
             ],
             [
              0.2222222222222222,
              "#7201a8"
             ],
             [
              0.3333333333333333,
              "#9c179e"
             ],
             [
              0.4444444444444444,
              "#bd3786"
             ],
             [
              0.5555555555555556,
              "#d8576b"
             ],
             [
              0.6666666666666666,
              "#ed7953"
             ],
             [
              0.7777777777777778,
              "#fb9f3a"
             ],
             [
              0.8888888888888888,
              "#fdca26"
             ],
             [
              1,
              "#f0f921"
             ]
            ],
            "type": "histogram2dcontour"
           }
          ],
          "mesh3d": [
           {
            "colorbar": {
             "outlinewidth": 0,
             "ticks": ""
            },
            "type": "mesh3d"
           }
          ],
          "parcoords": [
           {
            "line": {
             "colorbar": {
              "outlinewidth": 0,
              "ticks": ""
             }
            },
            "type": "parcoords"
           }
          ],
          "pie": [
           {
            "automargin": true,
            "type": "pie"
           }
          ],
          "scatter": [
           {
            "fillpattern": {
             "fillmode": "overlay",
             "size": 10,
             "solidity": 0.2
            },
            "type": "scatter"
           }
          ],
          "scatter3d": [
           {
            "line": {
             "colorbar": {
              "outlinewidth": 0,
              "ticks": ""
             }
            },
            "marker": {
             "colorbar": {
              "outlinewidth": 0,
              "ticks": ""
             }
            },
            "type": "scatter3d"
           }
          ],
          "scattercarpet": [
           {
            "marker": {
             "colorbar": {
              "outlinewidth": 0,
              "ticks": ""
             }
            },
            "type": "scattercarpet"
           }
          ],
          "scattergeo": [
           {
            "marker": {
             "colorbar": {
              "outlinewidth": 0,
              "ticks": ""
             }
            },
            "type": "scattergeo"
           }
          ],
          "scattergl": [
           {
            "marker": {
             "colorbar": {
              "outlinewidth": 0,
              "ticks": ""
             }
            },
            "type": "scattergl"
           }
          ],
          "scattermap": [
           {
            "marker": {
             "colorbar": {
              "outlinewidth": 0,
              "ticks": ""
             }
            },
            "type": "scattermap"
           }
          ],
          "scattermapbox": [
           {
            "marker": {
             "colorbar": {
              "outlinewidth": 0,
              "ticks": ""
             }
            },
            "type": "scattermapbox"
           }
          ],
          "scatterpolar": [
           {
            "marker": {
             "colorbar": {
              "outlinewidth": 0,
              "ticks": ""
             }
            },
            "type": "scatterpolar"
           }
          ],
          "scatterpolargl": [
           {
            "marker": {
             "colorbar": {
              "outlinewidth": 0,
              "ticks": ""
             }
            },
            "type": "scatterpolargl"
           }
          ],
          "scatterternary": [
           {
            "marker": {
             "colorbar": {
              "outlinewidth": 0,
              "ticks": ""
             }
            },
            "type": "scatterternary"
           }
          ],
          "surface": [
           {
            "colorbar": {
             "outlinewidth": 0,
             "ticks": ""
            },
            "colorscale": [
             [
              0,
              "#0d0887"
             ],
             [
              0.1111111111111111,
              "#46039f"
             ],
             [
              0.2222222222222222,
              "#7201a8"
             ],
             [
              0.3333333333333333,
              "#9c179e"
             ],
             [
              0.4444444444444444,
              "#bd3786"
             ],
             [
              0.5555555555555556,
              "#d8576b"
             ],
             [
              0.6666666666666666,
              "#ed7953"
             ],
             [
              0.7777777777777778,
              "#fb9f3a"
             ],
             [
              0.8888888888888888,
              "#fdca26"
             ],
             [
              1,
              "#f0f921"
             ]
            ],
            "type": "surface"
           }
          ],
          "table": [
           {
            "cells": {
             "fill": {
              "color": "#EBF0F8"
             },
             "line": {
              "color": "white"
             }
            },
            "header": {
             "fill": {
              "color": "#C8D4E3"
             },
             "line": {
              "color": "white"
             }
            },
            "type": "table"
           }
          ]
         },
         "layout": {
          "annotationdefaults": {
           "arrowcolor": "#2a3f5f",
           "arrowhead": 0,
           "arrowwidth": 1
          },
          "autotypenumbers": "strict",
          "coloraxis": {
           "colorbar": {
            "outlinewidth": 0,
            "ticks": ""
           }
          },
          "colorscale": {
           "diverging": [
            [
             0,
             "#8e0152"
            ],
            [
             0.1,
             "#c51b7d"
            ],
            [
             0.2,
             "#de77ae"
            ],
            [
             0.3,
             "#f1b6da"
            ],
            [
             0.4,
             "#fde0ef"
            ],
            [
             0.5,
             "#f7f7f7"
            ],
            [
             0.6,
             "#e6f5d0"
            ],
            [
             0.7,
             "#b8e186"
            ],
            [
             0.8,
             "#7fbc41"
            ],
            [
             0.9,
             "#4d9221"
            ],
            [
             1,
             "#276419"
            ]
           ],
           "sequential": [
            [
             0,
             "#0d0887"
            ],
            [
             0.1111111111111111,
             "#46039f"
            ],
            [
             0.2222222222222222,
             "#7201a8"
            ],
            [
             0.3333333333333333,
             "#9c179e"
            ],
            [
             0.4444444444444444,
             "#bd3786"
            ],
            [
             0.5555555555555556,
             "#d8576b"
            ],
            [
             0.6666666666666666,
             "#ed7953"
            ],
            [
             0.7777777777777778,
             "#fb9f3a"
            ],
            [
             0.8888888888888888,
             "#fdca26"
            ],
            [
             1,
             "#f0f921"
            ]
           ],
           "sequentialminus": [
            [
             0,
             "#0d0887"
            ],
            [
             0.1111111111111111,
             "#46039f"
            ],
            [
             0.2222222222222222,
             "#7201a8"
            ],
            [
             0.3333333333333333,
             "#9c179e"
            ],
            [
             0.4444444444444444,
             "#bd3786"
            ],
            [
             0.5555555555555556,
             "#d8576b"
            ],
            [
             0.6666666666666666,
             "#ed7953"
            ],
            [
             0.7777777777777778,
             "#fb9f3a"
            ],
            [
             0.8888888888888888,
             "#fdca26"
            ],
            [
             1,
             "#f0f921"
            ]
           ]
          },
          "colorway": [
           "#636efa",
           "#EF553B",
           "#00cc96",
           "#ab63fa",
           "#FFA15A",
           "#19d3f3",
           "#FF6692",
           "#B6E880",
           "#FF97FF",
           "#FECB52"
          ],
          "font": {
           "color": "#2a3f5f"
          },
          "geo": {
           "bgcolor": "white",
           "lakecolor": "white",
           "landcolor": "#E5ECF6",
           "showlakes": true,
           "showland": true,
           "subunitcolor": "white"
          },
          "hoverlabel": {
           "align": "left"
          },
          "hovermode": "closest",
          "mapbox": {
           "style": "light"
          },
          "paper_bgcolor": "white",
          "plot_bgcolor": "#E5ECF6",
          "polar": {
           "angularaxis": {
            "gridcolor": "white",
            "linecolor": "white",
            "ticks": ""
           },
           "bgcolor": "#E5ECF6",
           "radialaxis": {
            "gridcolor": "white",
            "linecolor": "white",
            "ticks": ""
           }
          },
          "scene": {
           "xaxis": {
            "backgroundcolor": "#E5ECF6",
            "gridcolor": "white",
            "gridwidth": 2,
            "linecolor": "white",
            "showbackground": true,
            "ticks": "",
            "zerolinecolor": "white"
           },
           "yaxis": {
            "backgroundcolor": "#E5ECF6",
            "gridcolor": "white",
            "gridwidth": 2,
            "linecolor": "white",
            "showbackground": true,
            "ticks": "",
            "zerolinecolor": "white"
           },
           "zaxis": {
            "backgroundcolor": "#E5ECF6",
            "gridcolor": "white",
            "gridwidth": 2,
            "linecolor": "white",
            "showbackground": true,
            "ticks": "",
            "zerolinecolor": "white"
           }
          },
          "shapedefaults": {
           "line": {
            "color": "#2a3f5f"
           }
          },
          "ternary": {
           "aaxis": {
            "gridcolor": "white",
            "linecolor": "white",
            "ticks": ""
           },
           "baxis": {
            "gridcolor": "white",
            "linecolor": "white",
            "ticks": ""
           },
           "bgcolor": "#E5ECF6",
           "caxis": {
            "gridcolor": "white",
            "linecolor": "white",
            "ticks": ""
           }
          },
          "title": {
           "x": 0.05
          },
          "xaxis": {
           "automargin": true,
           "gridcolor": "white",
           "linecolor": "white",
           "ticks": "",
           "title": {
            "standoff": 15
           },
           "zerolinecolor": "white",
           "zerolinewidth": 2
          },
          "yaxis": {
           "automargin": true,
           "gridcolor": "white",
           "linecolor": "white",
           "ticks": "",
           "title": {
            "standoff": 15
           },
           "zerolinecolor": "white",
           "zerolinewidth": 2
          }
         }
        },
        "title": {
         "text": "High School Graduation Rate by US State"
        },
        "xaxis": {
         "anchor": "y",
         "domain": [
          0,
          1
         ],
         "title": {
          "text": "US states"
         }
        },
        "yaxis": {
         "anchor": "x",
         "domain": [
          0,
          1
         ],
         "title": {
          "text": "HS rate"
         }
        }
       }
      }
     },
     "metadata": {},
     "output_type": "display_data"
    }
   ],
   "source": [
    "hs_rate_g.sort_values(by='percent_completed_hs', ascending=False, inplace=True)\n",
    "fig2 = px.bar(x=hs_rate_g['Geographic Area'], y=hs_rate_g['percent_completed_hs'], title='High School Graduation Rate by US State')\n",
    "fig2.update_layout(xaxis_title='US states', yaxis_title='HS rate')"
   ]
  },
  {
   "cell_type": "markdown",
   "metadata": {
    "id": "ENGTEmPQ0Rvt"
   },
   "source": [
    "# Visualise the Relationship between Poverty Rates and High School Graduation Rates\n",
    "\n",
    "#### Create a line chart with two y-axes to show if the rations of poverty and high school graduation move together.  "
   ]
  },
  {
   "cell_type": "code",
   "execution_count": 29,
   "metadata": {
    "id": "MkNk5U8v0JPB"
   },
   "outputs": [
    {
     "data": {
      "text/html": [
       "<div>\n",
       "<style scoped>\n",
       "    .dataframe tbody tr th:only-of-type {\n",
       "        vertical-align: middle;\n",
       "    }\n",
       "\n",
       "    .dataframe tbody tr th {\n",
       "        vertical-align: top;\n",
       "    }\n",
       "\n",
       "    .dataframe thead th {\n",
       "        text-align: right;\n",
       "    }\n",
       "</style>\n",
       "<table border=\"1\" class=\"dataframe\">\n",
       "  <thead>\n",
       "    <tr style=\"text-align: right;\">\n",
       "      <th></th>\n",
       "      <th>Geographic Area</th>\n",
       "      <th>percent_completed_hs</th>\n",
       "      <th>poverty_rate</th>\n",
       "    </tr>\n",
       "  </thead>\n",
       "  <tbody>\n",
       "    <tr>\n",
       "      <th>0</th>\n",
       "      <td>MA</td>\n",
       "      <td>92.40</td>\n",
       "      <td>9.55</td>\n",
       "    </tr>\n",
       "    <tr>\n",
       "      <th>1</th>\n",
       "      <td>WY</td>\n",
       "      <td>92.10</td>\n",
       "      <td>9.06</td>\n",
       "    </tr>\n",
       "    <tr>\n",
       "      <th>2</th>\n",
       "      <td>HI</td>\n",
       "      <td>91.67</td>\n",
       "      <td>13.40</td>\n",
       "    </tr>\n",
       "    <tr>\n",
       "      <th>3</th>\n",
       "      <td>UT</td>\n",
       "      <td>91.62</td>\n",
       "      <td>11.72</td>\n",
       "    </tr>\n",
       "    <tr>\n",
       "      <th>4</th>\n",
       "      <td>CT</td>\n",
       "      <td>91.59</td>\n",
       "      <td>9.14</td>\n",
       "    </tr>\n",
       "  </tbody>\n",
       "</table>\n",
       "</div>"
      ],
      "text/plain": [
       "  Geographic Area  percent_completed_hs  poverty_rate\n",
       "0              MA                 92.40          9.55\n",
       "1              WY                 92.10          9.06\n",
       "2              HI                 91.67         13.40\n",
       "3              UT                 91.62         11.72\n",
       "4              CT                 91.59          9.14"
      ]
     },
     "execution_count": 29,
     "metadata": {},
     "output_type": "execute_result"
    }
   ],
   "source": [
    "pov_vs_hs = pd.merge(hs_rate_g, state_pov_rate, on='Geographic Area')\n",
    "pov_vs_hs.head()"
   ]
  },
  {
   "cell_type": "code",
   "execution_count": 30,
   "metadata": {
    "id": "urRMqQG_0Nmo"
   },
   "outputs": [
    {
     "data": {
      "text/plain": [
       "Text(0, 0.5, 'Poverty rate')"
      ]
     },
     "execution_count": 30,
     "metadata": {},
     "output_type": "execute_result"
    },
    {
     "data": {
      "image/png": "[encoded data removed]",
      "text/plain": [
       "<Figure size 1800x500 with 2 Axes>"
      ]
     },
     "metadata": {},
     "output_type": "display_data"
    }
   ],
   "source": [
    "fig3 = plt.figure(figsize=(18,5))\n",
    "ax1 = plt.gca() #GetCurrentAxis\n",
    "ax1.bar(pov_vs_hs['Geographic Area'], pov_vs_hs['percent_completed_hs'])\n",
    "ax1.set_xlabel('US states', size=20)\n",
    "ax1.set_ylabel('HS completion rate', color='b', size=20)\n",
    "\n",
    "ax2 = plt.twinx()\n",
    "ax2.bar(pov_vs_hs['Geographic Area'], pov_vs_hs['poverty_rate'], color='y')\n",
    "ax2.set_ylabel('Poverty rate',  color='y', size=20)"
   ]
  },
  {
   "cell_type": "markdown",
   "metadata": {
    "id": "Zavx_8PL1Jy9"
   },
   "source": [
    "#### Now use a Seaborn .jointplot() with a Kernel Density Estimate (KDE) and/or scatter plot to visualise the same relationship"
   ]
  },
  {
   "cell_type": "code",
   "execution_count": 31,
   "metadata": {
    "id": "u77CHfdX0pjW"
   },
   "outputs": [
    {
     "data": {
      "image/png": "[encoded data removed]",
      "text/plain": [
       "<Figure size 600x600 with 3 Axes>"
      ]
     },
     "metadata": {},
     "output_type": "display_data"
    }
   ],
   "source": [
    "import seaborn as sns\n",
    "sns.jointplot(pov_vs_hs, x='poverty_rate', y='percent_completed_hs')\n",
    "plt.suptitle('Rel between poverty_rate and HS_completion', y=1.02)\n",
    "plt.show()"
   ]
  },
  {
   "cell_type": "markdown",
   "metadata": {
    "id": "PXNFQmHl10Fx"
   },
   "source": [
    "#### Seaborn's `.lmplot()` or `.regplot()` to show a linear regression between the poverty ratio and the high school graduation ratio. "
   ]
  },
  {
   "cell_type": "code",
   "execution_count": 32,
   "metadata": {
    "id": "F1xrjFgT1znI"
   },
   "outputs": [
    {
     "data": {
      "text/plain": [
       "<Axes: xlabel='poverty_rate', ylabel='percent_completed_hs'>"
      ]
     },
     "execution_count": 32,
     "metadata": {},
     "output_type": "execute_result"
    },
    {
     "data": {
      "image/png": "[encoded data removed]",
      "text/plain": [
       "<Figure size 640x480 with 1 Axes>"
      ]
     },
     "metadata": {},
     "output_type": "display_data"
    }
   ],
   "source": [
    "sns.regplot(data=pov_vs_hs, \n",
    "            x='poverty_rate',\n",
    "            y='percent_completed_hs')"
   ]
  },
  {
   "cell_type": "markdown",
   "metadata": {
    "id": "QJTbZZKg0p6i"
   },
   "source": [
    "# Create a Bar Chart with Subsections Showing the Racial Makeup of Each US State\n",
    "\n",
    "Visualise the share of the white, black, hispanic, asian and native american population in each US State using a bar chart with sub sections. "
   ]
  },
  {
   "cell_type": "code",
   "execution_count": 33,
   "metadata": {
    "id": "YQbXb6Ex09D9"
   },
   "outputs": [
    {
     "data": {
      "text/html": [
       "<div>\n",
       "<style scoped>\n",
       "    .dataframe tbody tr th:only-of-type {\n",
       "        vertical-align: middle;\n",
       "    }\n",
       "\n",
       "    .dataframe tbody tr th {\n",
       "        vertical-align: top;\n",
       "    }\n",
       "\n",
       "    .dataframe thead th {\n",
       "        text-align: right;\n",
       "    }\n",
       "</style>\n",
       "<table border=\"1\" class=\"dataframe\">\n",
       "  <thead>\n",
       "    <tr style=\"text-align: right;\">\n",
       "      <th></th>\n",
       "      <th>Geographic area</th>\n",
       "      <th>City</th>\n",
       "      <th>share_white</th>\n",
       "      <th>share_black</th>\n",
       "      <th>share_native_american</th>\n",
       "      <th>share_asian</th>\n",
       "      <th>share_hispanic</th>\n",
       "    </tr>\n",
       "  </thead>\n",
       "  <tbody>\n",
       "    <tr>\n",
       "      <th>0</th>\n",
       "      <td>AL</td>\n",
       "      <td>Abanda CDP</td>\n",
       "      <td>67.2</td>\n",
       "      <td>30.2</td>\n",
       "      <td>0</td>\n",
       "      <td>0</td>\n",
       "      <td>1.6</td>\n",
       "    </tr>\n",
       "    <tr>\n",
       "      <th>1</th>\n",
       "      <td>AL</td>\n",
       "      <td>Abbeville city</td>\n",
       "      <td>54.4</td>\n",
       "      <td>41.4</td>\n",
       "      <td>0.1</td>\n",
       "      <td>1</td>\n",
       "      <td>3.1</td>\n",
       "    </tr>\n",
       "    <tr>\n",
       "      <th>2</th>\n",
       "      <td>AL</td>\n",
       "      <td>Adamsville city</td>\n",
       "      <td>52.3</td>\n",
       "      <td>44.9</td>\n",
       "      <td>0.5</td>\n",
       "      <td>0.3</td>\n",
       "      <td>2.3</td>\n",
       "    </tr>\n",
       "    <tr>\n",
       "      <th>3</th>\n",
       "      <td>AL</td>\n",
       "      <td>Addison town</td>\n",
       "      <td>99.1</td>\n",
       "      <td>0.1</td>\n",
       "      <td>0</td>\n",
       "      <td>0.1</td>\n",
       "      <td>0.4</td>\n",
       "    </tr>\n",
       "    <tr>\n",
       "      <th>4</th>\n",
       "      <td>AL</td>\n",
       "      <td>Akron town</td>\n",
       "      <td>13.2</td>\n",
       "      <td>86.5</td>\n",
       "      <td>0</td>\n",
       "      <td>0</td>\n",
       "      <td>0.3</td>\n",
       "    </tr>\n",
       "  </tbody>\n",
       "</table>\n",
       "</div>"
      ],
      "text/plain": [
       "  Geographic area             City share_white share_black  \\\n",
       "0              AL       Abanda CDP        67.2        30.2   \n",
       "1              AL   Abbeville city        54.4        41.4   \n",
       "2              AL  Adamsville city        52.3        44.9   \n",
       "3              AL     Addison town        99.1         0.1   \n",
       "4              AL       Akron town        13.2        86.5   \n",
       "\n",
       "  share_native_american share_asian share_hispanic  \n",
       "0                     0           0            1.6  \n",
       "1                   0.1           1            3.1  \n",
       "2                   0.5         0.3            2.3  \n",
       "3                     0         0.1            0.4  \n",
       "4                     0           0            0.3  "
      ]
     },
     "execution_count": 33,
     "metadata": {},
     "output_type": "execute_result"
    }
   ],
   "source": [
    "df_share_race_city.head()"
   ]
  },
  {
   "cell_type": "code",
   "execution_count": 34,
   "metadata": {},
   "outputs": [],
   "source": [
    "df_share_race_city = df_share_race_city[df_share_race_city['share_hispanic'] != '(X)']"
   ]
  },
  {
   "cell_type": "code",
   "execution_count": 35,
   "metadata": {},
   "outputs": [],
   "source": [
    "df_share_race_city[['share_white', 'share_black', 'share_native_american', 'share_asian', 'share_hispanic']] = df_share_race_city[['share_white', 'share_black', 'share_native_american', 'share_asian', 'share_hispanic']].astype(float)"
   ]
  },
  {
   "cell_type": "code",
   "execution_count": 36,
   "metadata": {},
   "outputs": [
    {
     "name": "stdout",
     "output_type": "stream",
     "text": [
      "<class 'pandas.core.frame.DataFrame'>\n",
      "Index: 29248 entries, 0 to 29267\n",
      "Data columns (total 7 columns):\n",
      " #   Column                 Non-Null Count  Dtype  \n",
      "---  ------                 --------------  -----  \n",
      " 0   Geographic area        29248 non-null  object \n",
      " 1   City                   29248 non-null  object \n",
      " 2   share_white            29248 non-null  float64\n",
      " 3   share_black            29248 non-null  float64\n",
      " 4   share_native_american  29248 non-null  float64\n",
      " 5   share_asian            29248 non-null  float64\n",
      " 6   share_hispanic         29248 non-null  float64\n",
      "dtypes: float64(5), object(2)\n",
      "memory usage: 1.8+ MB\n"
     ]
    }
   ],
   "source": [
    "df_share_race_city.info()"
   ]
  },
  {
   "cell_type": "code",
   "execution_count": 37,
   "metadata": {
    "id": "LqrimlLo09Na"
   },
   "outputs": [
    {
     "data": {
      "text/html": [
       "<div>\n",
       "<style scoped>\n",
       "    .dataframe tbody tr th:only-of-type {\n",
       "        vertical-align: middle;\n",
       "    }\n",
       "\n",
       "    .dataframe tbody tr th {\n",
       "        vertical-align: top;\n",
       "    }\n",
       "\n",
       "    .dataframe thead th {\n",
       "        text-align: right;\n",
       "    }\n",
       "</style>\n",
       "<table border=\"1\" class=\"dataframe\">\n",
       "  <thead>\n",
       "    <tr style=\"text-align: right;\">\n",
       "      <th></th>\n",
       "      <th>share_white</th>\n",
       "      <th>share_black</th>\n",
       "      <th>share_native_american</th>\n",
       "      <th>share_asian</th>\n",
       "      <th>share_hispanic</th>\n",
       "    </tr>\n",
       "    <tr>\n",
       "      <th>Geographic area</th>\n",
       "      <th></th>\n",
       "      <th></th>\n",
       "      <th></th>\n",
       "      <th></th>\n",
       "      <th></th>\n",
       "    </tr>\n",
       "  </thead>\n",
       "  <tbody>\n",
       "    <tr>\n",
       "      <th>AK</th>\n",
       "      <td>45.65</td>\n",
       "      <td>0.57</td>\n",
       "      <td>45.86</td>\n",
       "      <td>1.39</td>\n",
       "      <td>2.15</td>\n",
       "    </tr>\n",
       "    <tr>\n",
       "      <th>AL</th>\n",
       "      <td>72.51</td>\n",
       "      <td>23.32</td>\n",
       "      <td>0.66</td>\n",
       "      <td>0.48</td>\n",
       "      <td>2.98</td>\n",
       "    </tr>\n",
       "    <tr>\n",
       "      <th>AR</th>\n",
       "      <td>78.45</td>\n",
       "      <td>16.30</td>\n",
       "      <td>0.76</td>\n",
       "      <td>0.48</td>\n",
       "      <td>4.27</td>\n",
       "    </tr>\n",
       "    <tr>\n",
       "      <th>AZ</th>\n",
       "      <td>59.93</td>\n",
       "      <td>0.95</td>\n",
       "      <td>28.59</td>\n",
       "      <td>0.73</td>\n",
       "      <td>20.14</td>\n",
       "    </tr>\n",
       "    <tr>\n",
       "      <th>CA</th>\n",
       "      <td>71.87</td>\n",
       "      <td>2.69</td>\n",
       "      <td>1.72</td>\n",
       "      <td>5.57</td>\n",
       "      <td>29.65</td>\n",
       "    </tr>\n",
       "  </tbody>\n",
       "</table>\n",
       "</div>"
      ],
      "text/plain": [
       "                 share_white  share_black  share_native_american  share_asian  \\\n",
       "Geographic area                                                                 \n",
       "AK                     45.65         0.57                  45.86         1.39   \n",
       "AL                     72.51        23.32                   0.66         0.48   \n",
       "AR                     78.45        16.30                   0.76         0.48   \n",
       "AZ                     59.93         0.95                  28.59         0.73   \n",
       "CA                     71.87         2.69                   1.72         5.57   \n",
       "\n",
       "                 share_hispanic  \n",
       "Geographic area                  \n",
       "AK                         2.15  \n",
       "AL                         2.98  \n",
       "AR                         4.27  \n",
       "AZ                        20.14  \n",
       "CA                        29.65  "
      ]
     },
     "execution_count": 37,
     "metadata": {},
     "output_type": "execute_result"
    }
   ],
   "source": [
    "share_race = df_share_race_city.groupby('Geographic area').mean(numeric_only=True)\n",
    "share_race.head()"
   ]
  },
  {
   "cell_type": "code",
   "execution_count": null,
   "metadata": {},
   "outputs": [],
   "source": []
  },
  {
   "cell_type": "code",
   "execution_count": 38,
   "metadata": {},
   "outputs": [
    {
     "data": {
      "text/html": [
       "<div>\n",
       "<style scoped>\n",
       "    .dataframe tbody tr th:only-of-type {\n",
       "        vertical-align: middle;\n",
       "    }\n",
       "\n",
       "    .dataframe tbody tr th {\n",
       "        vertical-align: top;\n",
       "    }\n",
       "\n",
       "    .dataframe thead th {\n",
       "        text-align: right;\n",
       "    }\n",
       "</style>\n",
       "<table border=\"1\" class=\"dataframe\">\n",
       "  <thead>\n",
       "    <tr style=\"text-align: right;\">\n",
       "      <th></th>\n",
       "      <th>Area</th>\n",
       "      <th>Race</th>\n",
       "      <th>Count</th>\n",
       "    </tr>\n",
       "  </thead>\n",
       "  <tbody>\n",
       "    <tr>\n",
       "      <th>0</th>\n",
       "      <td>AK</td>\n",
       "      <td>share_white</td>\n",
       "      <td>45.65</td>\n",
       "    </tr>\n",
       "    <tr>\n",
       "      <th>1</th>\n",
       "      <td>AK</td>\n",
       "      <td>share_black</td>\n",
       "      <td>0.57</td>\n",
       "    </tr>\n",
       "    <tr>\n",
       "      <th>2</th>\n",
       "      <td>AK</td>\n",
       "      <td>share_native_american</td>\n",
       "      <td>45.86</td>\n",
       "    </tr>\n",
       "    <tr>\n",
       "      <th>3</th>\n",
       "      <td>AK</td>\n",
       "      <td>share_asian</td>\n",
       "      <td>1.39</td>\n",
       "    </tr>\n",
       "    <tr>\n",
       "      <th>4</th>\n",
       "      <td>AK</td>\n",
       "      <td>share_hispanic</td>\n",
       "      <td>2.15</td>\n",
       "    </tr>\n",
       "  </tbody>\n",
       "</table>\n",
       "</div>"
      ],
      "text/plain": [
       "  Area                   Race  Count\n",
       "0   AK            share_white  45.65\n",
       "1   AK            share_black   0.57\n",
       "2   AK  share_native_american  45.86\n",
       "3   AK            share_asian   1.39\n",
       "4   AK         share_hispanic   2.15"
      ]
     },
     "execution_count": 38,
     "metadata": {},
     "output_type": "execute_result"
    }
   ],
   "source": [
    "stack_race = share_race.stack().reset_index()\n",
    "stack_race.columns = ['Area', 'Race', 'Count']\n",
    "stack_race.head()"
   ]
  },
  {
   "cell_type": "code",
   "execution_count": 39,
   "metadata": {},
   "outputs": [
    {
     "data": {
      "application/vnd.plotly.v1+json": {
       "config": {
        "plotlyServerURL": "https://plot.ly"
       },
       "data": [
        {
         "hovertemplate": "color=share_white<br>x=%{x}<br>y=%{y}<extra></extra>",
         "legendgroup": "share_white",
         "marker": {
          "color": "#636efa",
          "pattern": {
           "shape": ""
          }
         },
         "name": "share_white",
         "orientation": "v",
         "showlegend": true,
         "textposition": "auto",
         "type": "bar",
         "x": [
          "AK",
          "AL",
          "AR",
          "AZ",
          "CA",
          "CO",
          "CT",
          "DC",
          "DE",
          "FL",
          "GA",
          "HI",
          "IA",
          "ID",
          "IL",
          "IN",
          "KS",
          "KY",
          "LA",
          "MA",
          "MD",
          "ME",
          "MI",
          "MN",
          "MO",
          "MS",
          "MT",
          "NC",
          "ND",
          "NE",
          "NH",
          "NJ",
          "NM",
          "NV",
          "NY",
          "OH",
          "OK",
          "OR",
          "PA",
          "RI",
          "SC",
          "SD",
          "TN",
          "TX",
          "UT",
          "VA",
          "VT",
          "WA",
          "WI",
          "WV",
          "WY"
         ],
         "xaxis": "x",
         "y": {
          "bdata": "MzMzMzPTRkDROqQNdyBSQHH2lDrFnFNA969u/+r2TUB6yKxXcfdRQPx8GX4s8VVAyaoJD8KGVUAAAAAAAEBDQHxuiVO/D1NA16NwPQqrU0Bx+glft0tPQAGKM/hMr0BAVG92miwtWECv+aPnUzRWQKx+Dg/allZAhaxLyLq0V0Blz0Ygmz1XQN5b0tOEDldAr3CbNCI0UECTfVRRAmtWQHgL2j9zB1JAHFkkrevrV0DkHXtg+qpWQNtMGNE281ZAKk8xSWmcVkBmZmZmZuZKQBvjDf10HlVA41/oeg7hUUB1LSwOzRJXQJursu7srVdAmZmZmZnrV0ApPZE+7jhUQJFt1N7IWlBAMU6/BuOUVEBCAMoVNjhWQF63CuF1M1dAi0NpDUA7UkChRAO3COhVQM3rBfE0UFdAfn5+fn5OVkA4Wvic4/xOQKzuHRJVNFVAhG6iD508VkA4oaA94qVUQM9UrjteXFZAze+QRTemUkDhcpfgcvdXQBb8S6cPmFRAAmXDink9V0C3znkuRMJXQJ2aB7nrF1dA",
          "dtype": "f8"
         },
         "yaxis": "y"
        },
        {
         "hovertemplate": "color=share_black<br>x=%{x}<br>y=%{y}<extra></extra>",
         "legendgroup": "share_black",
         "marker": {
          "color": "#EF553B",
          "pattern": {
           "shape": ""
          }
         },
         "name": "share_black",
         "orientation": "v",
         "showlegend": true,
         "textposition": "auto",
         "type": "bar",
         "x": [
          "AK",
          "AL",
          "AR",
          "AZ",
          "CA",
          "CO",
          "CT",
          "DC",
          "DE",
          "FL",
          "GA",
          "HI",
          "IA",
          "ID",
          "IL",
          "IN",
          "KS",
          "KY",
          "LA",
          "MA",
          "MD",
          "ME",
          "MI",
          "MN",
          "MO",
          "MS",
          "MT",
          "NC",
          "ND",
          "NE",
          "NH",
          "NJ",
          "NM",
          "NV",
          "NY",
          "OH",
          "OK",
          "OR",
          "PA",
          "RI",
          "SC",
          "SD",
          "TN",
          "TX",
          "UT",
          "VA",
          "VT",
          "WA",
          "WI",
          "WV",
          "WY"
         ],
         "xaxis": "x",
         "y": {
          "bdata": "pwR5SpAn4j9HVmV0g1I3QKZsRN3+SzBAjC666KKL7j/tPLv6QIkFQIrqXyuuXe0/gh/4gR/4E0CamZmZmVlJQJg49XtuyS5AgWGbneK9KkBGJo4XMKI+QGLvShE/IvE/jwBBY2wI4j/jnfxgzuPSPxMXCDg40RJABHMyMCcD+z/BmXOPeLzuP4N9uRJArxFA/PMak4XGPkA4ipAunWoGQGxTBiDCdjNAWrXQdjA86j/5uO+WQn8QQA9zdigqA/A/5ZpvxYCEF0DWOrDJv+pEQG02/LprAM0/a73OKP1mNECGQptA7t7WP6w1yCXB6do/Z2ZmZmbm5j80y8lscuYbQKLFXlRqWOU/3kOR6j0U+T8RUy9d7AcQQJ+70Q8Drg9AMYxZnpUCC0ACerCa1vHgP5dyKZdyKQpA6Ofn5+fnB0CY5ludzmpAQI/C9Shcj9I/SlZNeBA2HUD/uO273IQXQL7NX2FWo9g/KCc0ssWCMECpqKioqKjoP18ry4FS0/Y/fE/QTwP+7T9NCEOnWlIHQHbYPTZ9kdk/",
          "dtype": "f8"
         },
         "yaxis": "y"
        },
        {
         "hovertemplate": "color=share_native_american<br>x=%{x}<br>y=%{y}<extra></extra>",
         "legendgroup": "share_native_american",
         "marker": {
          "color": "#00cc96",
          "pattern": {
           "shape": ""
          }
         },
         "name": "share_native_american",
         "orientation": "v",
         "showlegend": true,
         "textposition": "auto",
         "type": "bar",
         "x": [
          "AK",
          "AL",
          "AR",
          "AZ",
          "CA",
          "CO",
          "CT",
          "DC",
          "DE",
          "FL",
          "GA",
          "HI",
          "IA",
          "ID",
          "IL",
          "IN",
          "KS",
          "KY",
          "LA",
          "MA",
          "MD",
          "ME",
          "MI",
          "MN",
          "MO",
          "MS",
          "MT",
          "NC",
          "ND",
          "NE",
          "NH",
          "NJ",
          "NM",
          "NV",
          "NY",
          "OH",
          "OK",
          "OR",
          "PA",
          "RI",
          "SC",
          "SD",
          "TN",
          "TX",
          "UT",
          "VA",
          "VT",
          "WA",
          "WI",
          "WV",
          "WY"
         ],
         "xaxis": "x",
         "y": {
          "bdata": "9w1r37DuRkBHCs6RVRnlP6o8D+8CUeg/l9JvKf2WPEDSL7K/w5H7PwG40YaN//k/eme97TgD5T8zMzMzMzPTPyCMtGMFwuA/Uvkw7tcl3T8GwbQ7bzjTP/olMEZL1tg/AuyhBe1d0T8cvCL6hTIEQJXks0+QwdA/pwFtGtCm0T8wNUWvhfj9P28KVZhm5Mo/VcV1wCai7j/C1wAEUwrRPxxdR/m90dU/qtJL4vNw4T+5TraYfDvxP82euySz5wpAGcMHBAdr4T+Jg/etkdX5PxKfUlPuvSdAn7S/Xwac/D9EuYHo11EVQA+EYsUN9fg/Z2ZmZmZm0j9vOqp8vXPQPzkovLxJri5AYOkkB5ZOFkBepM96vB/XP3qsSmk1hss/KUsMUKbDLECBWwT0YLUEQCzdG1AmrsQ/dnV1dXV15T9HEiUuRJ7dPw102kCnDShA4CyIa1tC1D9iatTTcBXlP9zLOThD9g5AtnAhOkPo1T8Y86kX86nXP0HWf/imAA5AKoAZV2X2BEAmiq6FxaHJP2AbmlCpwghA",
          "dtype": "f8"
         },
         "yaxis": "y"
        },
        {
         "hovertemplate": "color=share_asian<br>x=%{x}<br>y=%{y}<extra></extra>",
         "legendgroup": "share_asian",
         "marker": {
          "color": "#ab63fa",
          "pattern": {
           "shape": ""
          }
         },
         "name": "share_asian",
         "orientation": "v",
         "showlegend": true,
         "textposition": "auto",
         "type": "bar",
         "x": [
          "AK",
          "AL",
          "AR",
          "AZ",
          "CA",
          "CO",
          "CT",
          "DC",
          "DE",
          "FL",
          "GA",
          "HI",
          "IA",
          "ID",
          "IL",
          "IN",
          "KS",
          "KY",
          "LA",
          "MA",
          "MD",
          "ME",
          "MI",
          "MN",
          "MO",
          "MS",
          "MT",
          "NC",
          "ND",
          "NE",
          "NH",
          "NJ",
          "NM",
          "NV",
          "NY",
          "OH",
          "OK",
          "OR",
          "PA",
          "RI",
          "SC",
          "SD",
          "TN",
          "TX",
          "UT",
          "VA",
          "VT",
          "WA",
          "WI",
          "WV",
          "WY"
         ],
         "xaxis": "x",
         "y": {
          "bdata": "9w1r37A29j/xSqX/WbTeP4EDq2F4iN4/QOcFdF5A5z/gLhO+10UWQBfGWjoTevI/1/i7eYTqB0AAAAAAAAAMQAAAAAAAAABACxi22Sne+T9utKVHUt33P31r8eirpzlASG8THZem2T+QD3UX6DXfP923YXU2ZvU/x4JxLBjH4j+WwbU2yUnbP3+ptu/mwOY/qNpMwsEq6T+xCa669tMGQHUd5fdG1wdAfdGYd1KD8D8kRvMKu4juP/Q+i7BWafA/fLuI5GeY4T/5V0ER63nhP/WsT8jsaNQ/O/1Xltqj7T8L/CI2+MjSPyIa3t9urtI/vLu7u7t79T9E6Yn0cccXQKb8moUknN8/neTA0kkOAEDuOIZrN8EFQNB67kY/DOg/GHTidjpL2z9KNHCLgB72P4PDXBXope8/AwMDAwMD+z+uR+F6FK7nP5RFWZRFWdQ/7tHBqLpk5D9YSZ6xdDzwPzVZXEbgqug/3JkwTS9aDUCNaB+NaB/tPzfY2SSfmAhA8PS+RVtO6T+huPLHWtXVP6bBEnNF79g/",
          "dtype": "f8"
         },
         "yaxis": "y"
        },
        {
         "hovertemplate": "color=share_hispanic<br>x=%{x}<br>y=%{y}<extra></extra>",
         "legendgroup": "share_hispanic",
         "marker": {
          "color": "#FFA15A",
          "pattern": {
           "shape": ""
          }
         },
         "name": "share_hispanic",
         "orientation": "v",
         "showlegend": true,
         "textposition": "auto",
         "type": "bar",
         "x": [
          "AK",
          "AL",
          "AR",
          "AZ",
          "CA",
          "CO",
          "CT",
          "DC",
          "DE",
          "FL",
          "GA",
          "HI",
          "IA",
          "ID",
          "IL",
          "IN",
          "KS",
          "KY",
          "LA",
          "MA",
          "MD",
          "ME",
          "MI",
          "MN",
          "MO",
          "MS",
          "MT",
          "NC",
          "ND",
          "NE",
          "NH",
          "NJ",
          "NM",
          "NV",
          "NY",
          "OH",
          "OK",
          "OR",
          "PA",
          "RI",
          "SC",
          "SD",
          "TN",
          "TX",
          "UT",
          "VA",
          "VT",
          "WA",
          "WI",
          "WV",
          "WY"
         ],
         "xaxis": "x",
         "y": {
          "bdata": "0UUXXXQxAUDmfBOqQNcHQFSXMbSQFxFAJSZQYgIlNEDxBQzBXaY9QGiwg4sQ5jFA+0xb4+/mH0AzMzMzMzMiQLMCYaQdqx1AprWYF3WHMECjNtrSI6kZQCdErTtwtyRAcefT8F6NBkC8sdQ/62MlQAx/QKKcrhRAjC666KKLCkC/TmiLZ0kUQCb+Um3fzQFANrmlafDPB0DGKgv1y8gTQJ3LZojSuRdApORZRvQB9T/VMDs4gkgMQNlSW5gcOwlA54Q53CbrAkBpnlALGJMCQMkLLAZUiQFA21AfhMOmGUAim73nxSr9P4FK+UbbRxBAq6qqqqrq+z/vo0Nw8T4mQK9Wnuqet0ZAfY4FyudYKkBQPiHcSIQaQMNnXnUOCwFAzlos9SrJFkBvTijRwI0jQMQ93MM93AVAq6urq6urGkA+2SyK2uYRQIfRflOeSwBAxueqaHPZBkD3QSUytK5DQHkT3lMbpx5AbqSC1KGcGECmyhOmyhP2P6gegmGFNyVA0vLe6haWCkAkyyV4h+/sP5Byjt8/EhhA",
          "dtype": "f8"
         },
         "yaxis": "y"
        }
       ],
       "layout": {
        "barmode": "relative",
        "legend": {
         "title": {
          "text": "color"
         },
         "tracegroupgap": 0
        },
        "margin": {
         "t": 60
        },
        "template": {
         "data": {
          "bar": [
           {
            "error_x": {
             "color": "#2a3f5f"
            },
            "error_y": {
             "color": "#2a3f5f"
            },
            "marker": {
             "line": {
              "color": "#E5ECF6",
              "width": 0.5
             },
             "pattern": {
              "fillmode": "overlay",
              "size": 10,
              "solidity": 0.2
             }
            },
            "type": "bar"
           }
          ],
          "barpolar": [
           {
            "marker": {
             "line": {
              "color": "#E5ECF6",
              "width": 0.5
             },
             "pattern": {
              "fillmode": "overlay",
              "size": 10,
              "solidity": 0.2
             }
            },
            "type": "barpolar"
           }
          ],
          "carpet": [
           {
            "aaxis": {
             "endlinecolor": "#2a3f5f",
             "gridcolor": "white",
             "linecolor": "white",
             "minorgridcolor": "white",
             "startlinecolor": "#2a3f5f"
            },
            "baxis": {
             "endlinecolor": "#2a3f5f",
             "gridcolor": "white",
             "linecolor": "white",
             "minorgridcolor": "white",
             "startlinecolor": "#2a3f5f"
            },
            "type": "carpet"
           }
          ],
          "choropleth": [
           {
            "colorbar": {
             "outlinewidth": 0,
             "ticks": ""
            },
            "type": "choropleth"
           }
          ],
          "contour": [
           {
            "colorbar": {
             "outlinewidth": 0,
             "ticks": ""
            },
            "colorscale": [
             [
              0,
              "#0d0887"
             ],
             [
              0.1111111111111111,
              "#46039f"
             ],
             [
              0.2222222222222222,
              "#7201a8"
             ],
             [
              0.3333333333333333,
              "#9c179e"
             ],
             [
              0.4444444444444444,
              "#bd3786"
             ],
             [
              0.5555555555555556,
              "#d8576b"
             ],
             [
              0.6666666666666666,
              "#ed7953"
             ],
             [
              0.7777777777777778,
              "#fb9f3a"
             ],
             [
              0.8888888888888888,
              "#fdca26"
             ],
             [
              1,
              "#f0f921"
             ]
            ],
            "type": "contour"
           }
          ],
          "contourcarpet": [
           {
            "colorbar": {
             "outlinewidth": 0,
             "ticks": ""
            },
            "type": "contourcarpet"
           }
          ],
          "heatmap": [
           {
            "colorbar": {
             "outlinewidth": 0,
             "ticks": ""
            },
            "colorscale": [
             [
              0,
              "#0d0887"
             ],
             [
              0.1111111111111111,
              "#46039f"
             ],
             [
              0.2222222222222222,
              "#7201a8"
             ],
             [
              0.3333333333333333,
              "#9c179e"
             ],
             [
              0.4444444444444444,
              "#bd3786"
             ],
             [
              0.5555555555555556,
              "#d8576b"
             ],
             [
              0.6666666666666666,
              "#ed7953"
             ],
             [
              0.7777777777777778,
              "#fb9f3a"
             ],
             [
              0.8888888888888888,
              "#fdca26"
             ],
             [
              1,
              "#f0f921"
             ]
            ],
            "type": "heatmap"
           }
          ],
          "histogram": [
           {
            "marker": {
             "pattern": {
              "fillmode": "overlay",
              "size": 10,
              "solidity": 0.2
             }
            },
            "type": "histogram"
           }
          ],
          "histogram2d": [
           {
            "colorbar": {
             "outlinewidth": 0,
             "ticks": ""
            },
            "colorscale": [
             [
              0,
              "#0d0887"
             ],
             [
              0.1111111111111111,
              "#46039f"
             ],
             [
              0.2222222222222222,
              "#7201a8"
             ],
             [
              0.3333333333333333,
              "#9c179e"
             ],
             [
              0.4444444444444444,
              "#bd3786"
             ],
             [
              0.5555555555555556,
              "#d8576b"
             ],
             [
              0.6666666666666666,
              "#ed7953"
             ],
             [
              0.7777777777777778,
              "#fb9f3a"
             ],
             [
              0.8888888888888888,
              "#fdca26"
             ],
             [
              1,
              "#f0f921"
             ]
            ],
            "type": "histogram2d"
           }
          ],
          "histogram2dcontour": [
           {
            "colorbar": {
             "outlinewidth": 0,
             "ticks": ""
            },
            "colorscale": [
             [
              0,
              "#0d0887"
             ],
             [
              0.1111111111111111,
              "#46039f"
             ],
             [
              0.2222222222222222,
              "#7201a8"
             ],
             [
              0.3333333333333333,
              "#9c179e"
             ],
             [
              0.4444444444444444,
              "#bd3786"
             ],
             [
              0.5555555555555556,
              "#d8576b"
             ],
             [
              0.6666666666666666,
              "#ed7953"
             ],
             [
              0.7777777777777778,
              "#fb9f3a"
             ],
             [
              0.8888888888888888,
              "#fdca26"
             ],
             [
              1,
              "#f0f921"
             ]
            ],
            "type": "histogram2dcontour"
           }
          ],
          "mesh3d": [
           {
            "colorbar": {
             "outlinewidth": 0,
             "ticks": ""
            },
            "type": "mesh3d"
           }
          ],
          "parcoords": [
           {
            "line": {
             "colorbar": {
              "outlinewidth": 0,
              "ticks": ""
             }
            },
            "type": "parcoords"
           }
          ],
          "pie": [
           {
            "automargin": true,
            "type": "pie"
           }
          ],
          "scatter": [
           {
            "fillpattern": {
             "fillmode": "overlay",
             "size": 10,
             "solidity": 0.2
            },
            "type": "scatter"
           }
          ],
          "scatter3d": [
           {
            "line": {
             "colorbar": {
              "outlinewidth": 0,
              "ticks": ""
             }
            },
            "marker": {
             "colorbar": {
              "outlinewidth": 0,
              "ticks": ""
             }
            },
            "type": "scatter3d"
           }
          ],
          "scattercarpet": [
           {
            "marker": {
             "colorbar": {
              "outlinewidth": 0,
              "ticks": ""
             }
            },
            "type": "scattercarpet"
           }
          ],
          "scattergeo": [
           {
            "marker": {
             "colorbar": {
              "outlinewidth": 0,
              "ticks": ""
             }
            },
            "type": "scattergeo"
           }
          ],
          "scattergl": [
           {
            "marker": {
             "colorbar": {
              "outlinewidth": 0,
              "ticks": ""
             }
            },
            "type": "scattergl"
           }
          ],
          "scattermap": [
           {
            "marker": {
             "colorbar": {
              "outlinewidth": 0,
              "ticks": ""
             }
            },
            "type": "scattermap"
           }
          ],
          "scattermapbox": [
           {
            "marker": {
             "colorbar": {
              "outlinewidth": 0,
              "ticks": ""
             }
            },
            "type": "scattermapbox"
           }
          ],
          "scatterpolar": [
           {
            "marker": {
             "colorbar": {
              "outlinewidth": 0,
              "ticks": ""
             }
            },
            "type": "scatterpolar"
           }
          ],
          "scatterpolargl": [
           {
            "marker": {
             "colorbar": {
              "outlinewidth": 0,
              "ticks": ""
             }
            },
            "type": "scatterpolargl"
           }
          ],
          "scatterternary": [
           {
            "marker": {
             "colorbar": {
              "outlinewidth": 0,
              "ticks": ""
             }
            },
            "type": "scatterternary"
           }
          ],
          "surface": [
           {
            "colorbar": {
             "outlinewidth": 0,
             "ticks": ""
            },
            "colorscale": [
             [
              0,
              "#0d0887"
             ],
             [
              0.1111111111111111,
              "#46039f"
             ],
             [
              0.2222222222222222,
              "#7201a8"
             ],
             [
              0.3333333333333333,
              "#9c179e"
             ],
             [
              0.4444444444444444,
              "#bd3786"
             ],
             [
              0.5555555555555556,
              "#d8576b"
             ],
             [
              0.6666666666666666,
              "#ed7953"
             ],
             [
              0.7777777777777778,
              "#fb9f3a"
             ],
             [
              0.8888888888888888,
              "#fdca26"
             ],
             [
              1,
              "#f0f921"
             ]
            ],
            "type": "surface"
           }
          ],
          "table": [
           {
            "cells": {
             "fill": {
              "color": "#EBF0F8"
             },
             "line": {
              "color": "white"
             }
            },
            "header": {
             "fill": {
              "color": "#C8D4E3"
             },
             "line": {
              "color": "white"
             }
            },
            "type": "table"
           }
          ]
         },
         "layout": {
          "annotationdefaults": {
           "arrowcolor": "#2a3f5f",
           "arrowhead": 0,
           "arrowwidth": 1
          },
          "autotypenumbers": "strict",
          "coloraxis": {
           "colorbar": {
            "outlinewidth": 0,
            "ticks": ""
           }
          },
          "colorscale": {
           "diverging": [
            [
             0,
             "#8e0152"
            ],
            [
             0.1,
             "#c51b7d"
            ],
            [
             0.2,
             "#de77ae"
            ],
            [
             0.3,
             "#f1b6da"
            ],
            [
             0.4,
             "#fde0ef"
            ],
            [
             0.5,
             "#f7f7f7"
            ],
            [
             0.6,
             "#e6f5d0"
            ],
            [
             0.7,
             "#b8e186"
            ],
            [
             0.8,
             "#7fbc41"
            ],
            [
             0.9,
             "#4d9221"
            ],
            [
             1,
             "#276419"
            ]
           ],
           "sequential": [
            [
             0,
             "#0d0887"
            ],
            [
             0.1111111111111111,
             "#46039f"
            ],
            [
             0.2222222222222222,
             "#7201a8"
            ],
            [
             0.3333333333333333,
             "#9c179e"
            ],
            [
             0.4444444444444444,
             "#bd3786"
            ],
            [
             0.5555555555555556,
             "#d8576b"
            ],
            [
             0.6666666666666666,
             "#ed7953"
            ],
            [
             0.7777777777777778,
             "#fb9f3a"
            ],
            [
             0.8888888888888888,
             "#fdca26"
            ],
            [
             1,
             "#f0f921"
            ]
           ],
           "sequentialminus": [
            [
             0,
             "#0d0887"
            ],
            [
             0.1111111111111111,
             "#46039f"
            ],
            [
             0.2222222222222222,
             "#7201a8"
            ],
            [
             0.3333333333333333,
             "#9c179e"
            ],
            [
             0.4444444444444444,
             "#bd3786"
            ],
            [
             0.5555555555555556,
             "#d8576b"
            ],
            [
             0.6666666666666666,
             "#ed7953"
            ],
            [
             0.7777777777777778,
             "#fb9f3a"
            ],
            [
             0.8888888888888888,
             "#fdca26"
            ],
            [
             1,
             "#f0f921"
            ]
           ]
          },
          "colorway": [
           "#636efa",
           "#EF553B",
           "#00cc96",
           "#ab63fa",
           "#FFA15A",
           "#19d3f3",
           "#FF6692",
           "#B6E880",
           "#FF97FF",
           "#FECB52"
          ],
          "font": {
           "color": "#2a3f5f"
          },
          "geo": {
           "bgcolor": "white",
           "lakecolor": "white",
           "landcolor": "#E5ECF6",
           "showlakes": true,
           "showland": true,
           "subunitcolor": "white"
          },
          "hoverlabel": {
           "align": "left"
          },
          "hovermode": "closest",
          "mapbox": {
           "style": "light"
          },
          "paper_bgcolor": "white",
          "plot_bgcolor": "#E5ECF6",
          "polar": {
           "angularaxis": {
            "gridcolor": "white",
            "linecolor": "white",
            "ticks": ""
           },
           "bgcolor": "#E5ECF6",
           "radialaxis": {
            "gridcolor": "white",
            "linecolor": "white",
            "ticks": ""
           }
          },
          "scene": {
           "xaxis": {
            "backgroundcolor": "#E5ECF6",
            "gridcolor": "white",
            "gridwidth": 2,
            "linecolor": "white",
            "showbackground": true,
            "ticks": "",
            "zerolinecolor": "white"
           },
           "yaxis": {
            "backgroundcolor": "#E5ECF6",
            "gridcolor": "white",
            "gridwidth": 2,
            "linecolor": "white",
            "showbackground": true,
            "ticks": "",
            "zerolinecolor": "white"
           },
           "zaxis": {
            "backgroundcolor": "#E5ECF6",
            "gridcolor": "white",
            "gridwidth": 2,
            "linecolor": "white",
            "showbackground": true,
            "ticks": "",
            "zerolinecolor": "white"
           }
          },
          "shapedefaults": {
           "line": {
            "color": "#2a3f5f"
           }
          },
          "ternary": {
           "aaxis": {
            "gridcolor": "white",
            "linecolor": "white",
            "ticks": ""
           },
           "baxis": {
            "gridcolor": "white",
            "linecolor": "white",
            "ticks": ""
           },
           "bgcolor": "#E5ECF6",
           "caxis": {
            "gridcolor": "white",
            "linecolor": "white",
            "ticks": ""
           }
          },
          "title": {
           "x": 0.05
          },
          "xaxis": {
           "automargin": true,
           "gridcolor": "white",
           "linecolor": "white",
           "ticks": "",
           "title": {
            "standoff": 15
           },
           "zerolinecolor": "white",
           "zerolinewidth": 2
          },
          "yaxis": {
           "automargin": true,
           "gridcolor": "white",
           "linecolor": "white",
           "ticks": "",
           "title": {
            "standoff": 15
           },
           "zerolinecolor": "white",
           "zerolinewidth": 2
          }
         }
        },
        "xaxis": {
         "anchor": "y",
         "domain": [
          0,
          1
         ],
         "title": {
          "text": "US States"
         }
        },
        "yaxis": {
         "anchor": "x",
         "domain": [
          0,
          1
         ],
         "title": {
          "text": "Race repartition"
         }
        }
       }
      },
      "image/png": "[encoded data removed]"
     },
     "metadata": {},
     "output_type": "display_data"
    }
   ],
   "source": [
    "bar = px.bar(x=stack_race['Area'], y=stack_race['Count'], color=stack_race['Race'])\n",
    "bar.update_layout(xaxis_title='US States', yaxis_title='Race repartition')\n",
    "bar.show()"
   ]
  },
  {
   "cell_type": "markdown",
   "metadata": {
    "_uuid": "77493cfd86a031612be8fb8d60f27713e74e6d80",
    "id": "K7xvQXkjuRo7"
   },
   "source": [
    "# Create Donut Chart by of People Killed by Race\n",
    "\n",
    "Hint: Use `.value_counts()`"
   ]
  },
  {
   "cell_type": "code",
   "execution_count": 40,
   "metadata": {
    "id": "1nOafPdy1u9Z"
   },
   "outputs": [
    {
     "data": {
      "text/html": [
       "<div>\n",
       "<style scoped>\n",
       "    .dataframe tbody tr th:only-of-type {\n",
       "        vertical-align: middle;\n",
       "    }\n",
       "\n",
       "    .dataframe tbody tr th {\n",
       "        vertical-align: top;\n",
       "    }\n",
       "\n",
       "    .dataframe thead th {\n",
       "        text-align: right;\n",
       "    }\n",
       "</style>\n",
       "<table border=\"1\" class=\"dataframe\">\n",
       "  <thead>\n",
       "    <tr style=\"text-align: right;\">\n",
       "      <th></th>\n",
       "      <th>id</th>\n",
       "      <th>name</th>\n",
       "      <th>date</th>\n",
       "      <th>manner_of_death</th>\n",
       "      <th>armed</th>\n",
       "      <th>age</th>\n",
       "      <th>gender</th>\n",
       "      <th>race</th>\n",
       "      <th>city</th>\n",
       "      <th>state</th>\n",
       "      <th>signs_of_mental_illness</th>\n",
       "      <th>threat_level</th>\n",
       "      <th>flee</th>\n",
       "      <th>body_camera</th>\n",
       "    </tr>\n",
       "  </thead>\n",
       "  <tbody>\n",
       "    <tr>\n",
       "      <th>0</th>\n",
       "      <td>3</td>\n",
       "      <td>Tim Elliot</td>\n",
       "      <td>02/01/15</td>\n",
       "      <td>shot</td>\n",
       "      <td>gun</td>\n",
       "      <td>53.00</td>\n",
       "      <td>M</td>\n",
       "      <td>A</td>\n",
       "      <td>Shelton</td>\n",
       "      <td>WA</td>\n",
       "      <td>True</td>\n",
       "      <td>attack</td>\n",
       "      <td>Not fleeing</td>\n",
       "      <td>False</td>\n",
       "    </tr>\n",
       "    <tr>\n",
       "      <th>1</th>\n",
       "      <td>4</td>\n",
       "      <td>Lewis Lee Lembke</td>\n",
       "      <td>02/01/15</td>\n",
       "      <td>shot</td>\n",
       "      <td>gun</td>\n",
       "      <td>47.00</td>\n",
       "      <td>M</td>\n",
       "      <td>W</td>\n",
       "      <td>Aloha</td>\n",
       "      <td>OR</td>\n",
       "      <td>False</td>\n",
       "      <td>attack</td>\n",
       "      <td>Not fleeing</td>\n",
       "      <td>False</td>\n",
       "    </tr>\n",
       "    <tr>\n",
       "      <th>2</th>\n",
       "      <td>5</td>\n",
       "      <td>John Paul Quintero</td>\n",
       "      <td>03/01/15</td>\n",
       "      <td>shot and Tasered</td>\n",
       "      <td>unarmed</td>\n",
       "      <td>23.00</td>\n",
       "      <td>M</td>\n",
       "      <td>H</td>\n",
       "      <td>Wichita</td>\n",
       "      <td>KS</td>\n",
       "      <td>False</td>\n",
       "      <td>other</td>\n",
       "      <td>Not fleeing</td>\n",
       "      <td>False</td>\n",
       "    </tr>\n",
       "    <tr>\n",
       "      <th>3</th>\n",
       "      <td>8</td>\n",
       "      <td>Matthew Hoffman</td>\n",
       "      <td>04/01/15</td>\n",
       "      <td>shot</td>\n",
       "      <td>toy weapon</td>\n",
       "      <td>32.00</td>\n",
       "      <td>M</td>\n",
       "      <td>W</td>\n",
       "      <td>San Francisco</td>\n",
       "      <td>CA</td>\n",
       "      <td>True</td>\n",
       "      <td>attack</td>\n",
       "      <td>Not fleeing</td>\n",
       "      <td>False</td>\n",
       "    </tr>\n",
       "    <tr>\n",
       "      <th>4</th>\n",
       "      <td>9</td>\n",
       "      <td>Michael Rodriguez</td>\n",
       "      <td>04/01/15</td>\n",
       "      <td>shot</td>\n",
       "      <td>nail gun</td>\n",
       "      <td>39.00</td>\n",
       "      <td>M</td>\n",
       "      <td>H</td>\n",
       "      <td>Evans</td>\n",
       "      <td>CO</td>\n",
       "      <td>False</td>\n",
       "      <td>attack</td>\n",
       "      <td>Not fleeing</td>\n",
       "      <td>False</td>\n",
       "    </tr>\n",
       "  </tbody>\n",
       "</table>\n",
       "</div>"
      ],
      "text/plain": [
       "   id                name      date   manner_of_death       armed   age  \\\n",
       "0   3          Tim Elliot  02/01/15              shot         gun 53.00   \n",
       "1   4    Lewis Lee Lembke  02/01/15              shot         gun 47.00   \n",
       "2   5  John Paul Quintero  03/01/15  shot and Tasered     unarmed 23.00   \n",
       "3   8     Matthew Hoffman  04/01/15              shot  toy weapon 32.00   \n",
       "4   9   Michael Rodriguez  04/01/15              shot    nail gun 39.00   \n",
       "\n",
       "  gender race           city state  signs_of_mental_illness threat_level  \\\n",
       "0      M    A        Shelton    WA                     True       attack   \n",
       "1      M    W          Aloha    OR                    False       attack   \n",
       "2      M    H        Wichita    KS                    False        other   \n",
       "3      M    W  San Francisco    CA                     True       attack   \n",
       "4      M    H          Evans    CO                    False       attack   \n",
       "\n",
       "          flee  body_camera  \n",
       "0  Not fleeing        False  \n",
       "1  Not fleeing        False  \n",
       "2  Not fleeing        False  \n",
       "3  Not fleeing        False  \n",
       "4  Not fleeing        False  "
      ]
     },
     "execution_count": 40,
     "metadata": {},
     "output_type": "execute_result"
    }
   ],
   "source": [
    "df_fatalities.head()"
   ]
  },
  {
   "cell_type": "code",
   "execution_count": 41,
   "metadata": {
    "id": "YN3hzJTe1vHJ"
   },
   "outputs": [],
   "source": [
    "death_g = df_fatalities['race'].value_counts().reset_index()"
   ]
  },
  {
   "cell_type": "code",
   "execution_count": 42,
   "metadata": {},
   "outputs": [
    {
     "data": {
      "application/vnd.plotly.v1+json": {
       "config": {
        "plotlyServerURL": "https://plot.ly"
       },
       "data": [
        {
         "domain": {
          "x": [
           0,
           1
          ],
          "y": [
           0,
           1
          ]
         },
         "hole": 0.6,
         "hovertemplate": "race=%{label}<br>count=%{value}<extra></extra>",
         "labels": [
          "W",
          "B",
          "H",
          "A",
          "N",
          "O"
         ],
         "legendgroup": "",
         "name": "",
         "showlegend": true,
         "type": "pie",
         "values": {
          "bdata": "kARQApEBJAAdABwA",
          "dtype": "i2"
         }
        }
       ],
       "layout": {
        "height": 400,
        "legend": {
         "tracegroupgap": 0
        },
        "template": {
         "data": {
          "bar": [
           {
            "error_x": {
             "color": "#2a3f5f"
            },
            "error_y": {
             "color": "#2a3f5f"
            },
            "marker": {
             "line": {
              "color": "#E5ECF6",
              "width": 0.5
             },
             "pattern": {
              "fillmode": "overlay",
              "size": 10,
              "solidity": 0.2
             }
            },
            "type": "bar"
           }
          ],
          "barpolar": [
           {
            "marker": {
             "line": {
              "color": "#E5ECF6",
              "width": 0.5
             },
             "pattern": {
              "fillmode": "overlay",
              "size": 10,
              "solidity": 0.2
             }
            },
            "type": "barpolar"
           }
          ],
          "carpet": [
           {
            "aaxis": {
             "endlinecolor": "#2a3f5f",
             "gridcolor": "white",
             "linecolor": "white",
             "minorgridcolor": "white",
             "startlinecolor": "#2a3f5f"
            },
            "baxis": {
             "endlinecolor": "#2a3f5f",
             "gridcolor": "white",
             "linecolor": "white",
             "minorgridcolor": "white",
             "startlinecolor": "#2a3f5f"
            },
            "type": "carpet"
           }
          ],
          "choropleth": [
           {
            "colorbar": {
             "outlinewidth": 0,
             "ticks": ""
            },
            "type": "choropleth"
           }
          ],
          "contour": [
           {
            "colorbar": {
             "outlinewidth": 0,
             "ticks": ""
            },
            "colorscale": [
             [
              0,
              "#0d0887"
             ],
             [
              0.1111111111111111,
              "#46039f"
             ],
             [
              0.2222222222222222,
              "#7201a8"
             ],
             [
              0.3333333333333333,
              "#9c179e"
             ],
             [
              0.4444444444444444,
              "#bd3786"
             ],
             [
              0.5555555555555556,
              "#d8576b"
             ],
             [
              0.6666666666666666,
              "#ed7953"
             ],
             [
              0.7777777777777778,
              "#fb9f3a"
             ],
             [
              0.8888888888888888,
              "#fdca26"
             ],
             [
              1,
              "#f0f921"
             ]
            ],
            "type": "contour"
           }
          ],
          "contourcarpet": [
           {
            "colorbar": {
             "outlinewidth": 0,
             "ticks": ""
            },
            "type": "contourcarpet"
           }
          ],
          "heatmap": [
           {
            "colorbar": {
             "outlinewidth": 0,
             "ticks": ""
            },
            "colorscale": [
             [
              0,
              "#0d0887"
             ],
             [
              0.1111111111111111,
              "#46039f"
             ],
             [
              0.2222222222222222,
              "#7201a8"
             ],
             [
              0.3333333333333333,
              "#9c179e"
             ],
             [
              0.4444444444444444,
              "#bd3786"
             ],
             [
              0.5555555555555556,
              "#d8576b"
             ],
             [
              0.6666666666666666,
              "#ed7953"
             ],
             [
              0.7777777777777778,
              "#fb9f3a"
             ],
             [
              0.8888888888888888,
              "#fdca26"
             ],
             [
              1,
              "#f0f921"
             ]
            ],
            "type": "heatmap"
           }
          ],
          "histogram": [
           {
            "marker": {
             "pattern": {
              "fillmode": "overlay",
              "size": 10,
              "solidity": 0.2
             }
            },
            "type": "histogram"
           }
          ],
          "histogram2d": [
           {
            "colorbar": {
             "outlinewidth": 0,
             "ticks": ""
            },
            "colorscale": [
             [
              0,
              "#0d0887"
             ],
             [
              0.1111111111111111,
              "#46039f"
             ],
             [
              0.2222222222222222,
              "#7201a8"
             ],
             [
              0.3333333333333333,
              "#9c179e"
             ],
             [
              0.4444444444444444,
              "#bd3786"
             ],
             [
              0.5555555555555556,
              "#d8576b"
             ],
             [
              0.6666666666666666,
              "#ed7953"
             ],
             [
              0.7777777777777778,
              "#fb9f3a"
             ],
             [
              0.8888888888888888,
              "#fdca26"
             ],
             [
              1,
              "#f0f921"
             ]
            ],
            "type": "histogram2d"
           }
          ],
          "histogram2dcontour": [
           {
            "colorbar": {
             "outlinewidth": 0,
             "ticks": ""
            },
            "colorscale": [
             [
              0,
              "#0d0887"
             ],
             [
              0.1111111111111111,
              "#46039f"
             ],
             [
              0.2222222222222222,
              "#7201a8"
             ],
             [
              0.3333333333333333,
              "#9c179e"
             ],
             [
              0.4444444444444444,
              "#bd3786"
             ],
             [
              0.5555555555555556,
              "#d8576b"
             ],
             [
              0.6666666666666666,
              "#ed7953"
             ],
             [
              0.7777777777777778,
              "#fb9f3a"
             ],
             [
              0.8888888888888888,
              "#fdca26"
             ],
             [
              1,
              "#f0f921"
             ]
            ],
            "type": "histogram2dcontour"
           }
          ],
          "mesh3d": [
           {
            "colorbar": {
             "outlinewidth": 0,
             "ticks": ""
            },
            "type": "mesh3d"
           }
          ],
          "parcoords": [
           {
            "line": {
             "colorbar": {
              "outlinewidth": 0,
              "ticks": ""
             }
            },
            "type": "parcoords"
           }
          ],
          "pie": [
           {
            "automargin": true,
            "type": "pie"
           }
          ],
          "scatter": [
           {
            "fillpattern": {
             "fillmode": "overlay",
             "size": 10,
             "solidity": 0.2
            },
            "type": "scatter"
           }
          ],
          "scatter3d": [
           {
            "line": {
             "colorbar": {
              "outlinewidth": 0,
              "ticks": ""
             }
            },
            "marker": {
             "colorbar": {
              "outlinewidth": 0,
              "ticks": ""
             }
            },
            "type": "scatter3d"
           }
          ],
          "scattercarpet": [
           {
            "marker": {
             "colorbar": {
              "outlinewidth": 0,
              "ticks": ""
             }
            },
            "type": "scattercarpet"
           }
          ],
          "scattergeo": [
           {
            "marker": {
             "colorbar": {
              "outlinewidth": 0,
              "ticks": ""
             }
            },
            "type": "scattergeo"
           }
          ],
          "scattergl": [
           {
            "marker": {
             "colorbar": {
              "outlinewidth": 0,
              "ticks": ""
             }
            },
            "type": "scattergl"
           }
          ],
          "scattermap": [
           {
            "marker": {
             "colorbar": {
              "outlinewidth": 0,
              "ticks": ""
             }
            },
            "type": "scattermap"
           }
          ],
          "scattermapbox": [
           {
            "marker": {
             "colorbar": {
              "outlinewidth": 0,
              "ticks": ""
             }
            },
            "type": "scattermapbox"
           }
          ],
          "scatterpolar": [
           {
            "marker": {
             "colorbar": {
              "outlinewidth": 0,
              "ticks": ""
             }
            },
            "type": "scatterpolar"
           }
          ],
          "scatterpolargl": [
           {
            "marker": {
             "colorbar": {
              "outlinewidth": 0,
              "ticks": ""
             }
            },
            "type": "scatterpolargl"
           }
          ],
          "scatterternary": [
           {
            "marker": {
             "colorbar": {
              "outlinewidth": 0,
              "ticks": ""
             }
            },
            "type": "scatterternary"
           }
          ],
          "surface": [
           {
            "colorbar": {
             "outlinewidth": 0,
             "ticks": ""
            },
            "colorscale": [
             [
              0,
              "#0d0887"
             ],
             [
              0.1111111111111111,
              "#46039f"
             ],
             [
              0.2222222222222222,
              "#7201a8"
             ],
             [
              0.3333333333333333,
              "#9c179e"
             ],
             [
              0.4444444444444444,
              "#bd3786"
             ],
             [
              0.5555555555555556,
              "#d8576b"
             ],
             [
              0.6666666666666666,
              "#ed7953"
             ],
             [
              0.7777777777777778,
              "#fb9f3a"
             ],
             [
              0.8888888888888888,
              "#fdca26"
             ],
             [
              1,
              "#f0f921"
             ]
            ],
            "type": "surface"
           }
          ],
          "table": [
           {
            "cells": {
             "fill": {
              "color": "#EBF0F8"
             },
             "line": {
              "color": "white"
             }
            },
            "header": {
             "fill": {
              "color": "#C8D4E3"
             },
             "line": {
              "color": "white"
             }
            },
            "type": "table"
           }
          ]
         },
         "layout": {
          "annotationdefaults": {
           "arrowcolor": "#2a3f5f",
           "arrowhead": 0,
           "arrowwidth": 1
          },
          "autotypenumbers": "strict",
          "coloraxis": {
           "colorbar": {
            "outlinewidth": 0,
            "ticks": ""
           }
          },
          "colorscale": {
           "diverging": [
            [
             0,
             "#8e0152"
            ],
            [
             0.1,
             "#c51b7d"
            ],
            [
             0.2,
             "#de77ae"
            ],
            [
             0.3,
             "#f1b6da"
            ],
            [
             0.4,
             "#fde0ef"
            ],
            [
             0.5,
             "#f7f7f7"
            ],
            [
             0.6,
             "#e6f5d0"
            ],
            [
             0.7,
             "#b8e186"
            ],
            [
             0.8,
             "#7fbc41"
            ],
            [
             0.9,
             "#4d9221"
            ],
            [
             1,
             "#276419"
            ]
           ],
           "sequential": [
            [
             0,
             "#0d0887"
            ],
            [
             0.1111111111111111,
             "#46039f"
            ],
            [
             0.2222222222222222,
             "#7201a8"
            ],
            [
             0.3333333333333333,
             "#9c179e"
            ],
            [
             0.4444444444444444,
             "#bd3786"
            ],
            [
             0.5555555555555556,
             "#d8576b"
            ],
            [
             0.6666666666666666,
             "#ed7953"
            ],
            [
             0.7777777777777778,
             "#fb9f3a"
            ],
            [
             0.8888888888888888,
             "#fdca26"
            ],
            [
             1,
             "#f0f921"
            ]
           ],
           "sequentialminus": [
            [
             0,
             "#0d0887"
            ],
            [
             0.1111111111111111,
             "#46039f"
            ],
            [
             0.2222222222222222,
             "#7201a8"
            ],
            [
             0.3333333333333333,
             "#9c179e"
            ],
            [
             0.4444444444444444,
             "#bd3786"
            ],
            [
             0.5555555555555556,
             "#d8576b"
            ],
            [
             0.6666666666666666,
             "#ed7953"
            ],
            [
             0.7777777777777778,
             "#fb9f3a"
            ],
            [
             0.8888888888888888,
             "#fdca26"
            ],
            [
             1,
             "#f0f921"
            ]
           ]
          },
          "colorway": [
           "#636efa",
           "#EF553B",
           "#00cc96",
           "#ab63fa",
           "#FFA15A",
           "#19d3f3",
           "#FF6692",
           "#B6E880",
           "#FF97FF",
           "#FECB52"
          ],
          "font": {
           "color": "#2a3f5f"
          },
          "geo": {
           "bgcolor": "white",
           "lakecolor": "white",
           "landcolor": "#E5ECF6",
           "showlakes": true,
           "showland": true,
           "subunitcolor": "white"
          },
          "hoverlabel": {
           "align": "left"
          },
          "hovermode": "closest",
          "mapbox": {
           "style": "light"
          },
          "paper_bgcolor": "white",
          "plot_bgcolor": "#E5ECF6",
          "polar": {
           "angularaxis": {
            "gridcolor": "white",
            "linecolor": "white",
            "ticks": ""
           },
           "bgcolor": "#E5ECF6",
           "radialaxis": {
            "gridcolor": "white",
            "linecolor": "white",
            "ticks": ""
           }
          },
          "scene": {
           "xaxis": {
            "backgroundcolor": "#E5ECF6",
            "gridcolor": "white",
            "gridwidth": 2,
            "linecolor": "white",
            "showbackground": true,
            "ticks": "",
            "zerolinecolor": "white"
           },
           "yaxis": {
            "backgroundcolor": "#E5ECF6",
            "gridcolor": "white",
            "gridwidth": 2,
            "linecolor": "white",
            "showbackground": true,
            "ticks": "",
            "zerolinecolor": "white"
           },
           "zaxis": {
            "backgroundcolor": "#E5ECF6",
            "gridcolor": "white",
            "gridwidth": 2,
            "linecolor": "white",
            "showbackground": true,
            "ticks": "",
            "zerolinecolor": "white"
           }
          },
          "shapedefaults": {
           "line": {
            "color": "#2a3f5f"
           }
          },
          "ternary": {
           "aaxis": {
            "gridcolor": "white",
            "linecolor": "white",
            "ticks": ""
           },
           "baxis": {
            "gridcolor": "white",
            "linecolor": "white",
            "ticks": ""
           },
           "bgcolor": "#E5ECF6",
           "caxis": {
            "gridcolor": "white",
            "linecolor": "white",
            "ticks": ""
           }
          },
          "title": {
           "x": 0.05
          },
          "xaxis": {
           "automargin": true,
           "gridcolor": "white",
           "linecolor": "white",
           "ticks": "",
           "title": {
            "standoff": 15
           },
           "zerolinecolor": "white",
           "zerolinewidth": 2
          },
          "yaxis": {
           "automargin": true,
           "gridcolor": "white",
           "linecolor": "white",
           "ticks": "",
           "title": {
            "standoff": 15
           },
           "zerolinecolor": "white",
           "zerolinewidth": 2
          }
         }
        },
        "title": {
         "text": "Death by race",
         "x": 0.5
        },
        "width": 500
       }
      }
     },
     "metadata": {},
     "output_type": "display_data"
    }
   ],
   "source": [
    "fig4 = px.pie(death_g, names='race', values='count', hole=0.6, title='Death by race', width=500, height=400)\n",
    "fig4.update_layout(title_x=0.5)\n",
    "fig4.show()"
   ]
  },
  {
   "cell_type": "markdown",
   "metadata": {
    "id": "kr-8Rezn3Bep"
   },
   "source": [
    "# Create a Chart Comparing the Total Number of Deaths of Men and Women\n",
    "\n",
    "Use `df_fatalities` to illustrate how many more men are killed compared to women. "
   ]
  },
  {
   "cell_type": "code",
   "execution_count": 43,
   "metadata": {
    "id": "joH1L4303BsJ"
   },
   "outputs": [],
   "source": [
    "sex_death_g = df_fatalities['gender'].value_counts().reset_index()"
   ]
  },
  {
   "cell_type": "code",
   "execution_count": 44,
   "metadata": {
    "id": "X4MrMkVa3MTk"
   },
   "outputs": [
    {
     "data": {
      "application/vnd.plotly.v1+json": {
       "config": {
        "plotlyServerURL": "https://plot.ly"
       },
       "data": [
        {
         "hovertemplate": "gender=%{x}<br>count=%{y}<extra></extra>",
         "legendgroup": "",
         "marker": {
          "color": "#636efa",
          "pattern": {
           "shape": ""
          }
         },
         "name": "",
         "orientation": "v",
         "showlegend": false,
         "textposition": "auto",
         "type": "bar",
         "x": [
          "M",
          "F"
         ],
         "xaxis": "x",
         "y": {
          "bdata": "cAheAA==",
          "dtype": "i2"
         },
         "yaxis": "y"
        }
       ],
       "layout": {
        "barmode": "relative",
        "height": 400,
        "legend": {
         "tracegroupgap": 0
        },
        "template": {
         "data": {
          "bar": [
           {
            "error_x": {
             "color": "#2a3f5f"
            },
            "error_y": {
             "color": "#2a3f5f"
            },
            "marker": {
             "line": {
              "color": "#E5ECF6",
              "width": 0.5
             },
             "pattern": {
              "fillmode": "overlay",
              "size": 10,
              "solidity": 0.2
             }
            },
            "type": "bar"
           }
          ],
          "barpolar": [
           {
            "marker": {
             "line": {
              "color": "#E5ECF6",
              "width": 0.5
             },
             "pattern": {
              "fillmode": "overlay",
              "size": 10,
              "solidity": 0.2
             }
            },
            "type": "barpolar"
           }
          ],
          "carpet": [
           {
            "aaxis": {
             "endlinecolor": "#2a3f5f",
             "gridcolor": "white",
             "linecolor": "white",
             "minorgridcolor": "white",
             "startlinecolor": "#2a3f5f"
            },
            "baxis": {
             "endlinecolor": "#2a3f5f",
             "gridcolor": "white",
             "linecolor": "white",
             "minorgridcolor": "white",
             "startlinecolor": "#2a3f5f"
            },
            "type": "carpet"
           }
          ],
          "choropleth": [
           {
            "colorbar": {
             "outlinewidth": 0,
             "ticks": ""
            },
            "type": "choropleth"
           }
          ],
          "contour": [
           {
            "colorbar": {
             "outlinewidth": 0,
             "ticks": ""
            },
            "colorscale": [
             [
              0,
              "#0d0887"
             ],
             [
              0.1111111111111111,
              "#46039f"
             ],
             [
              0.2222222222222222,
              "#7201a8"
             ],
             [
              0.3333333333333333,
              "#9c179e"
             ],
             [
              0.4444444444444444,
              "#bd3786"
             ],
             [
              0.5555555555555556,
              "#d8576b"
             ],
             [
              0.6666666666666666,
              "#ed7953"
             ],
             [
              0.7777777777777778,
              "#fb9f3a"
             ],
             [
              0.8888888888888888,
              "#fdca26"
             ],
             [
              1,
              "#f0f921"
             ]
            ],
            "type": "contour"
           }
          ],
          "contourcarpet": [
           {
            "colorbar": {
             "outlinewidth": 0,
             "ticks": ""
            },
            "type": "contourcarpet"
           }
          ],
          "heatmap": [
           {
            "colorbar": {
             "outlinewidth": 0,
             "ticks": ""
            },
            "colorscale": [
             [
              0,
              "#0d0887"
             ],
             [
              0.1111111111111111,
              "#46039f"
             ],
             [
              0.2222222222222222,
              "#7201a8"
             ],
             [
              0.3333333333333333,
              "#9c179e"
             ],
             [
              0.4444444444444444,
              "#bd3786"
             ],
             [
              0.5555555555555556,
              "#d8576b"
             ],
             [
              0.6666666666666666,
              "#ed7953"
             ],
             [
              0.7777777777777778,
              "#fb9f3a"
             ],
             [
              0.8888888888888888,
              "#fdca26"
             ],
             [
              1,
              "#f0f921"
             ]
            ],
            "type": "heatmap"
           }
          ],
          "histogram": [
           {
            "marker": {
             "pattern": {
              "fillmode": "overlay",
              "size": 10,
              "solidity": 0.2
             }
            },
            "type": "histogram"
           }
          ],
          "histogram2d": [
           {
            "colorbar": {
             "outlinewidth": 0,
             "ticks": ""
            },
            "colorscale": [
             [
              0,
              "#0d0887"
             ],
             [
              0.1111111111111111,
              "#46039f"
             ],
             [
              0.2222222222222222,
              "#7201a8"
             ],
             [
              0.3333333333333333,
              "#9c179e"
             ],
             [
              0.4444444444444444,
              "#bd3786"
             ],
             [
              0.5555555555555556,
              "#d8576b"
             ],
             [
              0.6666666666666666,
              "#ed7953"
             ],
             [
              0.7777777777777778,
              "#fb9f3a"
             ],
             [
              0.8888888888888888,
              "#fdca26"
             ],
             [
              1,
              "#f0f921"
             ]
            ],
            "type": "histogram2d"
           }
          ],
          "histogram2dcontour": [
           {
            "colorbar": {
             "outlinewidth": 0,
             "ticks": ""
            },
            "colorscale": [
             [
              0,
              "#0d0887"
             ],
             [
              0.1111111111111111,
              "#46039f"
             ],
             [
              0.2222222222222222,
              "#7201a8"
             ],
             [
              0.3333333333333333,
              "#9c179e"
             ],
             [
              0.4444444444444444,
              "#bd3786"
             ],
             [
              0.5555555555555556,
              "#d8576b"
             ],
             [
              0.6666666666666666,
              "#ed7953"
             ],
             [
              0.7777777777777778,
              "#fb9f3a"
             ],
             [
              0.8888888888888888,
              "#fdca26"
             ],
             [
              1,
              "#f0f921"
             ]
            ],
            "type": "histogram2dcontour"
           }
          ],
          "mesh3d": [
           {
            "colorbar": {
             "outlinewidth": 0,
             "ticks": ""
            },
            "type": "mesh3d"
           }
          ],
          "parcoords": [
           {
            "line": {
             "colorbar": {
              "outlinewidth": 0,
              "ticks": ""
             }
            },
            "type": "parcoords"
           }
          ],
          "pie": [
           {
            "automargin": true,
            "type": "pie"
           }
          ],
          "scatter": [
           {
            "fillpattern": {
             "fillmode": "overlay",
             "size": 10,
             "solidity": 0.2
            },
            "type": "scatter"
           }
          ],
          "scatter3d": [
           {
            "line": {
             "colorbar": {
              "outlinewidth": 0,
              "ticks": ""
             }
            },
            "marker": {
             "colorbar": {
              "outlinewidth": 0,
              "ticks": ""
             }
            },
            "type": "scatter3d"
           }
          ],
          "scattercarpet": [
           {
            "marker": {
             "colorbar": {
              "outlinewidth": 0,
              "ticks": ""
             }
            },
            "type": "scattercarpet"
           }
          ],
          "scattergeo": [
           {
            "marker": {
             "colorbar": {
              "outlinewidth": 0,
              "ticks": ""
             }
            },
            "type": "scattergeo"
           }
          ],
          "scattergl": [
           {
            "marker": {
             "colorbar": {
              "outlinewidth": 0,
              "ticks": ""
             }
            },
            "type": "scattergl"
           }
          ],
          "scattermap": [
           {
            "marker": {
             "colorbar": {
              "outlinewidth": 0,
              "ticks": ""
             }
            },
            "type": "scattermap"
           }
          ],
          "scattermapbox": [
           {
            "marker": {
             "colorbar": {
              "outlinewidth": 0,
              "ticks": ""
             }
            },
            "type": "scattermapbox"
           }
          ],
          "scatterpolar": [
           {
            "marker": {
             "colorbar": {
              "outlinewidth": 0,
              "ticks": ""
             }
            },
            "type": "scatterpolar"
           }
          ],
          "scatterpolargl": [
           {
            "marker": {
             "colorbar": {
              "outlinewidth": 0,
              "ticks": ""
             }
            },
            "type": "scatterpolargl"
           }
          ],
          "scatterternary": [
           {
            "marker": {
             "colorbar": {
              "outlinewidth": 0,
              "ticks": ""
             }
            },
            "type": "scatterternary"
           }
          ],
          "surface": [
           {
            "colorbar": {
             "outlinewidth": 0,
             "ticks": ""
            },
            "colorscale": [
             [
              0,
              "#0d0887"
             ],
             [
              0.1111111111111111,
              "#46039f"
             ],
             [
              0.2222222222222222,
              "#7201a8"
             ],
             [
              0.3333333333333333,
              "#9c179e"
             ],
             [
              0.4444444444444444,
              "#bd3786"
             ],
             [
              0.5555555555555556,
              "#d8576b"
             ],
             [
              0.6666666666666666,
              "#ed7953"
             ],
             [
              0.7777777777777778,
              "#fb9f3a"
             ],
             [
              0.8888888888888888,
              "#fdca26"
             ],
             [
              1,
              "#f0f921"
             ]
            ],
            "type": "surface"
           }
          ],
          "table": [
           {
            "cells": {
             "fill": {
              "color": "#EBF0F8"
             },
             "line": {
              "color": "white"
             }
            },
            "header": {
             "fill": {
              "color": "#C8D4E3"
             },
             "line": {
              "color": "white"
             }
            },
            "type": "table"
           }
          ]
         },
         "layout": {
          "annotationdefaults": {
           "arrowcolor": "#2a3f5f",
           "arrowhead": 0,
           "arrowwidth": 1
          },
          "autotypenumbers": "strict",
          "coloraxis": {
           "colorbar": {
            "outlinewidth": 0,
            "ticks": ""
           }
          },
          "colorscale": {
           "diverging": [
            [
             0,
             "#8e0152"
            ],
            [
             0.1,
             "#c51b7d"
            ],
            [
             0.2,
             "#de77ae"
            ],
            [
             0.3,
             "#f1b6da"
            ],
            [
             0.4,
             "#fde0ef"
            ],
            [
             0.5,
             "#f7f7f7"
            ],
            [
             0.6,
             "#e6f5d0"
            ],
            [
             0.7,
             "#b8e186"
            ],
            [
             0.8,
             "#7fbc41"
            ],
            [
             0.9,
             "#4d9221"
            ],
            [
             1,
             "#276419"
            ]
           ],
           "sequential": [
            [
             0,
             "#0d0887"
            ],
            [
             0.1111111111111111,
             "#46039f"
            ],
            [
             0.2222222222222222,
             "#7201a8"
            ],
            [
             0.3333333333333333,
             "#9c179e"
            ],
            [
             0.4444444444444444,
             "#bd3786"
            ],
            [
             0.5555555555555556,
             "#d8576b"
            ],
            [
             0.6666666666666666,
             "#ed7953"
            ],
            [
             0.7777777777777778,
             "#fb9f3a"
            ],
            [
             0.8888888888888888,
             "#fdca26"
            ],
            [
             1,
             "#f0f921"
            ]
           ],
           "sequentialminus": [
            [
             0,
             "#0d0887"
            ],
            [
             0.1111111111111111,
             "#46039f"
            ],
            [
             0.2222222222222222,
             "#7201a8"
            ],
            [
             0.3333333333333333,
             "#9c179e"
            ],
            [
             0.4444444444444444,
             "#bd3786"
            ],
            [
             0.5555555555555556,
             "#d8576b"
            ],
            [
             0.6666666666666666,
             "#ed7953"
            ],
            [
             0.7777777777777778,
             "#fb9f3a"
            ],
            [
             0.8888888888888888,
             "#fdca26"
            ],
            [
             1,
             "#f0f921"
            ]
           ]
          },
          "colorway": [
           "#636efa",
           "#EF553B",
           "#00cc96",
           "#ab63fa",
           "#FFA15A",
           "#19d3f3",
           "#FF6692",
           "#B6E880",
           "#FF97FF",
           "#FECB52"
          ],
          "font": {
           "color": "#2a3f5f"
          },
          "geo": {
           "bgcolor": "white",
           "lakecolor": "white",
           "landcolor": "#E5ECF6",
           "showlakes": true,
           "showland": true,
           "subunitcolor": "white"
          },
          "hoverlabel": {
           "align": "left"
          },
          "hovermode": "closest",
          "mapbox": {
           "style": "light"
          },
          "paper_bgcolor": "white",
          "plot_bgcolor": "#E5ECF6",
          "polar": {
           "angularaxis": {
            "gridcolor": "white",
            "linecolor": "white",
            "ticks": ""
           },
           "bgcolor": "#E5ECF6",
           "radialaxis": {
            "gridcolor": "white",
            "linecolor": "white",
            "ticks": ""
           }
          },
          "scene": {
           "xaxis": {
            "backgroundcolor": "#E5ECF6",
            "gridcolor": "white",
            "gridwidth": 2,
            "linecolor": "white",
            "showbackground": true,
            "ticks": "",
            "zerolinecolor": "white"
           },
           "yaxis": {
            "backgroundcolor": "#E5ECF6",
            "gridcolor": "white",
            "gridwidth": 2,
            "linecolor": "white",
            "showbackground": true,
            "ticks": "",
            "zerolinecolor": "white"
           },
           "zaxis": {
            "backgroundcolor": "#E5ECF6",
            "gridcolor": "white",
            "gridwidth": 2,
            "linecolor": "white",
            "showbackground": true,
            "ticks": "",
            "zerolinecolor": "white"
           }
          },
          "shapedefaults": {
           "line": {
            "color": "#2a3f5f"
           }
          },
          "ternary": {
           "aaxis": {
            "gridcolor": "white",
            "linecolor": "white",
            "ticks": ""
           },
           "baxis": {
            "gridcolor": "white",
            "linecolor": "white",
            "ticks": ""
           },
           "bgcolor": "#E5ECF6",
           "caxis": {
            "gridcolor": "white",
            "linecolor": "white",
            "ticks": ""
           }
          },
          "title": {
           "x": 0.05
          },
          "xaxis": {
           "automargin": true,
           "gridcolor": "white",
           "linecolor": "white",
           "ticks": "",
           "title": {
            "standoff": 15
           },
           "zerolinecolor": "white",
           "zerolinewidth": 2
          },
          "yaxis": {
           "automargin": true,
           "gridcolor": "white",
           "linecolor": "white",
           "ticks": "",
           "title": {
            "standoff": 15
           },
           "zerolinecolor": "white",
           "zerolinewidth": 2
          }
         }
        },
        "title": {
         "text": "Death by gender",
         "x": 0.5
        },
        "width": 400,
        "xaxis": {
         "anchor": "y",
         "domain": [
          0,
          1
         ],
         "title": {
          "text": "gender"
         }
        },
        "yaxis": {
         "anchor": "x",
         "domain": [
          0,
          1
         ],
         "title": {
          "text": "count"
         }
        }
       }
      }
     },
     "metadata": {},
     "output_type": "display_data"
    }
   ],
   "source": [
    "fig5 = px.bar(sex_death_g, x='gender', y='count', title='Death by gender', width=400, height=400)\n",
    "fig5.update_layout(title_x=0.5)\n",
    "fig5.show()"
   ]
  },
  {
   "cell_type": "markdown",
   "metadata": {
    "_uuid": "cd1531c8421bfb6967cebf7039056779f9b960a6",
    "id": "ZxbBdvM0uRpQ"
   },
   "source": [
    "# Create a Box Plot Showing the Age and Manner of Death\n",
    "\n",
    "Break out the data by gender using `df_fatalities`. Is there a difference between men and women in the manner of death? "
   ]
  },
  {
   "cell_type": "code",
   "execution_count": null,
   "metadata": {
    "id": "WdPPZLJY2shA"
   },
   "outputs": [],
   "source": []
  },
  {
   "cell_type": "code",
   "execution_count": 45,
   "metadata": {
    "id": "tpPq4uFc2sql"
   },
   "outputs": [
    {
     "data": {
      "application/vnd.plotly.v1+json": {
       "config": {
        "plotlyServerURL": "https://plot.ly"
       },
       "data": [
        {
         "alignmentgroup": "True",
         "boxpoints": "all",
         "hovertemplate": "gender=M<br>manner_of_death=%{x}<br>age=%{y}<extra></extra>",
         "legendgroup": "M",
         "marker": {
          "color": "#636efa"
         },
         "name": "M",
         "notched": false,
         "offsetgroup": "M",
         "orientation": "v",
         "showlegend": true,
         "type": "box",
         "x": [
          "shot",
          "shot",
          "shot and Tasered",
          "shot",
          "shot",
          "shot",
          "shot",
          "shot",
          "shot",
          "shot and Tasered",
          "shot",
          "shot",
          "shot",
          "shot",
          "shot",
          "shot",
          "shot",
          "shot",
          "shot",
          "shot",
          "shot",
          "shot",
          "shot and Tasered",
          "shot",
          "shot",
          "shot",
          "shot",
          "shot",
          "shot",
          "shot",
          "shot",
          "shot",
          "shot",
          "shot",
          "shot",
          "shot",
          "shot",
          "shot and Tasered",
          "shot",
          "shot",
          "shot",
          "shot",
          "shot and Tasered",
          "shot",
          "shot",
          "shot",
          "shot",
          "shot",
          "shot",
          "shot",
          "shot",
          "shot",
          "shot",
          "shot",
          "shot",
          "shot",
          "shot",
          "shot",
          "shot",
          "shot",
          "shot",
          "shot",
          "shot",
          "shot",
          "shot and Tasered",
          "shot",
          "shot",
          "shot",
          "shot",
          "shot",
          "shot and Tasered",
          "shot",
          "shot",
          "shot",
          "shot",
          "shot",
          "shot",
          "shot",
          "shot",
          "shot",
          "shot",
          "shot",
          "shot",
          "shot",
          "shot",
          "shot",
          "shot",
          "shot",
          "shot",
          "shot",
          "shot",
          "shot",
          "shot",
          "shot",
          "shot and Tasered",
          "shot",
          "shot",
          "shot",
          "shot",
          "shot",
          "shot",
          "shot",
          "shot",
          "shot",
          "shot",
          "shot",
          "shot and Tasered",
          "shot",
          "shot",
          "shot",
          "shot",
          "shot",
          "shot",
          "shot",
          "shot",
          "shot",
          "shot",
          "shot",
          "shot",
          "shot",
          "shot",
          "shot",
          "shot and Tasered",
          "shot and Tasered",
          "shot",
          "shot",
          "shot",
          "shot",
          "shot and Tasered",
          "shot",
          "shot",
          "shot and Tasered",
          "shot",
          "shot",
          "shot",
          "shot",
          "shot",
          "shot and Tasered",
          "shot",
          "shot",
          "shot",
          "shot",
          "shot and Tasered",
          "shot",
          "shot",
          "shot",
          "shot",
          "shot",
          "shot",
          "shot",
          "shot",
          "shot",
          "shot",
          "shot",
          "shot",
          "shot",
          "shot",
          "shot",
          "shot",
          "shot",
          "shot",
          "shot",
          "shot",
          "shot",
          "shot",
          "shot",
          "shot",
          "shot",
          "shot",
          "shot",
          "shot",
          "shot",
          "shot",
          "shot",
          "shot",
          "shot",
          "shot",
          "shot",
          "shot",
          "shot",
          "shot",
          "shot",
          "shot",
          "shot",
          "shot",
          "shot",
          "shot",
          "shot",
          "shot",
          "shot",
          "shot",
          "shot",
          "shot",
          "shot",
          "shot",
          "shot",
          "shot",
          "shot",
          "shot",
          "shot",
          "shot",
          "shot",
          "shot",
          "shot",
          "shot and Tasered",
          "shot and Tasered",
          "shot",
          "shot",
          "shot",
          "shot",
          "shot",
          "shot",
          "shot",
          "shot and Tasered",
          "shot",
          "shot",
          "shot",
          "shot",
          "shot",
          "shot",
          "shot",
          "shot",
          "shot",
          "shot",
          "shot",
          "shot",
          "shot",
          "shot",
          "shot",
          "shot and Tasered",
          "shot",
          "shot",
          "shot",
          "shot",
          "shot and Tasered",
          "shot",
          "shot",
          "shot",
          "shot",
          "shot",
          "shot",
          "shot",
          "shot",
          "shot",
          "shot",
          "shot",
          "shot",
          "shot",
          "shot",
          "shot",
          "shot",
          "shot",
          "shot",
          "shot",
          "shot",
          "shot",
          "shot",
          "shot",
          "shot",
          "shot",
          "shot",
          "shot",
          "shot",
          "shot",
          "shot",
          "shot",
          "shot",
          "shot",
          "shot",
          "shot",
          "shot",
          "shot",
          "shot",
          "shot",
          "shot",
          "shot",
          "shot",
          "shot",
          "shot",
          "shot",
          "shot",
          "shot",
          "shot",
          "shot",
          "shot",
          "shot",
          "shot",
          "shot",
          "shot",
          "shot",
          "shot",
          "shot",
          "shot",
          "shot",
          "shot",
          "shot",
          "shot",
          "shot",
          "shot",
          "shot",
          "shot",
          "shot",
          "shot",
          "shot",
          "shot",
          "shot",
          "shot and Tasered",
          "shot",
          "shot",
          "shot",
          "shot",
          "shot",
          "shot",
          "shot",
          "shot",
          "shot",
          "shot",
          "shot",
          "shot",
          "shot",
          "shot",
          "shot",
          "shot",
          "shot",
          "shot",
          "shot",
          "shot",
          "shot",
          "shot",
          "shot and Tasered",
          "shot",
          "shot",
          "shot",
          "shot",
          "shot",
          "shot",
          "shot",
          "shot",
          "shot",
          "shot",
          "shot",
          "shot",
          "shot",
          "shot and Tasered",
          "shot",
          "shot",
          "shot",
          "shot",
          "shot",
          "shot",
          "shot",
          "shot",
          "shot",
          "shot",
          "shot",
          "shot",
          "shot",
          "shot",
          "shot",
          "shot",
          "shot",
          "shot",
          "shot and Tasered",
          "shot and Tasered",
          "shot",
          "shot",
          "shot",
          "shot and Tasered",
          "shot",
          "shot",
          "shot",
          "shot",
          "shot",
          "shot",
          "shot",
          "shot",
          "shot",
          "shot",
          "shot and Tasered",
          "shot",
          "shot",
          "shot",
          "shot",
          "shot and Tasered",
          "shot",
          "shot",
          "shot",
          "shot",
          "shot",
          "shot",
          "shot",
          "shot",
          "shot",
          "shot",
          "shot",
          "shot",
          "shot",
          "shot",
          "shot",
          "shot",
          "shot",
          "shot",
          "shot",
          "shot",
          "shot",
          "shot",
          "shot",
          "shot",
          "shot",
          "shot",
          "shot",
          "shot",
          "shot",
          "shot",
          "shot",
          "shot",
          "shot",
          "shot",
          "shot",
          "shot",
          "shot",
          "shot",
          "shot",
          "shot",
          "shot",
          "shot",
          "shot",
          "shot",
          "shot",
          "shot",
          "shot",
          "shot",
          "shot",
          "shot",
          "shot",
          "shot",
          "shot",
          "shot",
          "shot",
          "shot and Tasered",
          "shot",
          "shot",
          "shot",
          "shot",
          "shot",
          "shot",
          "shot",
          "shot",
          "shot",
          "shot and Tasered",
          "shot",
          "shot",
          "shot",
          "shot and Tasered",
          "shot and Tasered",
          "shot",
          "shot",
          "shot",
          "shot",
          "shot",
          "shot",
          "shot",
          "shot",
          "shot",
          "shot",
          "shot",
          "shot",
          "shot",
          "shot",
          "shot",
          "shot and Tasered",
          "shot",
          "shot",
          "shot",
          "shot",
          "shot",
          "shot",
          "shot and Tasered",
          "shot",
          "shot",
          "shot",
          "shot",
          "shot",
          "shot",
          "shot and Tasered",
          "shot",
          "shot and Tasered",
          "shot and Tasered",
          "shot",
          "shot",
          "shot",
          "shot",
          "shot",
          "shot",
          "shot",
          "shot and Tasered",
          "shot",
          "shot",
          "shot",
          "shot",
          "shot",
          "shot",
          "shot",
          "shot",
          "shot",
          "shot",
          "shot",
          "shot",
          "shot and Tasered",
          "shot",
          "shot",
          "shot and Tasered",
          "shot",
          "shot",
          "shot",
          "shot and Tasered",
          "shot",
          "shot",
          "shot",
          "shot",
          "shot",
          "shot",
          "shot",
          "shot",
          "shot and Tasered",
          "shot",
          "shot",
          "shot",
          "shot",
          "shot",
          "shot and Tasered",
          "shot",
          "shot",
          "shot",
          "shot",
          "shot",
          "shot",
          "shot",
          "shot",
          "shot",
          "shot",
          "shot",
          "shot",
          "shot",
          "shot",
          "shot",
          "shot",
          "shot",
          "shot",
          "shot",
          "shot",
          "shot",
          "shot",
          "shot",
          "shot",
          "shot",
          "shot",
          "shot",
          "shot",
          "shot",
          "shot",
          "shot",
          "shot",
          "shot and Tasered",
          "shot",
          "shot",
          "shot",
          "shot",
          "shot",
          "shot",
          "shot",
          "shot",
          "shot and Tasered",
          "shot and Tasered",
          "shot",
          "shot",
          "shot",
          "shot",
          "shot",
          "shot",
          "shot",
          "shot",
          "shot",
          "shot",
          "shot",
          "shot and Tasered",
          "shot",
          "shot",
          "shot",
          "shot",
          "shot",
          "shot and Tasered",
          "shot",
          "shot",
          "shot",
          "shot",
          "shot",
          "shot",
          "shot",
          "shot",
          "shot",
          "shot",
          "shot",
          "shot",
          "shot",
          "shot",
          "shot",
          "shot",
          "shot and Tasered",
          "shot",
          "shot",
          "shot",
          "shot",
          "shot",
          "shot",
          "shot",
          "shot",
          "shot",
          "shot",
          "shot",
          "shot",
          "shot",
          "shot",
          "shot",
          "shot",
          "shot",
          "shot",
          "shot and Tasered",
          "shot",
          "shot",
          "shot",
          "shot",
          "shot",
          "shot",
          "shot",
          "shot",
          "shot",
          "shot",
          "shot",
          "shot",
          "shot",
          "shot",
          "shot",
          "shot",
          "shot",
          "shot",
          "shot",
          "shot",
          "shot",
          "shot",
          "shot",
          "shot",
          "shot",
          "shot",
          "shot",
          "shot",
          "shot",
          "shot",
          "shot",
          "shot",
          "shot",
          "shot",
          "shot",
          "shot",
          "shot",
          "shot",
          "shot",
          "shot",
          "shot",
          "shot",
          "shot",
          "shot and Tasered",
          "shot",
          "shot",
          "shot",
          "shot",
          "shot",
          "shot",
          "shot",
          "shot",
          "shot",
          "shot",
          "shot",
          "shot",
          "shot",
          "shot",
          "shot and Tasered",
          "shot",
          "shot",
          "shot",
          "shot",
          "shot",
          "shot and Tasered",
          "shot",
          "shot",
          "shot",
          "shot",
          "shot",
          "shot and Tasered",
          "shot",
          "shot",
          "shot",
          "shot",
          "shot",
          "shot",
          "shot",
          "shot",
          "shot",
          "shot",
          "shot",
          "shot",
          "shot",
          "shot and Tasered",
          "shot",
          "shot",
          "shot",
          "shot",
          "shot",
          "shot",
          "shot",
          "shot",
          "shot",
          "shot",
          "shot",
          "shot",
          "shot",
          "shot",
          "shot",
          "shot",
          "shot",
          "shot and Tasered",
          "shot",
          "shot",
          "shot",
          "shot",
          "shot",
          "shot",
          "shot",
          "shot",
          "shot",
          "shot",
          "shot",
          "shot",
          "shot",
          "shot",
          "shot",
          "shot",
          "shot",
          "shot",
          "shot",
          "shot",
          "shot",
          "shot",
          "shot",
          "shot",
          "shot",
          "shot",
          "shot",
          "shot",
          "shot",
          "shot",
          "shot",
          "shot",
          "shot and Tasered",
          "shot",
          "shot",
          "shot",
          "shot",
          "shot",
          "shot",
          "shot",
          "shot",
          "shot",
          "shot",
          "shot",
          "shot",
          "shot",
          "shot",
          "shot",
          "shot",
          "shot",
          "shot",
          "shot",
          "shot",
          "shot",
          "shot and Tasered",
          "shot",
          "shot",
          "shot",
          "shot",
          "shot",
          "shot",
          "shot",
          "shot",
          "shot",
          "shot",
          "shot",
          "shot",
          "shot",
          "shot and Tasered",
          "shot",
          "shot",
          "shot",
          "shot",
          "shot",
          "shot",
          "shot",
          "shot",
          "shot",
          "shot",
          "shot",
          "shot",
          "shot",
          "shot",
          "shot",
          "shot",
          "shot",
          "shot",
          "shot",
          "shot",
          "shot and Tasered",
          "shot",
          "shot",
          "shot and Tasered",
          "shot",
          "shot",
          "shot",
          "shot",
          "shot",
          "shot",
          "shot",
          "shot",
          "shot",
          "shot",
          "shot",
          "shot",
          "shot",
          "shot",
          "shot",
          "shot",
          "shot",
          "shot",
          "shot",
          "shot",
          "shot",
          "shot and Tasered",
          "shot",
          "shot",
          "shot and Tasered",
          "shot",
          "shot",
          "shot",
          "shot",
          "shot",
          "shot",
          "shot",
          "shot",
          "shot",
          "shot",
          "shot",
          "shot",
          "shot",
          "shot",
          "shot",
          "shot",
          "shot",
          "shot",
          "shot",
          "shot",
          "shot",
          "shot and Tasered",
          "shot",
          "shot",
          "shot",
          "shot",
          "shot",
          "shot",
          "shot",
          "shot",
          "shot",
          "shot",
          "shot",
          "shot",
          "shot",
          "shot",
          "shot",
          "shot",
          "shot",
          "shot",
          "shot",
          "shot",
          "shot",
          "shot",
          "shot",
          "shot",
          "shot",
          "shot",
          "shot",
          "shot",
          "shot",
          "shot",
          "shot",
          "shot",
          "shot",
          "shot",
          "shot",
          "shot",
          "shot",
          "shot and Tasered",
          "shot",
          "shot",
          "shot",
          "shot",
          "shot",
          "shot",
          "shot",
          "shot",
          "shot",
          "shot",
          "shot and Tasered",
          "shot",
          "shot",
          "shot",
          "shot",
          "shot",
          "shot",
          "shot",
          "shot",
          "shot",
          "shot",
          "shot",
          "shot",
          "shot",
          "shot",
          "shot",
          "shot",
          "shot",
          "shot",
          "shot",
          "shot",
          "shot",
          "shot",
          "shot",
          "shot and Tasered",
          "shot and Tasered",
          "shot",
          "shot",
          "shot",
          "shot",
          "shot",
          "shot",
          "shot",
          "shot",
          "shot",
          "shot",
          "shot",
          "shot",
          "shot",
          "shot",
          "shot",
          "shot and Tasered",
          "shot",
          "shot",
          "shot",
          "shot",
          "shot",
          "shot",
          "shot",
          "shot",
          "shot",
          "shot",
          "shot",
          "shot",
          "shot",
          "shot",
          "shot",
          "shot",
          "shot",
          "shot and Tasered",
          "shot",
          "shot and Tasered",
          "shot",
          "shot",
          "shot and Tasered",
          "shot",
          "shot",
          "shot",
          "shot",
          "shot",
          "shot",
          "shot",
          "shot",
          "shot",
          "shot",
          "shot",
          "shot",
          "shot",
          "shot",
          "shot",
          "shot",
          "shot",
          "shot",
          "shot",
          "shot",
          "shot",
          "shot",
          "shot",
          "shot",
          "shot",
          "shot",
          "shot",
          "shot",
          "shot",
          "shot",
          "shot",
          "shot and Tasered",
          "shot",
          "shot",
          "shot",
          "shot",
          "shot",
          "shot",
          "shot",
          "shot",
          "shot",
          "shot",
          "shot",
          "shot and Tasered",
          "shot",
          "shot",
          "shot",
          "shot",
          "shot",
          "shot",
          "shot",
          "shot",
          "shot",
          "shot",
          "shot",
          "shot",
          "shot",
          "shot",
          "shot",
          "shot",
          "shot",
          "shot and Tasered",
          "shot",
          "shot",
          "shot",
          "shot",
          "shot",
          "shot",
          "shot",
          "shot",
          "shot",
          "shot",
          "shot",
          "shot",
          "shot",
          "shot",
          "shot",
          "shot",
          "shot",
          "shot",
          "shot",
          "shot",
          "shot and Tasered",
          "shot",
          "shot",
          "shot",
          "shot",
          "shot",
          "shot",
          "shot",
          "shot",
          "shot",
          "shot",
          "shot",
          "shot",
          "shot",
          "shot",
          "shot",
          "shot",
          "shot",
          "shot",
          "shot",
          "shot",
          "shot",
          "shot",
          "shot and Tasered",
          "shot and Tasered",
          "shot",
          "shot",
          "shot",
          "shot",
          "shot",
          "shot",
          "shot",
          "shot",
          "shot",
          "shot",
          "shot",
          "shot",
          "shot",
          "shot",
          "shot",
          "shot",
          "shot",
          "shot",
          "shot",
          "shot",
          "shot",
          "shot",
          "shot",
          "shot",
          "shot",
          "shot and Tasered",
          "shot",
          "shot",
          "shot",
          "shot",
          "shot",
          "shot",
          "shot",
          "shot",
          "shot",
          "shot",
          "shot",
          "shot",
          "shot",
          "shot",
          "shot",
          "shot",
          "shot",
          "shot",
          "shot",
          "shot",
          "shot",
          "shot and Tasered",
          "shot",
          "shot",
          "shot",
          "shot",
          "shot",
          "shot",
          "shot",
          "shot",
          "shot",
          "shot",
          "shot",
          "shot",
          "shot",
          "shot",
          "shot",
          "shot",
          "shot",
          "shot and Tasered",
          "shot",
          "shot",
          "shot",
          "shot",
          "shot",
          "shot",
          "shot",
          "shot",
          "shot",
          "shot",
          "shot",
          "shot",
          "shot",
          "shot",
          "shot",
          "shot",
          "shot",
          "shot and Tasered",
          "shot",
          "shot",
          "shot",
          "shot",
          "shot",
          "shot",
          "shot",
          "shot",
          "shot",
          "shot",
          "shot",
          "shot",
          "shot",
          "shot",
          "shot",
          "shot",
          "shot",
          "shot",
          "shot",
          "shot",
          "shot",
          "shot",
          "shot and Tasered",
          "shot",
          "shot",
          "shot",
          "shot",
          "shot",
          "shot",
          "shot",
          "shot",
          "shot and Tasered",
          "shot",
          "shot",
          "shot",
          "shot",
          "shot",
          "shot",
          "shot",
          "shot",
          "shot",
          "shot",
          "shot",
          "shot",
          "shot",
          "shot",
          "shot",
          "shot",
          "shot",
          "shot and Tasered",
          "shot",
          "shot",
          "shot",
          "shot",
          "shot",
          "shot",
          "shot",
          "shot",
          "shot",
          "shot",
          "shot",
          "shot",
          "shot",
          "shot",
          "shot and Tasered",
          "shot",
          "shot",
          "shot",
          "shot",
          "shot",
          "shot",
          "shot",
          "shot",
          "shot",
          "shot",
          "shot",
          "shot",
          "shot",
          "shot",
          "shot",
          "shot",
          "shot",
          "shot",
          "shot",
          "shot",
          "shot",
          "shot",
          "shot",
          "shot",
          "shot",
          "shot",
          "shot",
          "shot",
          "shot",
          "shot",
          "shot",
          "shot",
          "shot",
          "shot",
          "shot and Tasered",
          "shot",
          "shot",
          "shot",
          "shot",
          "shot",
          "shot",
          "shot",
          "shot",
          "shot",
          "shot",
          "shot",
          "shot",
          "shot",
          "shot",
          "shot",
          "shot",
          "shot",
          "shot",
          "shot",
          "shot",
          "shot",
          "shot",
          "shot",
          "shot",
          "shot",
          "shot",
          "shot",
          "shot",
          "shot",
          "shot",
          "shot",
          "shot",
          "shot",
          "shot",
          "shot",
          "shot",
          "shot",
          "shot",
          "shot",
          "shot",
          "shot",
          "shot",
          "shot",
          "shot",
          "shot",
          "shot",
          "shot",
          "shot",
          "shot",
          "shot and Tasered",
          "shot",
          "shot",
          "shot",
          "shot",
          "shot",
          "shot",
          "shot",
          "shot",
          "shot",
          "shot",
          "shot",
          "shot",
          "shot",
          "shot",
          "shot",
          "shot",
          "shot and Tasered",
          "shot",
          "shot",
          "shot",
          "shot",
          "shot",
          "shot",
          "shot",
          "shot",
          "shot",
          "shot",
          "shot",
          "shot",
          "shot",
          "shot",
          "shot",
          "shot",
          "shot",
          "shot and Tasered",
          "shot",
          "shot",
          "shot",
          "shot",
          "shot",
          "shot",
          "shot",
          "shot",
          "shot and Tasered",
          "shot",
          "shot",
          "shot",
          "shot",
          "shot",
          "shot",
          "shot",
          "shot",
          "shot",
          "shot",
          "shot",
          "shot",
          "shot",
          "shot",
          "shot",
          "shot",
          "shot",
          "shot",
          "shot",
          "shot",
          "shot and Tasered",
          "shot",
          "shot",
          "shot and Tasered",
          "shot",
          "shot",
          "shot",
          "shot",
          "shot",
          "shot",
          "shot",
          "shot",
          "shot",
          "shot",
          "shot",
          "shot",
          "shot",
          "shot",
          "shot",
          "shot",
          "shot",
          "shot",
          "shot",
          "shot",
          "shot",
          "shot",
          "shot",
          "shot",
          "shot",
          "shot",
          "shot",
          "shot",
          "shot",
          "shot",
          "shot",
          "shot",
          "shot",
          "shot",
          "shot",
          "shot",
          "shot",
          "shot",
          "shot",
          "shot",
          "shot",
          "shot",
          "shot",
          "shot",
          "shot",
          "shot",
          "shot",
          "shot",
          "shot",
          "shot",
          "shot",
          "shot",
          "shot",
          "shot",
          "shot",
          "shot",
          "shot and Tasered",
          "shot",
          "shot",
          "shot",
          "shot",
          "shot",
          "shot",
          "shot",
          "shot",
          "shot",
          "shot",
          "shot",
          "shot",
          "shot",
          "shot",
          "shot",
          "shot",
          "shot",
          "shot",
          "shot",
          "shot",
          "shot",
          "shot",
          "shot",
          "shot",
          "shot",
          "shot",
          "shot",
          "shot",
          "shot",
          "shot",
          "shot",
          "shot",
          "shot",
          "shot",
          "shot",
          "shot",
          "shot",
          "shot",
          "shot",
          "shot",
          "shot and Tasered",
          "shot",
          "shot",
          "shot and Tasered",
          "shot",
          "shot",
          "shot",
          "shot",
          "shot",
          "shot",
          "shot",
          "shot",
          "shot",
          "shot",
          "shot",
          "shot",
          "shot",
          "shot",
          "shot",
          "shot",
          "shot",
          "shot",
          "shot",
          "shot",
          "shot",
          "shot",
          "shot",
          "shot",
          "shot",
          "shot",
          "shot",
          "shot",
          "shot",
          "shot",
          "shot",
          "shot",
          "shot",
          "shot and Tasered",
          "shot",
          "shot and Tasered",
          "shot",
          "shot",
          "shot",
          "shot",
          "shot",
          "shot",
          "shot",
          "shot",
          "shot",
          "shot",
          "shot",
          "shot",
          "shot",
          "shot",
          "shot",
          "shot",
          "shot",
          "shot",
          "shot",
          "shot",
          "shot",
          "shot",
          "shot",
          "shot",
          "shot",
          "shot",
          "shot",
          "shot",
          "shot",
          "shot",
          "shot",
          "shot",
          "shot",
          "shot",
          "shot",
          "shot",
          "shot",
          "shot",
          "shot",
          "shot",
          "shot",
          "shot",
          "shot",
          "shot",
          "shot",
          "shot",
          "shot",
          "shot",
          "shot",
          "shot",
          "shot",
          "shot",
          "shot",
          "shot",
          "shot",
          "shot",
          "shot",
          "shot",
          "shot",
          "shot",
          "shot",
          "shot",
          "shot",
          "shot",
          "shot and Tasered",
          "shot",
          "shot",
          "shot and Tasered",
          "shot",
          "shot",
          "shot",
          "shot",
          "shot",
          "shot",
          "shot",
          "shot",
          "shot",
          "shot",
          "shot",
          "shot",
          "shot",
          "shot",
          "shot",
          "shot and Tasered",
          "shot",
          "shot",
          "shot",
          "shot",
          "shot",
          "shot",
          "shot",
          "shot",
          "shot",
          "shot",
          "shot",
          "shot",
          "shot",
          "shot",
          "shot",
          "shot",
          "shot",
          "shot",
          "shot",
          "shot",
          "shot and Tasered",
          "shot",
          "shot and Tasered",
          "shot",
          "shot",
          "shot",
          "shot",
          "shot and Tasered",
          "shot",
          "shot",
          "shot",
          "shot",
          "shot",
          "shot",
          "shot",
          "shot",
          "shot",
          "shot",
          "shot",
          "shot",
          "shot",
          "shot",
          "shot and Tasered",
          "shot and Tasered",
          "shot",
          "shot",
          "shot",
          "shot and Tasered",
          "shot",
          "shot",
          "shot",
          "shot",
          "shot",
          "shot",
          "shot",
          "shot",
          "shot",
          "shot",
          "shot",
          "shot",
          "shot",
          "shot",
          "shot",
          "shot and Tasered",
          "shot",
          "shot",
          "shot",
          "shot",
          "shot",
          "shot",
          "shot",
          "shot",
          "shot",
          "shot",
          "shot",
          "shot",
          "shot",
          "shot",
          "shot",
          "shot",
          "shot",
          "shot",
          "shot",
          "shot",
          "shot",
          "shot and Tasered",
          "shot and Tasered",
          "shot",
          "shot",
          "shot",
          "shot",
          "shot",
          "shot",
          "shot and Tasered",
          "shot",
          "shot",
          "shot",
          "shot",
          "shot",
          "shot",
          "shot",
          "shot and Tasered",
          "shot and Tasered",
          "shot",
          "shot",
          "shot",
          "shot",
          "shot",
          "shot",
          "shot",
          "shot",
          "shot",
          "shot",
          "shot",
          "shot",
          "shot",
          "shot and Tasered",
          "shot",
          "shot",
          "shot",
          "shot",
          "shot",
          "shot",
          "shot",
          "shot",
          "shot and Tasered",
          "shot",
          "shot",
          "shot",
          "shot",
          "shot and Tasered",
          "shot",
          "shot",
          "shot",
          "shot",
          "shot and Tasered",
          "shot",
          "shot",
          "shot",
          "shot",
          "shot",
          "shot",
          "shot",
          "shot",
          "shot",
          "shot",
          "shot",
          "shot",
          "shot",
          "shot",
          "shot",
          "shot",
          "shot",
          "shot and Tasered",
          "shot",
          "shot",
          "shot",
          "shot",
          "shot",
          "shot",
          "shot",
          "shot",
          "shot and Tasered",
          "shot",
          "shot",
          "shot and Tasered",
          "shot",
          "shot",
          "shot and Tasered",
          "shot",
          "shot",
          "shot and Tasered",
          "shot",
          "shot",
          "shot",
          "shot",
          "shot and Tasered",
          "shot",
          "shot",
          "shot",
          "shot",
          "shot and Tasered",
          "shot",
          "shot",
          "shot",
          "shot",
          "shot",
          "shot",
          "shot",
          "shot and Tasered",
          "shot",
          "shot",
          "shot",
          "shot",
          "shot",
          "shot",
          "shot and Tasered",
          "shot",
          "shot",
          "shot",
          "shot",
          "shot",
          "shot",
          "shot",
          "shot",
          "shot",
          "shot",
          "shot",
          "shot",
          "shot",
          "shot",
          "shot",
          "shot",
          "shot and Tasered",
          "shot and Tasered",
          "shot",
          "shot",
          "shot",
          "shot",
          "shot",
          "shot",
          "shot",
          "shot",
          "shot",
          "shot",
          "shot",
          "shot",
          "shot",
          "shot",
          "shot",
          "shot",
          "shot",
          "shot",
          "shot",
          "shot",
          "shot and Tasered",
          "shot and Tasered",
          "shot",
          "shot",
          "shot",
          "shot",
          "shot",
          "shot and Tasered",
          "shot and Tasered",
          "shot",
          "shot",
          "shot",
          "shot",
          "shot",
          "shot",
          "shot",
          "shot",
          "shot",
          "shot",
          "shot",
          "shot",
          "shot",
          "shot",
          "shot",
          "shot",
          "shot",
          "shot",
          "shot",
          "shot",
          "shot",
          "shot",
          "shot",
          "shot",
          "shot",
          "shot",
          "shot",
          "shot",
          "shot",
          "shot",
          "shot",
          "shot",
          "shot",
          "shot",
          "shot",
          "shot and Tasered",
          "shot",
          "shot",
          "shot",
          "shot",
          "shot",
          "shot",
          "shot",
          "shot",
          "shot",
          "shot",
          "shot",
          "shot",
          "shot",
          "shot",
          "shot",
          "shot",
          "shot",
          "shot",
          "shot",
          "shot",
          "shot",
          "shot",
          "shot",
          "shot",
          "shot",
          "shot",
          "shot",
          "shot",
          "shot",
          "shot",
          "shot and Tasered",
          "shot",
          "shot and Tasered",
          "shot",
          "shot",
          "shot",
          "shot",
          "shot",
          "shot and Tasered",
          "shot",
          "shot",
          "shot",
          "shot",
          "shot",
          "shot",
          "shot",
          "shot",
          "shot",
          "shot and Tasered",
          "shot",
          "shot",
          "shot",
          "shot and Tasered",
          "shot",
          "shot",
          "shot",
          "shot",
          "shot",
          "shot",
          "shot",
          "shot",
          "shot",
          "shot",
          "shot",
          "shot",
          "shot",
          "shot",
          "shot",
          "shot",
          "shot",
          "shot",
          "shot",
          "shot",
          "shot",
          "shot",
          "shot",
          "shot",
          "shot",
          "shot",
          "shot",
          "shot",
          "shot",
          "shot",
          "shot and Tasered",
          "shot",
          "shot",
          "shot",
          "shot",
          "shot",
          "shot",
          "shot",
          "shot",
          "shot",
          "shot",
          "shot",
          "shot",
          "shot",
          "shot",
          "shot",
          "shot",
          "shot",
          "shot",
          "shot",
          "shot",
          "shot",
          "shot",
          "shot",
          "shot",
          "shot",
          "shot",
          "shot",
          "shot",
          "shot",
          "shot",
          "shot",
          "shot",
          "shot",
          "shot",
          "shot",
          "shot",
          "shot and Tasered",
          "shot and Tasered",
          "shot",
          "shot",
          "shot",
          "shot",
          "shot",
          "shot",
          "shot",
          "shot",
          "shot",
          "shot",
          "shot",
          "shot",
          "shot and Tasered",
          "shot",
          "shot",
          "shot",
          "shot",
          "shot",
          "shot",
          "shot",
          "shot",
          "shot",
          "shot",
          "shot",
          "shot",
          "shot",
          "shot",
          "shot",
          "shot",
          "shot",
          "shot",
          "shot and Tasered",
          "shot and Tasered",
          "shot",
          "shot",
          "shot",
          "shot",
          "shot",
          "shot",
          "shot",
          "shot",
          "shot",
          "shot",
          "shot",
          "shot",
          "shot",
          "shot",
          "shot",
          "shot",
          "shot",
          "shot",
          "shot and Tasered",
          "shot",
          "shot",
          "shot",
          "shot",
          "shot",
          "shot",
          "shot",
          "shot",
          "shot",
          "shot",
          "shot",
          "shot",
          "shot",
          "shot",
          "shot",
          "shot",
          "shot",
          "shot",
          "shot",
          "shot",
          "shot",
          "shot",
          "shot",
          "shot",
          "shot",
          "shot",
          "shot",
          "shot",
          "shot and Tasered",
          "shot",
          "shot and Tasered",
          "shot",
          "shot",
          "shot",
          "shot",
          "shot and Tasered",
          "shot",
          "shot",
          "shot",
          "shot",
          "shot",
          "shot",
          "shot",
          "shot and Tasered",
          "shot",
          "shot",
          "shot",
          "shot",
          "shot",
          "shot",
          "shot",
          "shot",
          "shot",
          "shot",
          "shot",
          "shot",
          "shot",
          "shot",
          "shot",
          "shot",
          "shot",
          "shot",
          "shot",
          "shot",
          "shot",
          "shot",
          "shot",
          "shot",
          "shot",
          "shot",
          "shot",
          "shot",
          "shot",
          "shot",
          "shot",
          "shot",
          "shot",
          "shot",
          "shot",
          "shot",
          "shot",
          "shot",
          "shot",
          "shot",
          "shot",
          "shot",
          "shot",
          "shot",
          "shot",
          "shot",
          "shot",
          "shot"
         ],
         "x0": " ",
         "xaxis": "x",
         "y": {
          "bdata": "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",
          "dtype": "f8"
         },
         "y0": " ",
         "yaxis": "y"
        },
        {
         "alignmentgroup": "True",
         "boxpoints": "all",
         "hovertemplate": "gender=F<br>manner_of_death=%{x}<br>age=%{y}<extra></extra>",
         "legendgroup": "F",
         "marker": {
          "color": "#EF553B"
         },
         "name": "F",
         "notched": false,
         "offsetgroup": "F",
         "orientation": "v",
         "showlegend": true,
         "type": "box",
         "x": [
          "shot",
          "shot and Tasered",
          "shot",
          "shot",
          "shot",
          "shot",
          "shot",
          "shot",
          "shot",
          "shot",
          "shot",
          "shot",
          "shot",
          "shot",
          "shot",
          "shot",
          "shot",
          "shot",
          "shot and Tasered",
          "shot",
          "shot",
          "shot",
          "shot",
          "shot",
          "shot and Tasered",
          "shot",
          "shot",
          "shot",
          "shot",
          "shot",
          "shot",
          "shot",
          "shot",
          "shot",
          "shot",
          "shot",
          "shot",
          "shot",
          "shot",
          "shot",
          "shot",
          "shot",
          "shot",
          "shot",
          "shot",
          "shot",
          "shot",
          "shot",
          "shot",
          "shot",
          "shot",
          "shot",
          "shot",
          "shot",
          "shot",
          "shot",
          "shot",
          "shot",
          "shot",
          "shot",
          "shot",
          "shot",
          "shot",
          "shot",
          "shot",
          "shot",
          "shot",
          "shot",
          "shot",
          "shot",
          "shot",
          "shot",
          "shot",
          "shot",
          "shot",
          "shot",
          "shot",
          "shot",
          "shot and Tasered",
          "shot",
          "shot and Tasered",
          "shot",
          "shot",
          "shot",
          "shot",
          "shot",
          "shot",
          "shot",
          "shot",
          "shot",
          "shot",
          "shot",
          "shot",
          "shot"
         ],
         "x0": " ",
         "xaxis": "x",
         "y": {
          "bdata": "AAAAAAAAQUAAAAAAAAAxQAAAAAAAADFAAAAAAACAQ0AAAAAAAABDQAAAAAAAgEVAAAAAAAAANEAAAAAAAABBQAAAAAAAADxAAAAAAACAQkAAAAAAAIBFQAAAAAAAADhAAAAAAACASEAAAAAAAIBKQAAAAAAAADpAAAAAAAAAO0AAAAAAAABHQAAAAAAAADlAAAAAAACAQ0AAAAAAAAA/QAAAAAAAgEZAAAAAAAAAMUAAAAAAAABEQAAAAAAAAEZAAAAAAAAAPkAAAAAAAAA8QAAAAAAAADdAAAAAAACAQkAAAAAAAIBLQAAAAAAAAEdAAAAAAAAASUAAAAAAAAA1QAAAAAAAAEJAAAAAAACAQkAAAAAAAAA7QAAAAAAAgE5AAAAAAACASUAAAAAAAABIQAAAAAAAADZAAAAAAAAASUAAAAAAAIBGQAAAAAAAAChAAAAAAAAAOUAAAAAAAAA/QAAAAAAAAEBAAAAAAACAREAAAAAAAABAQAAAAAAAAEJAAAAAAAAAP0AAAAAAAABDQAAAAAAAAENAAAAAAAAAOUAAAAAAAAA7QAAAAAAAAElAAAAAAAAAQkAAAAAAAABEQAAAAAAAADlAAAAAAACAQUAAAAAAAABOQAAAAAAAADhAAAAAAAAAOkAAAAAAAAA9QAAAAAAAAEVAAAAAAAAAOEAAAAAAAABEQAAAAAAAADdAAAAAAACAQUAAAAAAAABHQAAAAAAAgEpAAAAAAAAAOkAAAAAAAIBQQAAAAAAAADdAAAAAAAAAOUAAAAAAAIBDQAAAAAAAAD9AAAAAAAAARkAAAAAAAIBKQAAAAAAAwFFAAAAAAACAQkAAAAAAAAA1QAAAAAAAgEtAAAAAAAAAPkAAAAAAAIBAQAAAAAAAAEdAAAAAAACATUAAAAAAAAA1QAAAAAAAADFAAAAAAAAASUAAAAAAAAA7QAAAAAAAgERAAAAAAAAAPkAAAAAAAAA9QAAAAAAAAElAAAAAAAAAREA=",
          "dtype": "f8"
         },
         "y0": " ",
         "yaxis": "y"
        }
       ],
       "layout": {
        "boxmode": "group",
        "height": 600,
        "legend": {
         "title": {
          "text": "gender"
         },
         "tracegroupgap": 0
        },
        "template": {
         "data": {
          "bar": [
           {
            "error_x": {
             "color": "#2a3f5f"
            },
            "error_y": {
             "color": "#2a3f5f"
            },
            "marker": {
             "line": {
              "color": "#E5ECF6",
              "width": 0.5
             },
             "pattern": {
              "fillmode": "overlay",
              "size": 10,
              "solidity": 0.2
             }
            },
            "type": "bar"
           }
          ],
          "barpolar": [
           {
            "marker": {
             "line": {
              "color": "#E5ECF6",
              "width": 0.5
             },
             "pattern": {
              "fillmode": "overlay",
              "size": 10,
              "solidity": 0.2
             }
            },
            "type": "barpolar"
           }
          ],
          "carpet": [
           {
            "aaxis": {
             "endlinecolor": "#2a3f5f",
             "gridcolor": "white",
             "linecolor": "white",
             "minorgridcolor": "white",
             "startlinecolor": "#2a3f5f"
            },
            "baxis": {
             "endlinecolor": "#2a3f5f",
             "gridcolor": "white",
             "linecolor": "white",
             "minorgridcolor": "white",
             "startlinecolor": "#2a3f5f"
            },
            "type": "carpet"
           }
          ],
          "choropleth": [
           {
            "colorbar": {
             "outlinewidth": 0,
             "ticks": ""
            },
            "type": "choropleth"
           }
          ],
          "contour": [
           {
            "colorbar": {
             "outlinewidth": 0,
             "ticks": ""
            },
            "colorscale": [
             [
              0,
              "#0d0887"
             ],
             [
              0.1111111111111111,
              "#46039f"
             ],
             [
              0.2222222222222222,
              "#7201a8"
             ],
             [
              0.3333333333333333,
              "#9c179e"
             ],
             [
              0.4444444444444444,
              "#bd3786"
             ],
             [
              0.5555555555555556,
              "#d8576b"
             ],
             [
              0.6666666666666666,
              "#ed7953"
             ],
             [
              0.7777777777777778,
              "#fb9f3a"
             ],
             [
              0.8888888888888888,
              "#fdca26"
             ],
             [
              1,
              "#f0f921"
             ]
            ],
            "type": "contour"
           }
          ],
          "contourcarpet": [
           {
            "colorbar": {
             "outlinewidth": 0,
             "ticks": ""
            },
            "type": "contourcarpet"
           }
          ],
          "heatmap": [
           {
            "colorbar": {
             "outlinewidth": 0,
             "ticks": ""
            },
            "colorscale": [
             [
              0,
              "#0d0887"
             ],
             [
              0.1111111111111111,
              "#46039f"
             ],
             [
              0.2222222222222222,
              "#7201a8"
             ],
             [
              0.3333333333333333,
              "#9c179e"
             ],
             [
              0.4444444444444444,
              "#bd3786"
             ],
             [
              0.5555555555555556,
              "#d8576b"
             ],
             [
              0.6666666666666666,
              "#ed7953"
             ],
             [
              0.7777777777777778,
              "#fb9f3a"
             ],
             [
              0.8888888888888888,
              "#fdca26"
             ],
             [
              1,
              "#f0f921"
             ]
            ],
            "type": "heatmap"
           }
          ],
          "histogram": [
           {
            "marker": {
             "pattern": {
              "fillmode": "overlay",
              "size": 10,
              "solidity": 0.2
             }
            },
            "type": "histogram"
           }
          ],
          "histogram2d": [
           {
            "colorbar": {
             "outlinewidth": 0,
             "ticks": ""
            },
            "colorscale": [
             [
              0,
              "#0d0887"
             ],
             [
              0.1111111111111111,
              "#46039f"
             ],
             [
              0.2222222222222222,
              "#7201a8"
             ],
             [
              0.3333333333333333,
              "#9c179e"
             ],
             [
              0.4444444444444444,
              "#bd3786"
             ],
             [
              0.5555555555555556,
              "#d8576b"
             ],
             [
              0.6666666666666666,
              "#ed7953"
             ],
             [
              0.7777777777777778,
              "#fb9f3a"
             ],
             [
              0.8888888888888888,
              "#fdca26"
             ],
             [
              1,
              "#f0f921"
             ]
            ],
            "type": "histogram2d"
           }
          ],
          "histogram2dcontour": [
           {
            "colorbar": {
             "outlinewidth": 0,
             "ticks": ""
            },
            "colorscale": [
             [
              0,
              "#0d0887"
             ],
             [
              0.1111111111111111,
              "#46039f"
             ],
             [
              0.2222222222222222,
              "#7201a8"
             ],
             [
              0.3333333333333333,
              "#9c179e"
             ],
             [
              0.4444444444444444,
              "#bd3786"
             ],
             [
              0.5555555555555556,
              "#d8576b"
             ],
             [
              0.6666666666666666,
              "#ed7953"
             ],
             [
              0.7777777777777778,
              "#fb9f3a"
             ],
             [
              0.8888888888888888,
              "#fdca26"
             ],
             [
              1,
              "#f0f921"
             ]
            ],
            "type": "histogram2dcontour"
           }
          ],
          "mesh3d": [
           {
            "colorbar": {
             "outlinewidth": 0,
             "ticks": ""
            },
            "type": "mesh3d"
           }
          ],
          "parcoords": [
           {
            "line": {
             "colorbar": {
              "outlinewidth": 0,
              "ticks": ""
             }
            },
            "type": "parcoords"
           }
          ],
          "pie": [
           {
            "automargin": true,
            "type": "pie"
           }
          ],
          "scatter": [
           {
            "fillpattern": {
             "fillmode": "overlay",
             "size": 10,
             "solidity": 0.2
            },
            "type": "scatter"
           }
          ],
          "scatter3d": [
           {
            "line": {
             "colorbar": {
              "outlinewidth": 0,
              "ticks": ""
             }
            },
            "marker": {
             "colorbar": {
              "outlinewidth": 0,
              "ticks": ""
             }
            },
            "type": "scatter3d"
           }
          ],
          "scattercarpet": [
           {
            "marker": {
             "colorbar": {
              "outlinewidth": 0,
              "ticks": ""
             }
            },
            "type": "scattercarpet"
           }
          ],
          "scattergeo": [
           {
            "marker": {
             "colorbar": {
              "outlinewidth": 0,
              "ticks": ""
             }
            },
            "type": "scattergeo"
           }
          ],
          "scattergl": [
           {
            "marker": {
             "colorbar": {
              "outlinewidth": 0,
              "ticks": ""
             }
            },
            "type": "scattergl"
           }
          ],
          "scattermap": [
           {
            "marker": {
             "colorbar": {
              "outlinewidth": 0,
              "ticks": ""
             }
            },
            "type": "scattermap"
           }
          ],
          "scattermapbox": [
           {
            "marker": {
             "colorbar": {
              "outlinewidth": 0,
              "ticks": ""
             }
            },
            "type": "scattermapbox"
           }
          ],
          "scatterpolar": [
           {
            "marker": {
             "colorbar": {
              "outlinewidth": 0,
              "ticks": ""
             }
            },
            "type": "scatterpolar"
           }
          ],
          "scatterpolargl": [
           {
            "marker": {
             "colorbar": {
              "outlinewidth": 0,
              "ticks": ""
             }
            },
            "type": "scatterpolargl"
           }
          ],
          "scatterternary": [
           {
            "marker": {
             "colorbar": {
              "outlinewidth": 0,
              "ticks": ""
             }
            },
            "type": "scatterternary"
           }
          ],
          "surface": [
           {
            "colorbar": {
             "outlinewidth": 0,
             "ticks": ""
            },
            "colorscale": [
             [
              0,
              "#0d0887"
             ],
             [
              0.1111111111111111,
              "#46039f"
             ],
             [
              0.2222222222222222,
              "#7201a8"
             ],
             [
              0.3333333333333333,
              "#9c179e"
             ],
             [
              0.4444444444444444,
              "#bd3786"
             ],
             [
              0.5555555555555556,
              "#d8576b"
             ],
             [
              0.6666666666666666,
              "#ed7953"
             ],
             [
              0.7777777777777778,
              "#fb9f3a"
             ],
             [
              0.8888888888888888,
              "#fdca26"
             ],
             [
              1,
              "#f0f921"
             ]
            ],
            "type": "surface"
           }
          ],
          "table": [
           {
            "cells": {
             "fill": {
              "color": "#EBF0F8"
             },
             "line": {
              "color": "white"
             }
            },
            "header": {
             "fill": {
              "color": "#C8D4E3"
             },
             "line": {
              "color": "white"
             }
            },
            "type": "table"
           }
          ]
         },
         "layout": {
          "annotationdefaults": {
           "arrowcolor": "#2a3f5f",
           "arrowhead": 0,
           "arrowwidth": 1
          },
          "autotypenumbers": "strict",
          "coloraxis": {
           "colorbar": {
            "outlinewidth": 0,
            "ticks": ""
           }
          },
          "colorscale": {
           "diverging": [
            [
             0,
             "#8e0152"
            ],
            [
             0.1,
             "#c51b7d"
            ],
            [
             0.2,
             "#de77ae"
            ],
            [
             0.3,
             "#f1b6da"
            ],
            [
             0.4,
             "#fde0ef"
            ],
            [
             0.5,
             "#f7f7f7"
            ],
            [
             0.6,
             "#e6f5d0"
            ],
            [
             0.7,
             "#b8e186"
            ],
            [
             0.8,
             "#7fbc41"
            ],
            [
             0.9,
             "#4d9221"
            ],
            [
             1,
             "#276419"
            ]
           ],
           "sequential": [
            [
             0,
             "#0d0887"
            ],
            [
             0.1111111111111111,
             "#46039f"
            ],
            [
             0.2222222222222222,
             "#7201a8"
            ],
            [
             0.3333333333333333,
             "#9c179e"
            ],
            [
             0.4444444444444444,
             "#bd3786"
            ],
            [
             0.5555555555555556,
             "#d8576b"
            ],
            [
             0.6666666666666666,
             "#ed7953"
            ],
            [
             0.7777777777777778,
             "#fb9f3a"
            ],
            [
             0.8888888888888888,
             "#fdca26"
            ],
            [
             1,
             "#f0f921"
            ]
           ],
           "sequentialminus": [
            [
             0,
             "#0d0887"
            ],
            [
             0.1111111111111111,
             "#46039f"
            ],
            [
             0.2222222222222222,
             "#7201a8"
            ],
            [
             0.3333333333333333,
             "#9c179e"
            ],
            [
             0.4444444444444444,
             "#bd3786"
            ],
            [
             0.5555555555555556,
             "#d8576b"
            ],
            [
             0.6666666666666666,
             "#ed7953"
            ],
            [
             0.7777777777777778,
             "#fb9f3a"
            ],
            [
             0.8888888888888888,
             "#fdca26"
            ],
            [
             1,
             "#f0f921"
            ]
           ]
          },
          "colorway": [
           "#636efa",
           "#EF553B",
           "#00cc96",
           "#ab63fa",
           "#FFA15A",
           "#19d3f3",
           "#FF6692",
           "#B6E880",
           "#FF97FF",
           "#FECB52"
          ],
          "font": {
           "color": "#2a3f5f"
          },
          "geo": {
           "bgcolor": "white",
           "lakecolor": "white",
           "landcolor": "#E5ECF6",
           "showlakes": true,
           "showland": true,
           "subunitcolor": "white"
          },
          "hoverlabel": {
           "align": "left"
          },
          "hovermode": "closest",
          "mapbox": {
           "style": "light"
          },
          "paper_bgcolor": "white",
          "plot_bgcolor": "#E5ECF6",
          "polar": {
           "angularaxis": {
            "gridcolor": "white",
            "linecolor": "white",
            "ticks": ""
           },
           "bgcolor": "#E5ECF6",
           "radialaxis": {
            "gridcolor": "white",
            "linecolor": "white",
            "ticks": ""
           }
          },
          "scene": {
           "xaxis": {
            "backgroundcolor": "#E5ECF6",
            "gridcolor": "white",
            "gridwidth": 2,
            "linecolor": "white",
            "showbackground": true,
            "ticks": "",
            "zerolinecolor": "white"
           },
           "yaxis": {
            "backgroundcolor": "#E5ECF6",
            "gridcolor": "white",
            "gridwidth": 2,
            "linecolor": "white",
            "showbackground": true,
            "ticks": "",
            "zerolinecolor": "white"
           },
           "zaxis": {
            "backgroundcolor": "#E5ECF6",
            "gridcolor": "white",
            "gridwidth": 2,
            "linecolor": "white",
            "showbackground": true,
            "ticks": "",
            "zerolinecolor": "white"
           }
          },
          "shapedefaults": {
           "line": {
            "color": "#2a3f5f"
           }
          },
          "ternary": {
           "aaxis": {
            "gridcolor": "white",
            "linecolor": "white",
            "ticks": ""
           },
           "baxis": {
            "gridcolor": "white",
            "linecolor": "white",
            "ticks": ""
           },
           "bgcolor": "#E5ECF6",
           "caxis": {
            "gridcolor": "white",
            "linecolor": "white",
            "ticks": ""
           }
          },
          "title": {
           "x": 0.05
          },
          "xaxis": {
           "automargin": true,
           "gridcolor": "white",
           "linecolor": "white",
           "ticks": "",
           "title": {
            "standoff": 15
           },
           "zerolinecolor": "white",
           "zerolinewidth": 2
          },
          "yaxis": {
           "automargin": true,
           "gridcolor": "white",
           "linecolor": "white",
           "ticks": "",
           "title": {
            "standoff": 15
           },
           "zerolinecolor": "white",
           "zerolinewidth": 2
          }
         }
        },
        "title": {
         "text": "Age and Manner of Death",
         "x": 0.5
        },
        "width": 600,
        "xaxis": {
         "anchor": "y",
         "domain": [
          0,
          1
         ],
         "title": {
          "text": "manner_of_death"
         }
        },
        "yaxis": {
         "anchor": "x",
         "domain": [
          0,
          1
         ],
         "title": {
          "text": "age"
         }
        }
       }
      }
     },
     "metadata": {},
     "output_type": "display_data"
    }
   ],
   "source": [
    "fig6 = px.box(df_fatalities,\n",
    "             y='age',\n",
    "             x='manner_of_death',\n",
    "             color='gender',\n",
    "             points='all',\n",
    "             title='Age and Manner of Death',\n",
    "             width=600, height=600)\n",
    "fig6.update_layout(title_x=0.5)\n",
    "fig6.show()"
   ]
  },
  {
   "cell_type": "markdown",
   "metadata": {
    "id": "h1pAgkyb3Xb0"
   },
   "source": [
    "# Were People Armed? \n",
    "\n",
    "In what percentage of police killings were people armed? Create chart that show what kind of weapon (if any) the deceased was carrying. How many of the people killed by police were armed with guns versus unarmed? "
   ]
  },
  {
   "cell_type": "code",
   "execution_count": 46,
   "metadata": {
    "id": "0d9B3Pec4TdM"
   },
   "outputs": [
    {
     "data": {
      "text/html": [
       "<div>\n",
       "<style scoped>\n",
       "    .dataframe tbody tr th:only-of-type {\n",
       "        vertical-align: middle;\n",
       "    }\n",
       "\n",
       "    .dataframe tbody tr th {\n",
       "        vertical-align: top;\n",
       "    }\n",
       "\n",
       "    .dataframe thead th {\n",
       "        text-align: right;\n",
       "    }\n",
       "</style>\n",
       "<table border=\"1\" class=\"dataframe\">\n",
       "  <thead>\n",
       "    <tr style=\"text-align: right;\">\n",
       "      <th></th>\n",
       "      <th>id</th>\n",
       "      <th>name</th>\n",
       "      <th>date</th>\n",
       "      <th>manner_of_death</th>\n",
       "      <th>armed</th>\n",
       "      <th>age</th>\n",
       "      <th>gender</th>\n",
       "      <th>race</th>\n",
       "      <th>city</th>\n",
       "      <th>state</th>\n",
       "      <th>signs_of_mental_illness</th>\n",
       "      <th>threat_level</th>\n",
       "      <th>flee</th>\n",
       "      <th>body_camera</th>\n",
       "    </tr>\n",
       "  </thead>\n",
       "  <tbody>\n",
       "    <tr>\n",
       "      <th>0</th>\n",
       "      <td>3</td>\n",
       "      <td>Tim Elliot</td>\n",
       "      <td>02/01/15</td>\n",
       "      <td>shot</td>\n",
       "      <td>gun</td>\n",
       "      <td>53.00</td>\n",
       "      <td>M</td>\n",
       "      <td>A</td>\n",
       "      <td>Shelton</td>\n",
       "      <td>WA</td>\n",
       "      <td>True</td>\n",
       "      <td>attack</td>\n",
       "      <td>Not fleeing</td>\n",
       "      <td>False</td>\n",
       "    </tr>\n",
       "    <tr>\n",
       "      <th>1</th>\n",
       "      <td>4</td>\n",
       "      <td>Lewis Lee Lembke</td>\n",
       "      <td>02/01/15</td>\n",
       "      <td>shot</td>\n",
       "      <td>gun</td>\n",
       "      <td>47.00</td>\n",
       "      <td>M</td>\n",
       "      <td>W</td>\n",
       "      <td>Aloha</td>\n",
       "      <td>OR</td>\n",
       "      <td>False</td>\n",
       "      <td>attack</td>\n",
       "      <td>Not fleeing</td>\n",
       "      <td>False</td>\n",
       "    </tr>\n",
       "    <tr>\n",
       "      <th>2</th>\n",
       "      <td>5</td>\n",
       "      <td>John Paul Quintero</td>\n",
       "      <td>03/01/15</td>\n",
       "      <td>shot and Tasered</td>\n",
       "      <td>unarmed</td>\n",
       "      <td>23.00</td>\n",
       "      <td>M</td>\n",
       "      <td>H</td>\n",
       "      <td>Wichita</td>\n",
       "      <td>KS</td>\n",
       "      <td>False</td>\n",
       "      <td>other</td>\n",
       "      <td>Not fleeing</td>\n",
       "      <td>False</td>\n",
       "    </tr>\n",
       "    <tr>\n",
       "      <th>3</th>\n",
       "      <td>8</td>\n",
       "      <td>Matthew Hoffman</td>\n",
       "      <td>04/01/15</td>\n",
       "      <td>shot</td>\n",
       "      <td>toy weapon</td>\n",
       "      <td>32.00</td>\n",
       "      <td>M</td>\n",
       "      <td>W</td>\n",
       "      <td>San Francisco</td>\n",
       "      <td>CA</td>\n",
       "      <td>True</td>\n",
       "      <td>attack</td>\n",
       "      <td>Not fleeing</td>\n",
       "      <td>False</td>\n",
       "    </tr>\n",
       "    <tr>\n",
       "      <th>4</th>\n",
       "      <td>9</td>\n",
       "      <td>Michael Rodriguez</td>\n",
       "      <td>04/01/15</td>\n",
       "      <td>shot</td>\n",
       "      <td>nail gun</td>\n",
       "      <td>39.00</td>\n",
       "      <td>M</td>\n",
       "      <td>H</td>\n",
       "      <td>Evans</td>\n",
       "      <td>CO</td>\n",
       "      <td>False</td>\n",
       "      <td>attack</td>\n",
       "      <td>Not fleeing</td>\n",
       "      <td>False</td>\n",
       "    </tr>\n",
       "  </tbody>\n",
       "</table>\n",
       "</div>"
      ],
      "text/plain": [
       "   id                name      date   manner_of_death       armed   age  \\\n",
       "0   3          Tim Elliot  02/01/15              shot         gun 53.00   \n",
       "1   4    Lewis Lee Lembke  02/01/15              shot         gun 47.00   \n",
       "2   5  John Paul Quintero  03/01/15  shot and Tasered     unarmed 23.00   \n",
       "3   8     Matthew Hoffman  04/01/15              shot  toy weapon 32.00   \n",
       "4   9   Michael Rodriguez  04/01/15              shot    nail gun 39.00   \n",
       "\n",
       "  gender race           city state  signs_of_mental_illness threat_level  \\\n",
       "0      M    A        Shelton    WA                     True       attack   \n",
       "1      M    W          Aloha    OR                    False       attack   \n",
       "2      M    H        Wichita    KS                    False        other   \n",
       "3      M    W  San Francisco    CA                     True       attack   \n",
       "4      M    H          Evans    CO                    False       attack   \n",
       "\n",
       "          flee  body_camera  \n",
       "0  Not fleeing        False  \n",
       "1  Not fleeing        False  \n",
       "2  Not fleeing        False  \n",
       "3  Not fleeing        False  \n",
       "4  Not fleeing        False  "
      ]
     },
     "execution_count": 46,
     "metadata": {},
     "output_type": "execute_result"
    }
   ],
   "source": [
    "df_fatalities.head()"
   ]
  },
  {
   "cell_type": "code",
   "execution_count": 47,
   "metadata": {
    "id": "vdGTO3pW4Tp5"
   },
   "outputs": [],
   "source": [
    "armes_df = df_fatalities.groupby('armed').size().reset_index()\n",
    "armes_df.rename(columns={armes_df.columns[1]: 'count'},inplace=True)"
   ]
  },
  {
   "cell_type": "code",
   "execution_count": 48,
   "metadata": {},
   "outputs": [],
   "source": [
    "list1=['gun', 'unarmed']\n",
    "filter1 = armes_df['armed'].isin(list1)\n",
    "armes_df = armes_df[filter1]"
   ]
  },
  {
   "cell_type": "code",
   "execution_count": 49,
   "metadata": {
    "id": "qnO_rckl4WuJ"
   },
   "outputs": [
    {
     "data": {
      "application/vnd.plotly.v1+json": {
       "config": {
        "plotlyServerURL": "https://plot.ly"
       },
       "data": [
        {
         "domain": {
          "x": [
           0,
           1
          ],
          "y": [
           0,
           1
          ]
         },
         "hovertemplate": "armed=%{label}<br>count=%{value}<extra></extra>",
         "labels": [
          "gun",
          "unarmed"
         ],
         "legendgroup": "",
         "name": "",
         "showlegend": true,
         "type": "pie",
         "values": {
          "bdata": "3wSlAA==",
          "dtype": "i2"
         }
        }
       ],
       "layout": {
        "height": 400,
        "legend": {
         "tracegroupgap": 0
        },
        "template": {
         "data": {
          "bar": [
           {
            "error_x": {
             "color": "#2a3f5f"
            },
            "error_y": {
             "color": "#2a3f5f"
            },
            "marker": {
             "line": {
              "color": "#E5ECF6",
              "width": 0.5
             },
             "pattern": {
              "fillmode": "overlay",
              "size": 10,
              "solidity": 0.2
             }
            },
            "type": "bar"
           }
          ],
          "barpolar": [
           {
            "marker": {
             "line": {
              "color": "#E5ECF6",
              "width": 0.5
             },
             "pattern": {
              "fillmode": "overlay",
              "size": 10,
              "solidity": 0.2
             }
            },
            "type": "barpolar"
           }
          ],
          "carpet": [
           {
            "aaxis": {
             "endlinecolor": "#2a3f5f",
             "gridcolor": "white",
             "linecolor": "white",
             "minorgridcolor": "white",
             "startlinecolor": "#2a3f5f"
            },
            "baxis": {
             "endlinecolor": "#2a3f5f",
             "gridcolor": "white",
             "linecolor": "white",
             "minorgridcolor": "white",
             "startlinecolor": "#2a3f5f"
            },
            "type": "carpet"
           }
          ],
          "choropleth": [
           {
            "colorbar": {
             "outlinewidth": 0,
             "ticks": ""
            },
            "type": "choropleth"
           }
          ],
          "contour": [
           {
            "colorbar": {
             "outlinewidth": 0,
             "ticks": ""
            },
            "colorscale": [
             [
              0,
              "#0d0887"
             ],
             [
              0.1111111111111111,
              "#46039f"
             ],
             [
              0.2222222222222222,
              "#7201a8"
             ],
             [
              0.3333333333333333,
              "#9c179e"
             ],
             [
              0.4444444444444444,
              "#bd3786"
             ],
             [
              0.5555555555555556,
              "#d8576b"
             ],
             [
              0.6666666666666666,
              "#ed7953"
             ],
             [
              0.7777777777777778,
              "#fb9f3a"
             ],
             [
              0.8888888888888888,
              "#fdca26"
             ],
             [
              1,
              "#f0f921"
             ]
            ],
            "type": "contour"
           }
          ],
          "contourcarpet": [
           {
            "colorbar": {
             "outlinewidth": 0,
             "ticks": ""
            },
            "type": "contourcarpet"
           }
          ],
          "heatmap": [
           {
            "colorbar": {
             "outlinewidth": 0,
             "ticks": ""
            },
            "colorscale": [
             [
              0,
              "#0d0887"
             ],
             [
              0.1111111111111111,
              "#46039f"
             ],
             [
              0.2222222222222222,
              "#7201a8"
             ],
             [
              0.3333333333333333,
              "#9c179e"
             ],
             [
              0.4444444444444444,
              "#bd3786"
             ],
             [
              0.5555555555555556,
              "#d8576b"
             ],
             [
              0.6666666666666666,
              "#ed7953"
             ],
             [
              0.7777777777777778,
              "#fb9f3a"
             ],
             [
              0.8888888888888888,
              "#fdca26"
             ],
             [
              1,
              "#f0f921"
             ]
            ],
            "type": "heatmap"
           }
          ],
          "histogram": [
           {
            "marker": {
             "pattern": {
              "fillmode": "overlay",
              "size": 10,
              "solidity": 0.2
             }
            },
            "type": "histogram"
           }
          ],
          "histogram2d": [
           {
            "colorbar": {
             "outlinewidth": 0,
             "ticks": ""
            },
            "colorscale": [
             [
              0,
              "#0d0887"
             ],
             [
              0.1111111111111111,
              "#46039f"
             ],
             [
              0.2222222222222222,
              "#7201a8"
             ],
             [
              0.3333333333333333,
              "#9c179e"
             ],
             [
              0.4444444444444444,
              "#bd3786"
             ],
             [
              0.5555555555555556,
              "#d8576b"
             ],
             [
              0.6666666666666666,
              "#ed7953"
             ],
             [
              0.7777777777777778,
              "#fb9f3a"
             ],
             [
              0.8888888888888888,
              "#fdca26"
             ],
             [
              1,
              "#f0f921"
             ]
            ],
            "type": "histogram2d"
           }
          ],
          "histogram2dcontour": [
           {
            "colorbar": {
             "outlinewidth": 0,
             "ticks": ""
            },
            "colorscale": [
             [
              0,
              "#0d0887"
             ],
             [
              0.1111111111111111,
              "#46039f"
             ],
             [
              0.2222222222222222,
              "#7201a8"
             ],
             [
              0.3333333333333333,
              "#9c179e"
             ],
             [
              0.4444444444444444,
              "#bd3786"
             ],
             [
              0.5555555555555556,
              "#d8576b"
             ],
             [
              0.6666666666666666,
              "#ed7953"
             ],
             [
              0.7777777777777778,
              "#fb9f3a"
             ],
             [
              0.8888888888888888,
              "#fdca26"
             ],
             [
              1,
              "#f0f921"
             ]
            ],
            "type": "histogram2dcontour"
           }
          ],
          "mesh3d": [
           {
            "colorbar": {
             "outlinewidth": 0,
             "ticks": ""
            },
            "type": "mesh3d"
           }
          ],
          "parcoords": [
           {
            "line": {
             "colorbar": {
              "outlinewidth": 0,
              "ticks": ""
             }
            },
            "type": "parcoords"
           }
          ],
          "pie": [
           {
            "automargin": true,
            "type": "pie"
           }
          ],
          "scatter": [
           {
            "fillpattern": {
             "fillmode": "overlay",
             "size": 10,
             "solidity": 0.2
            },
            "type": "scatter"
           }
          ],
          "scatter3d": [
           {
            "line": {
             "colorbar": {
              "outlinewidth": 0,
              "ticks": ""
             }
            },
            "marker": {
             "colorbar": {
              "outlinewidth": 0,
              "ticks": ""
             }
            },
            "type": "scatter3d"
           }
          ],
          "scattercarpet": [
           {
            "marker": {
             "colorbar": {
              "outlinewidth": 0,
              "ticks": ""
             }
            },
            "type": "scattercarpet"
           }
          ],
          "scattergeo": [
           {
            "marker": {
             "colorbar": {
              "outlinewidth": 0,
              "ticks": ""
             }
            },
            "type": "scattergeo"
           }
          ],
          "scattergl": [
           {
            "marker": {
             "colorbar": {
              "outlinewidth": 0,
              "ticks": ""
             }
            },
            "type": "scattergl"
           }
          ],
          "scattermap": [
           {
            "marker": {
             "colorbar": {
              "outlinewidth": 0,
              "ticks": ""
             }
            },
            "type": "scattermap"
           }
          ],
          "scattermapbox": [
           {
            "marker": {
             "colorbar": {
              "outlinewidth": 0,
              "ticks": ""
             }
            },
            "type": "scattermapbox"
           }
          ],
          "scatterpolar": [
           {
            "marker": {
             "colorbar": {
              "outlinewidth": 0,
              "ticks": ""
             }
            },
            "type": "scatterpolar"
           }
          ],
          "scatterpolargl": [
           {
            "marker": {
             "colorbar": {
              "outlinewidth": 0,
              "ticks": ""
             }
            },
            "type": "scatterpolargl"
           }
          ],
          "scatterternary": [
           {
            "marker": {
             "colorbar": {
              "outlinewidth": 0,
              "ticks": ""
             }
            },
            "type": "scatterternary"
           }
          ],
          "surface": [
           {
            "colorbar": {
             "outlinewidth": 0,
             "ticks": ""
            },
            "colorscale": [
             [
              0,
              "#0d0887"
             ],
             [
              0.1111111111111111,
              "#46039f"
             ],
             [
              0.2222222222222222,
              "#7201a8"
             ],
             [
              0.3333333333333333,
              "#9c179e"
             ],
             [
              0.4444444444444444,
              "#bd3786"
             ],
             [
              0.5555555555555556,
              "#d8576b"
             ],
             [
              0.6666666666666666,
              "#ed7953"
             ],
             [
              0.7777777777777778,
              "#fb9f3a"
             ],
             [
              0.8888888888888888,
              "#fdca26"
             ],
             [
              1,
              "#f0f921"
             ]
            ],
            "type": "surface"
           }
          ],
          "table": [
           {
            "cells": {
             "fill": {
              "color": "#EBF0F8"
             },
             "line": {
              "color": "white"
             }
            },
            "header": {
             "fill": {
              "color": "#C8D4E3"
             },
             "line": {
              "color": "white"
             }
            },
            "type": "table"
           }
          ]
         },
         "layout": {
          "annotationdefaults": {
           "arrowcolor": "#2a3f5f",
           "arrowhead": 0,
           "arrowwidth": 1
          },
          "autotypenumbers": "strict",
          "coloraxis": {
           "colorbar": {
            "outlinewidth": 0,
            "ticks": ""
           }
          },
          "colorscale": {
           "diverging": [
            [
             0,
             "#8e0152"
            ],
            [
             0.1,
             "#c51b7d"
            ],
            [
             0.2,
             "#de77ae"
            ],
            [
             0.3,
             "#f1b6da"
            ],
            [
             0.4,
             "#fde0ef"
            ],
            [
             0.5,
             "#f7f7f7"
            ],
            [
             0.6,
             "#e6f5d0"
            ],
            [
             0.7,
             "#b8e186"
            ],
            [
             0.8,
             "#7fbc41"
            ],
            [
             0.9,
             "#4d9221"
            ],
            [
             1,
             "#276419"
            ]
           ],
           "sequential": [
            [
             0,
             "#0d0887"
            ],
            [
             0.1111111111111111,
             "#46039f"
            ],
            [
             0.2222222222222222,
             "#7201a8"
            ],
            [
             0.3333333333333333,
             "#9c179e"
            ],
            [
             0.4444444444444444,
             "#bd3786"
            ],
            [
             0.5555555555555556,
             "#d8576b"
            ],
            [
             0.6666666666666666,
             "#ed7953"
            ],
            [
             0.7777777777777778,
             "#fb9f3a"
            ],
            [
             0.8888888888888888,
             "#fdca26"
            ],
            [
             1,
             "#f0f921"
            ]
           ],
           "sequentialminus": [
            [
             0,
             "#0d0887"
            ],
            [
             0.1111111111111111,
             "#46039f"
            ],
            [
             0.2222222222222222,
             "#7201a8"
            ],
            [
             0.3333333333333333,
             "#9c179e"
            ],
            [
             0.4444444444444444,
             "#bd3786"
            ],
            [
             0.5555555555555556,
             "#d8576b"
            ],
            [
             0.6666666666666666,
             "#ed7953"
            ],
            [
             0.7777777777777778,
             "#fb9f3a"
            ],
            [
             0.8888888888888888,
             "#fdca26"
            ],
            [
             1,
             "#f0f921"
            ]
           ]
          },
          "colorway": [
           "#636efa",
           "#EF553B",
           "#00cc96",
           "#ab63fa",
           "#FFA15A",
           "#19d3f3",
           "#FF6692",
           "#B6E880",
           "#FF97FF",
           "#FECB52"
          ],
          "font": {
           "color": "#2a3f5f"
          },
          "geo": {
           "bgcolor": "white",
           "lakecolor": "white",
           "landcolor": "#E5ECF6",
           "showlakes": true,
           "showland": true,
           "subunitcolor": "white"
          },
          "hoverlabel": {
           "align": "left"
          },
          "hovermode": "closest",
          "mapbox": {
           "style": "light"
          },
          "paper_bgcolor": "white",
          "plot_bgcolor": "#E5ECF6",
          "polar": {
           "angularaxis": {
            "gridcolor": "white",
            "linecolor": "white",
            "ticks": ""
           },
           "bgcolor": "#E5ECF6",
           "radialaxis": {
            "gridcolor": "white",
            "linecolor": "white",
            "ticks": ""
           }
          },
          "scene": {
           "xaxis": {
            "backgroundcolor": "#E5ECF6",
            "gridcolor": "white",
            "gridwidth": 2,
            "linecolor": "white",
            "showbackground": true,
            "ticks": "",
            "zerolinecolor": "white"
           },
           "yaxis": {
            "backgroundcolor": "#E5ECF6",
            "gridcolor": "white",
            "gridwidth": 2,
            "linecolor": "white",
            "showbackground": true,
            "ticks": "",
            "zerolinecolor": "white"
           },
           "zaxis": {
            "backgroundcolor": "#E5ECF6",
            "gridcolor": "white",
            "gridwidth": 2,
            "linecolor": "white",
            "showbackground": true,
            "ticks": "",
            "zerolinecolor": "white"
           }
          },
          "shapedefaults": {
           "line": {
            "color": "#2a3f5f"
           }
          },
          "ternary": {
           "aaxis": {
            "gridcolor": "white",
            "linecolor": "white",
            "ticks": ""
           },
           "baxis": {
            "gridcolor": "white",
            "linecolor": "white",
            "ticks": ""
           },
           "bgcolor": "#E5ECF6",
           "caxis": {
            "gridcolor": "white",
            "linecolor": "white",
            "ticks": ""
           }
          },
          "title": {
           "x": 0.05
          },
          "xaxis": {
           "automargin": true,
           "gridcolor": "white",
           "linecolor": "white",
           "ticks": "",
           "title": {
            "standoff": 15
           },
           "zerolinecolor": "white",
           "zerolinewidth": 2
          },
          "yaxis": {
           "automargin": true,
           "gridcolor": "white",
           "linecolor": "white",
           "ticks": "",
           "title": {
            "standoff": 15
           },
           "zerolinecolor": "white",
           "zerolinewidth": 2
          }
         }
        },
        "title": {
         "text": "Police killing : Armed vs unarmed people"
        },
        "width": 500
       }
      },
      "image/png": "[encoded data removed]"
     },
     "metadata": {},
     "output_type": "display_data"
    }
   ],
   "source": [
    "px.pie(armes_df, names='armed', values='count', title='Police killing : Armed vs unarmed people', width=500, height=400)"
   ]
  },
  {
   "cell_type": "markdown",
   "metadata": {
    "id": "IgD2a5-L4W_I"
   },
   "source": [
    "# How Old Were the People Killed?"
   ]
  },
  {
   "cell_type": "markdown",
   "metadata": {
    "id": "BNPrdT-W9lf3"
   },
   "source": [
    "Work out what percentage of people killed were under 25 years old.  "
   ]
  },
  {
   "cell_type": "code",
   "execution_count": 50,
   "metadata": {
    "id": "zSyDgzb542O9"
   },
   "outputs": [],
   "source": [
    "df_fatalities['age group'] = np.where(df_fatalities['age'] <= 25, 'Young', 'Old')"
   ]
  },
  {
   "cell_type": "code",
   "execution_count": 51,
   "metadata": {},
   "outputs": [
    {
     "data": {
      "text/html": [
       "<div>\n",
       "<style scoped>\n",
       "    .dataframe tbody tr th:only-of-type {\n",
       "        vertical-align: middle;\n",
       "    }\n",
       "\n",
       "    .dataframe tbody tr th {\n",
       "        vertical-align: top;\n",
       "    }\n",
       "\n",
       "    .dataframe thead th {\n",
       "        text-align: right;\n",
       "    }\n",
       "</style>\n",
       "<table border=\"1\" class=\"dataframe\">\n",
       "  <thead>\n",
       "    <tr style=\"text-align: right;\">\n",
       "      <th></th>\n",
       "      <th>age group</th>\n",
       "      <th>count</th>\n",
       "    </tr>\n",
       "  </thead>\n",
       "  <tbody>\n",
       "    <tr>\n",
       "      <th>0</th>\n",
       "      <td>Old</td>\n",
       "      <td>1737</td>\n",
       "    </tr>\n",
       "    <tr>\n",
       "      <th>1</th>\n",
       "      <td>Young</td>\n",
       "      <td>517</td>\n",
       "    </tr>\n",
       "  </tbody>\n",
       "</table>\n",
       "</div>"
      ],
      "text/plain": [
       "  age group  count\n",
       "0       Old   1737\n",
       "1     Young    517"
      ]
     },
     "execution_count": 51,
     "metadata": {},
     "output_type": "execute_result"
    }
   ],
   "source": [
    "age_group_g = df_fatalities['age group'].value_counts().reset_index()\n",
    "age_group_g"
   ]
  },
  {
   "cell_type": "code",
   "execution_count": 52,
   "metadata": {},
   "outputs": [
    {
     "data": {
      "application/vnd.plotly.v1+json": {
       "config": {
        "plotlyServerURL": "https://plot.ly"
       },
       "data": [
        {
         "domain": {
          "x": [
           0,
           1
          ],
          "y": [
           0,
           1
          ]
         },
         "hovertemplate": "age group=%{label}<br>count=%{value}<extra></extra>",
         "labels": [
          "Old",
          "Young"
         ],
         "legendgroup": "",
         "name": "",
         "showlegend": true,
         "type": "pie",
         "values": {
          "bdata": "yQYFAg==",
          "dtype": "i2"
         }
        }
       ],
       "layout": {
        "height": 400,
        "legend": {
         "tracegroupgap": 0
        },
        "template": {
         "data": {
          "bar": [
           {
            "error_x": {
             "color": "#2a3f5f"
            },
            "error_y": {
             "color": "#2a3f5f"
            },
            "marker": {
             "line": {
              "color": "#E5ECF6",
              "width": 0.5
             },
             "pattern": {
              "fillmode": "overlay",
              "size": 10,
              "solidity": 0.2
             }
            },
            "type": "bar"
           }
          ],
          "barpolar": [
           {
            "marker": {
             "line": {
              "color": "#E5ECF6",
              "width": 0.5
             },
             "pattern": {
              "fillmode": "overlay",
              "size": 10,
              "solidity": 0.2
             }
            },
            "type": "barpolar"
           }
          ],
          "carpet": [
           {
            "aaxis": {
             "endlinecolor": "#2a3f5f",
             "gridcolor": "white",
             "linecolor": "white",
             "minorgridcolor": "white",
             "startlinecolor": "#2a3f5f"
            },
            "baxis": {
             "endlinecolor": "#2a3f5f",
             "gridcolor": "white",
             "linecolor": "white",
             "minorgridcolor": "white",
             "startlinecolor": "#2a3f5f"
            },
            "type": "carpet"
           }
          ],
          "choropleth": [
           {
            "colorbar": {
             "outlinewidth": 0,
             "ticks": ""
            },
            "type": "choropleth"
           }
          ],
          "contour": [
           {
            "colorbar": {
             "outlinewidth": 0,
             "ticks": ""
            },
            "colorscale": [
             [
              0,
              "#0d0887"
             ],
             [
              0.1111111111111111,
              "#46039f"
             ],
             [
              0.2222222222222222,
              "#7201a8"
             ],
             [
              0.3333333333333333,
              "#9c179e"
             ],
             [
              0.4444444444444444,
              "#bd3786"
             ],
             [
              0.5555555555555556,
              "#d8576b"
             ],
             [
              0.6666666666666666,
              "#ed7953"
             ],
             [
              0.7777777777777778,
              "#fb9f3a"
             ],
             [
              0.8888888888888888,
              "#fdca26"
             ],
             [
              1,
              "#f0f921"
             ]
            ],
            "type": "contour"
           }
          ],
          "contourcarpet": [
           {
            "colorbar": {
             "outlinewidth": 0,
             "ticks": ""
            },
            "type": "contourcarpet"
           }
          ],
          "heatmap": [
           {
            "colorbar": {
             "outlinewidth": 0,
             "ticks": ""
            },
            "colorscale": [
             [
              0,
              "#0d0887"
             ],
             [
              0.1111111111111111,
              "#46039f"
             ],
             [
              0.2222222222222222,
              "#7201a8"
             ],
             [
              0.3333333333333333,
              "#9c179e"
             ],
             [
              0.4444444444444444,
              "#bd3786"
             ],
             [
              0.5555555555555556,
              "#d8576b"
             ],
             [
              0.6666666666666666,
              "#ed7953"
             ],
             [
              0.7777777777777778,
              "#fb9f3a"
             ],
             [
              0.8888888888888888,
              "#fdca26"
             ],
             [
              1,
              "#f0f921"
             ]
            ],
            "type": "heatmap"
           }
          ],
          "histogram": [
           {
            "marker": {
             "pattern": {
              "fillmode": "overlay",
              "size": 10,
              "solidity": 0.2
             }
            },
            "type": "histogram"
           }
          ],
          "histogram2d": [
           {
            "colorbar": {
             "outlinewidth": 0,
             "ticks": ""
            },
            "colorscale": [
             [
              0,
              "#0d0887"
             ],
             [
              0.1111111111111111,
              "#46039f"
             ],
             [
              0.2222222222222222,
              "#7201a8"
             ],
             [
              0.3333333333333333,
              "#9c179e"
             ],
             [
              0.4444444444444444,
              "#bd3786"
             ],
             [
              0.5555555555555556,
              "#d8576b"
             ],
             [
              0.6666666666666666,
              "#ed7953"
             ],
             [
              0.7777777777777778,
              "#fb9f3a"
             ],
             [
              0.8888888888888888,
              "#fdca26"
             ],
             [
              1,
              "#f0f921"
             ]
            ],
            "type": "histogram2d"
           }
          ],
          "histogram2dcontour": [
           {
            "colorbar": {
             "outlinewidth": 0,
             "ticks": ""
            },
            "colorscale": [
             [
              0,
              "#0d0887"
             ],
             [
              0.1111111111111111,
              "#46039f"
             ],
             [
              0.2222222222222222,
              "#7201a8"
             ],
             [
              0.3333333333333333,
              "#9c179e"
             ],
             [
              0.4444444444444444,
              "#bd3786"
             ],
             [
              0.5555555555555556,
              "#d8576b"
             ],
             [
              0.6666666666666666,
              "#ed7953"
             ],
             [
              0.7777777777777778,
              "#fb9f3a"
             ],
             [
              0.8888888888888888,
              "#fdca26"
             ],
             [
              1,
              "#f0f921"
             ]
            ],
            "type": "histogram2dcontour"
           }
          ],
          "mesh3d": [
           {
            "colorbar": {
             "outlinewidth": 0,
             "ticks": ""
            },
            "type": "mesh3d"
           }
          ],
          "parcoords": [
           {
            "line": {
             "colorbar": {
              "outlinewidth": 0,
              "ticks": ""
             }
            },
            "type": "parcoords"
           }
          ],
          "pie": [
           {
            "automargin": true,
            "type": "pie"
           }
          ],
          "scatter": [
           {
            "fillpattern": {
             "fillmode": "overlay",
             "size": 10,
             "solidity": 0.2
            },
            "type": "scatter"
           }
          ],
          "scatter3d": [
           {
            "line": {
             "colorbar": {
              "outlinewidth": 0,
              "ticks": ""
             }
            },
            "marker": {
             "colorbar": {
              "outlinewidth": 0,
              "ticks": ""
             }
            },
            "type": "scatter3d"
           }
          ],
          "scattercarpet": [
           {
            "marker": {
             "colorbar": {
              "outlinewidth": 0,
              "ticks": ""
             }
            },
            "type": "scattercarpet"
           }
          ],
          "scattergeo": [
           {
            "marker": {
             "colorbar": {
              "outlinewidth": 0,
              "ticks": ""
             }
            },
            "type": "scattergeo"
           }
          ],
          "scattergl": [
           {
            "marker": {
             "colorbar": {
              "outlinewidth": 0,
              "ticks": ""
             }
            },
            "type": "scattergl"
           }
          ],
          "scattermap": [
           {
            "marker": {
             "colorbar": {
              "outlinewidth": 0,
              "ticks": ""
             }
            },
            "type": "scattermap"
           }
          ],
          "scattermapbox": [
           {
            "marker": {
             "colorbar": {
              "outlinewidth": 0,
              "ticks": ""
             }
            },
            "type": "scattermapbox"
           }
          ],
          "scatterpolar": [
           {
            "marker": {
             "colorbar": {
              "outlinewidth": 0,
              "ticks": ""
             }
            },
            "type": "scatterpolar"
           }
          ],
          "scatterpolargl": [
           {
            "marker": {
             "colorbar": {
              "outlinewidth": 0,
              "ticks": ""
             }
            },
            "type": "scatterpolargl"
           }
          ],
          "scatterternary": [
           {
            "marker": {
             "colorbar": {
              "outlinewidth": 0,
              "ticks": ""
             }
            },
            "type": "scatterternary"
           }
          ],
          "surface": [
           {
            "colorbar": {
             "outlinewidth": 0,
             "ticks": ""
            },
            "colorscale": [
             [
              0,
              "#0d0887"
             ],
             [
              0.1111111111111111,
              "#46039f"
             ],
             [
              0.2222222222222222,
              "#7201a8"
             ],
             [
              0.3333333333333333,
              "#9c179e"
             ],
             [
              0.4444444444444444,
              "#bd3786"
             ],
             [
              0.5555555555555556,
              "#d8576b"
             ],
             [
              0.6666666666666666,
              "#ed7953"
             ],
             [
              0.7777777777777778,
              "#fb9f3a"
             ],
             [
              0.8888888888888888,
              "#fdca26"
             ],
             [
              1,
              "#f0f921"
             ]
            ],
            "type": "surface"
           }
          ],
          "table": [
           {
            "cells": {
             "fill": {
              "color": "#EBF0F8"
             },
             "line": {
              "color": "white"
             }
            },
            "header": {
             "fill": {
              "color": "#C8D4E3"
             },
             "line": {
              "color": "white"
             }
            },
            "type": "table"
           }
          ]
         },
         "layout": {
          "annotationdefaults": {
           "arrowcolor": "#2a3f5f",
           "arrowhead": 0,
           "arrowwidth": 1
          },
          "autotypenumbers": "strict",
          "coloraxis": {
           "colorbar": {
            "outlinewidth": 0,
            "ticks": ""
           }
          },
          "colorscale": {
           "diverging": [
            [
             0,
             "#8e0152"
            ],
            [
             0.1,
             "#c51b7d"
            ],
            [
             0.2,
             "#de77ae"
            ],
            [
             0.3,
             "#f1b6da"
            ],
            [
             0.4,
             "#fde0ef"
            ],
            [
             0.5,
             "#f7f7f7"
            ],
            [
             0.6,
             "#e6f5d0"
            ],
            [
             0.7,
             "#b8e186"
            ],
            [
             0.8,
             "#7fbc41"
            ],
            [
             0.9,
             "#4d9221"
            ],
            [
             1,
             "#276419"
            ]
           ],
           "sequential": [
            [
             0,
             "#0d0887"
            ],
            [
             0.1111111111111111,
             "#46039f"
            ],
            [
             0.2222222222222222,
             "#7201a8"
            ],
            [
             0.3333333333333333,
             "#9c179e"
            ],
            [
             0.4444444444444444,
             "#bd3786"
            ],
            [
             0.5555555555555556,
             "#d8576b"
            ],
            [
             0.6666666666666666,
             "#ed7953"
            ],
            [
             0.7777777777777778,
             "#fb9f3a"
            ],
            [
             0.8888888888888888,
             "#fdca26"
            ],
            [
             1,
             "#f0f921"
            ]
           ],
           "sequentialminus": [
            [
             0,
             "#0d0887"
            ],
            [
             0.1111111111111111,
             "#46039f"
            ],
            [
             0.2222222222222222,
             "#7201a8"
            ],
            [
             0.3333333333333333,
             "#9c179e"
            ],
            [
             0.4444444444444444,
             "#bd3786"
            ],
            [
             0.5555555555555556,
             "#d8576b"
            ],
            [
             0.6666666666666666,
             "#ed7953"
            ],
            [
             0.7777777777777778,
             "#fb9f3a"
            ],
            [
             0.8888888888888888,
             "#fdca26"
            ],
            [
             1,
             "#f0f921"
            ]
           ]
          },
          "colorway": [
           "#636efa",
           "#EF553B",
           "#00cc96",
           "#ab63fa",
           "#FFA15A",
           "#19d3f3",
           "#FF6692",
           "#B6E880",
           "#FF97FF",
           "#FECB52"
          ],
          "font": {
           "color": "#2a3f5f"
          },
          "geo": {
           "bgcolor": "white",
           "lakecolor": "white",
           "landcolor": "#E5ECF6",
           "showlakes": true,
           "showland": true,
           "subunitcolor": "white"
          },
          "hoverlabel": {
           "align": "left"
          },
          "hovermode": "closest",
          "mapbox": {
           "style": "light"
          },
          "paper_bgcolor": "white",
          "plot_bgcolor": "#E5ECF6",
          "polar": {
           "angularaxis": {
            "gridcolor": "white",
            "linecolor": "white",
            "ticks": ""
           },
           "bgcolor": "#E5ECF6",
           "radialaxis": {
            "gridcolor": "white",
            "linecolor": "white",
            "ticks": ""
           }
          },
          "scene": {
           "xaxis": {
            "backgroundcolor": "#E5ECF6",
            "gridcolor": "white",
            "gridwidth": 2,
            "linecolor": "white",
            "showbackground": true,
            "ticks": "",
            "zerolinecolor": "white"
           },
           "yaxis": {
            "backgroundcolor": "#E5ECF6",
            "gridcolor": "white",
            "gridwidth": 2,
            "linecolor": "white",
            "showbackground": true,
            "ticks": "",
            "zerolinecolor": "white"
           },
           "zaxis": {
            "backgroundcolor": "#E5ECF6",
            "gridcolor": "white",
            "gridwidth": 2,
            "linecolor": "white",
            "showbackground": true,
            "ticks": "",
            "zerolinecolor": "white"
           }
          },
          "shapedefaults": {
           "line": {
            "color": "#2a3f5f"
           }
          },
          "ternary": {
           "aaxis": {
            "gridcolor": "white",
            "linecolor": "white",
            "ticks": ""
           },
           "baxis": {
            "gridcolor": "white",
            "linecolor": "white",
            "ticks": ""
           },
           "bgcolor": "#E5ECF6",
           "caxis": {
            "gridcolor": "white",
            "linecolor": "white",
            "ticks": ""
           }
          },
          "title": {
           "x": 0.05
          },
          "xaxis": {
           "automargin": true,
           "gridcolor": "white",
           "linecolor": "white",
           "ticks": "",
           "title": {
            "standoff": 15
           },
           "zerolinecolor": "white",
           "zerolinewidth": 2
          },
          "yaxis": {
           "automargin": true,
           "gridcolor": "white",
           "linecolor": "white",
           "ticks": "",
           "title": {
            "standoff": 15
           },
           "zerolinecolor": "white",
           "zerolinewidth": 2
          }
         }
        },
        "title": {
         "text": "Age group repartition"
        },
        "width": 500
       }
      },
      "image/png": "[encoded data removed]"
     },
     "metadata": {},
     "output_type": "display_data"
    }
   ],
   "source": [
    "px.pie(age_group_g, names='age group', values='count', title='Age group repartition', width=500, height=400)"
   ]
  },
  {
   "cell_type": "markdown",
   "metadata": {
    "id": "5XrAD_ey9qBB"
   },
   "source": [
    "Create a histogram and KDE plot that shows the distribution of ages of the people killed by police. "
   ]
  },
  {
   "cell_type": "code",
   "execution_count": 53,
   "metadata": {
    "id": "U6B1Qp7l42H8"
   },
   "outputs": [
    {
     "data": {
      "application/vnd.plotly.v1+json": {
       "config": {
        "plotlyServerURL": "https://plot.ly"
       },
       "data": [
        {
         "hovertemplate": "x=%{x}<br>y=%{y}<extra></extra>",
         "legendgroup": "",
         "marker": {
          "color": "#636efa",
          "pattern": {
           "shape": ""
          }
         },
         "name": "",
         "orientation": "v",
         "showlegend": false,
         "textposition": "auto",
         "type": "bar",
         "x": {
          "bdata": "AAAAAAAAGEAAAAAAAAAoQAAAAAAAACpAAAAAAAAALEAAAAAAAAAuQAAAAAAAADBAAAAAAAAAMUAAAAAAAAAyQAAAAAAAADNAAAAAAAAANEAAAAAAAAA1QAAAAAAAADZAAAAAAAAAN0AAAAAAAAA4QAAAAAAAADlAAAAAAAAAOkAAAAAAAAA7QAAAAAAAADxAAAAAAAAAPUAAAAAAAAA+QAAAAAAAAD9AAAAAAAAAQEAAAAAAAIBAQAAAAAAAAEFAAAAAAACAQUAAAAAAAABCQAAAAAAAgEJAAAAAAAAAQ0AAAAAAAIBDQAAAAAAAAERAAAAAAACAREAAAAAAAABFQAAAAAAAgEVAAAAAAAAARkAAAAAAAIBGQAAAAAAAAEdAAAAAAACAR0AAAAAAAABIQAAAAAAAgEhAAAAAAAAASUAAAAAAAIBJQAAAAAAAAEpAAAAAAACASkAAAAAAAABLQAAAAAAAgEtAAAAAAAAATEAAAAAAAIBMQAAAAAAAAE1AAAAAAACATUAAAAAAAABOQAAAAAAAgE5AAAAAAAAAT0AAAAAAAIBPQAAAAAAAAFBAAAAAAABAUEAAAAAAAIBQQAAAAAAAwFBAAAAAAAAAUUAAAAAAAEBRQAAAAAAAgFFAAAAAAADAUUAAAAAAAABSQAAAAAAAQFJAAAAAAACAUkAAAAAAAMBSQAAAAAAAAFNAAAAAAABAU0AAAAAAAMBTQAAAAAAAAFRAAAAAAACAVEAAAAAAAMBUQAAAAAAAwFZA",
          "dtype": "f8"
         },
         "xaxis": "x",
         "y": {
          "bdata": "AQEBAQcPFzQlJzM1Q0pfRkRETkVOSEZEQ1U9Ny8rMSUnIDkkIhwjKyEcJRUXGRERHhAKCQ8KBgcFBgcEBAICAgEEAQEBAQIB",
          "dtype": "i1"
         },
         "yaxis": "y"
        }
       ],
       "layout": {
        "barmode": "relative",
        "legend": {
         "tracegroupgap": 0
        },
        "template": {
         "data": {
          "bar": [
           {
            "error_x": {
             "color": "#2a3f5f"
            },
            "error_y": {
             "color": "#2a3f5f"
            },
            "marker": {
             "line": {
              "color": "#E5ECF6",
              "width": 0.5
             },
             "pattern": {
              "fillmode": "overlay",
              "size": 10,
              "solidity": 0.2
             }
            },
            "type": "bar"
           }
          ],
          "barpolar": [
           {
            "marker": {
             "line": {
              "color": "#E5ECF6",
              "width": 0.5
             },
             "pattern": {
              "fillmode": "overlay",
              "size": 10,
              "solidity": 0.2
             }
            },
            "type": "barpolar"
           }
          ],
          "carpet": [
           {
            "aaxis": {
             "endlinecolor": "#2a3f5f",
             "gridcolor": "white",
             "linecolor": "white",
             "minorgridcolor": "white",
             "startlinecolor": "#2a3f5f"
            },
            "baxis": {
             "endlinecolor": "#2a3f5f",
             "gridcolor": "white",
             "linecolor": "white",
             "minorgridcolor": "white",
             "startlinecolor": "#2a3f5f"
            },
            "type": "carpet"
           }
          ],
          "choropleth": [
           {
            "colorbar": {
             "outlinewidth": 0,
             "ticks": ""
            },
            "type": "choropleth"
           }
          ],
          "contour": [
           {
            "colorbar": {
             "outlinewidth": 0,
             "ticks": ""
            },
            "colorscale": [
             [
              0,
              "#0d0887"
             ],
             [
              0.1111111111111111,
              "#46039f"
             ],
             [
              0.2222222222222222,
              "#7201a8"
             ],
             [
              0.3333333333333333,
              "#9c179e"
             ],
             [
              0.4444444444444444,
              "#bd3786"
             ],
             [
              0.5555555555555556,
              "#d8576b"
             ],
             [
              0.6666666666666666,
              "#ed7953"
             ],
             [
              0.7777777777777778,
              "#fb9f3a"
             ],
             [
              0.8888888888888888,
              "#fdca26"
             ],
             [
              1,
              "#f0f921"
             ]
            ],
            "type": "contour"
           }
          ],
          "contourcarpet": [
           {
            "colorbar": {
             "outlinewidth": 0,
             "ticks": ""
            },
            "type": "contourcarpet"
           }
          ],
          "heatmap": [
           {
            "colorbar": {
             "outlinewidth": 0,
             "ticks": ""
            },
            "colorscale": [
             [
              0,
              "#0d0887"
             ],
             [
              0.1111111111111111,
              "#46039f"
             ],
             [
              0.2222222222222222,
              "#7201a8"
             ],
             [
              0.3333333333333333,
              "#9c179e"
             ],
             [
              0.4444444444444444,
              "#bd3786"
             ],
             [
              0.5555555555555556,
              "#d8576b"
             ],
             [
              0.6666666666666666,
              "#ed7953"
             ],
             [
              0.7777777777777778,
              "#fb9f3a"
             ],
             [
              0.8888888888888888,
              "#fdca26"
             ],
             [
              1,
              "#f0f921"
             ]
            ],
            "type": "heatmap"
           }
          ],
          "histogram": [
           {
            "marker": {
             "pattern": {
              "fillmode": "overlay",
              "size": 10,
              "solidity": 0.2
             }
            },
            "type": "histogram"
           }
          ],
          "histogram2d": [
           {
            "colorbar": {
             "outlinewidth": 0,
             "ticks": ""
            },
            "colorscale": [
             [
              0,
              "#0d0887"
             ],
             [
              0.1111111111111111,
              "#46039f"
             ],
             [
              0.2222222222222222,
              "#7201a8"
             ],
             [
              0.3333333333333333,
              "#9c179e"
             ],
             [
              0.4444444444444444,
              "#bd3786"
             ],
             [
              0.5555555555555556,
              "#d8576b"
             ],
             [
              0.6666666666666666,
              "#ed7953"
             ],
             [
              0.7777777777777778,
              "#fb9f3a"
             ],
             [
              0.8888888888888888,
              "#fdca26"
             ],
             [
              1,
              "#f0f921"
             ]
            ],
            "type": "histogram2d"
           }
          ],
          "histogram2dcontour": [
           {
            "colorbar": {
             "outlinewidth": 0,
             "ticks": ""
            },
            "colorscale": [
             [
              0,
              "#0d0887"
             ],
             [
              0.1111111111111111,
              "#46039f"
             ],
             [
              0.2222222222222222,
              "#7201a8"
             ],
             [
              0.3333333333333333,
              "#9c179e"
             ],
             [
              0.4444444444444444,
              "#bd3786"
             ],
             [
              0.5555555555555556,
              "#d8576b"
             ],
             [
              0.6666666666666666,
              "#ed7953"
             ],
             [
              0.7777777777777778,
              "#fb9f3a"
             ],
             [
              0.8888888888888888,
              "#fdca26"
             ],
             [
              1,
              "#f0f921"
             ]
            ],
            "type": "histogram2dcontour"
           }
          ],
          "mesh3d": [
           {
            "colorbar": {
             "outlinewidth": 0,
             "ticks": ""
            },
            "type": "mesh3d"
           }
          ],
          "parcoords": [
           {
            "line": {
             "colorbar": {
              "outlinewidth": 0,
              "ticks": ""
             }
            },
            "type": "parcoords"
           }
          ],
          "pie": [
           {
            "automargin": true,
            "type": "pie"
           }
          ],
          "scatter": [
           {
            "fillpattern": {
             "fillmode": "overlay",
             "size": 10,
             "solidity": 0.2
            },
            "type": "scatter"
           }
          ],
          "scatter3d": [
           {
            "line": {
             "colorbar": {
              "outlinewidth": 0,
              "ticks": ""
             }
            },
            "marker": {
             "colorbar": {
              "outlinewidth": 0,
              "ticks": ""
             }
            },
            "type": "scatter3d"
           }
          ],
          "scattercarpet": [
           {
            "marker": {
             "colorbar": {
              "outlinewidth": 0,
              "ticks": ""
             }
            },
            "type": "scattercarpet"
           }
          ],
          "scattergeo": [
           {
            "marker": {
             "colorbar": {
              "outlinewidth": 0,
              "ticks": ""
             }
            },
            "type": "scattergeo"
           }
          ],
          "scattergl": [
           {
            "marker": {
             "colorbar": {
              "outlinewidth": 0,
              "ticks": ""
             }
            },
            "type": "scattergl"
           }
          ],
          "scattermap": [
           {
            "marker": {
             "colorbar": {
              "outlinewidth": 0,
              "ticks": ""
             }
            },
            "type": "scattermap"
           }
          ],
          "scattermapbox": [
           {
            "marker": {
             "colorbar": {
              "outlinewidth": 0,
              "ticks": ""
             }
            },
            "type": "scattermapbox"
           }
          ],
          "scatterpolar": [
           {
            "marker": {
             "colorbar": {
              "outlinewidth": 0,
              "ticks": ""
             }
            },
            "type": "scatterpolar"
           }
          ],
          "scatterpolargl": [
           {
            "marker": {
             "colorbar": {
              "outlinewidth": 0,
              "ticks": ""
             }
            },
            "type": "scatterpolargl"
           }
          ],
          "scatterternary": [
           {
            "marker": {
             "colorbar": {
              "outlinewidth": 0,
              "ticks": ""
             }
            },
            "type": "scatterternary"
           }
          ],
          "surface": [
           {
            "colorbar": {
             "outlinewidth": 0,
             "ticks": ""
            },
            "colorscale": [
             [
              0,
              "#0d0887"
             ],
             [
              0.1111111111111111,
              "#46039f"
             ],
             [
              0.2222222222222222,
              "#7201a8"
             ],
             [
              0.3333333333333333,
              "#9c179e"
             ],
             [
              0.4444444444444444,
              "#bd3786"
             ],
             [
              0.5555555555555556,
              "#d8576b"
             ],
             [
              0.6666666666666666,
              "#ed7953"
             ],
             [
              0.7777777777777778,
              "#fb9f3a"
             ],
             [
              0.8888888888888888,
              "#fdca26"
             ],
             [
              1,
              "#f0f921"
             ]
            ],
            "type": "surface"
           }
          ],
          "table": [
           {
            "cells": {
             "fill": {
              "color": "#EBF0F8"
             },
             "line": {
              "color": "white"
             }
            },
            "header": {
             "fill": {
              "color": "#C8D4E3"
             },
             "line": {
              "color": "white"
             }
            },
            "type": "table"
           }
          ]
         },
         "layout": {
          "annotationdefaults": {
           "arrowcolor": "#2a3f5f",
           "arrowhead": 0,
           "arrowwidth": 1
          },
          "autotypenumbers": "strict",
          "coloraxis": {
           "colorbar": {
            "outlinewidth": 0,
            "ticks": ""
           }
          },
          "colorscale": {
           "diverging": [
            [
             0,
             "#8e0152"
            ],
            [
             0.1,
             "#c51b7d"
            ],
            [
             0.2,
             "#de77ae"
            ],
            [
             0.3,
             "#f1b6da"
            ],
            [
             0.4,
             "#fde0ef"
            ],
            [
             0.5,
             "#f7f7f7"
            ],
            [
             0.6,
             "#e6f5d0"
            ],
            [
             0.7,
             "#b8e186"
            ],
            [
             0.8,
             "#7fbc41"
            ],
            [
             0.9,
             "#4d9221"
            ],
            [
             1,
             "#276419"
            ]
           ],
           "sequential": [
            [
             0,
             "#0d0887"
            ],
            [
             0.1111111111111111,
             "#46039f"
            ],
            [
             0.2222222222222222,
             "#7201a8"
            ],
            [
             0.3333333333333333,
             "#9c179e"
            ],
            [
             0.4444444444444444,
             "#bd3786"
            ],
            [
             0.5555555555555556,
             "#d8576b"
            ],
            [
             0.6666666666666666,
             "#ed7953"
            ],
            [
             0.7777777777777778,
             "#fb9f3a"
            ],
            [
             0.8888888888888888,
             "#fdca26"
            ],
            [
             1,
             "#f0f921"
            ]
           ],
           "sequentialminus": [
            [
             0,
             "#0d0887"
            ],
            [
             0.1111111111111111,
             "#46039f"
            ],
            [
             0.2222222222222222,
             "#7201a8"
            ],
            [
             0.3333333333333333,
             "#9c179e"
            ],
            [
             0.4444444444444444,
             "#bd3786"
            ],
            [
             0.5555555555555556,
             "#d8576b"
            ],
            [
             0.6666666666666666,
             "#ed7953"
            ],
            [
             0.7777777777777778,
             "#fb9f3a"
            ],
            [
             0.8888888888888888,
             "#fdca26"
            ],
            [
             1,
             "#f0f921"
            ]
           ]
          },
          "colorway": [
           "#636efa",
           "#EF553B",
           "#00cc96",
           "#ab63fa",
           "#FFA15A",
           "#19d3f3",
           "#FF6692",
           "#B6E880",
           "#FF97FF",
           "#FECB52"
          ],
          "font": {
           "color": "#2a3f5f"
          },
          "geo": {
           "bgcolor": "white",
           "lakecolor": "white",
           "landcolor": "#E5ECF6",
           "showlakes": true,
           "showland": true,
           "subunitcolor": "white"
          },
          "hoverlabel": {
           "align": "left"
          },
          "hovermode": "closest",
          "mapbox": {
           "style": "light"
          },
          "paper_bgcolor": "white",
          "plot_bgcolor": "#E5ECF6",
          "polar": {
           "angularaxis": {
            "gridcolor": "white",
            "linecolor": "white",
            "ticks": ""
           },
           "bgcolor": "#E5ECF6",
           "radialaxis": {
            "gridcolor": "white",
            "linecolor": "white",
            "ticks": ""
           }
          },
          "scene": {
           "xaxis": {
            "backgroundcolor": "#E5ECF6",
            "gridcolor": "white",
            "gridwidth": 2,
            "linecolor": "white",
            "showbackground": true,
            "ticks": "",
            "zerolinecolor": "white"
           },
           "yaxis": {
            "backgroundcolor": "#E5ECF6",
            "gridcolor": "white",
            "gridwidth": 2,
            "linecolor": "white",
            "showbackground": true,
            "ticks": "",
            "zerolinecolor": "white"
           },
           "zaxis": {
            "backgroundcolor": "#E5ECF6",
            "gridcolor": "white",
            "gridwidth": 2,
            "linecolor": "white",
            "showbackground": true,
            "ticks": "",
            "zerolinecolor": "white"
           }
          },
          "shapedefaults": {
           "line": {
            "color": "#2a3f5f"
           }
          },
          "ternary": {
           "aaxis": {
            "gridcolor": "white",
            "linecolor": "white",
            "ticks": ""
           },
           "baxis": {
            "gridcolor": "white",
            "linecolor": "white",
            "ticks": ""
           },
           "bgcolor": "#E5ECF6",
           "caxis": {
            "gridcolor": "white",
            "linecolor": "white",
            "ticks": ""
           }
          },
          "title": {
           "x": 0.05
          },
          "xaxis": {
           "automargin": true,
           "gridcolor": "white",
           "linecolor": "white",
           "ticks": "",
           "title": {
            "standoff": 15
           },
           "zerolinecolor": "white",
           "zerolinewidth": 2
          },
          "yaxis": {
           "automargin": true,
           "gridcolor": "white",
           "linecolor": "white",
           "ticks": "",
           "title": {
            "standoff": 15
           },
           "zerolinecolor": "white",
           "zerolinewidth": 2
          }
         }
        },
        "title": {
         "text": "Age repartition"
        },
        "xaxis": {
         "anchor": "y",
         "domain": [
          0,
          1
         ],
         "title": {
          "text": "Age"
         }
        },
        "yaxis": {
         "anchor": "x",
         "domain": [
          0,
          1
         ],
         "title": {
          "text": "Count"
         }
        }
       }
      }
     },
     "metadata": {},
     "output_type": "display_data"
    }
   ],
   "source": [
    "age_g = df_fatalities.groupby('age').size().reset_index()\n",
    "age_g.rename(columns={age_g.columns[1]: 'count'},inplace=True)\n",
    "fig7 = px.bar(x=age_g['age'], y=age_g['count'], title='Age repartition')\n",
    "fig7.update_layout(xaxis_title='Age', yaxis_title='Count')"
   ]
  },
  {
   "cell_type": "markdown",
   "metadata": {
    "id": "zcqqPDo79rTx"
   },
   "source": [
    "Create a seperate KDE plot for each race. Is there a difference between the distributions? "
   ]
  },
  {
   "cell_type": "code",
   "execution_count": 54,
   "metadata": {
    "id": "ubUnMjok43Zo"
   },
   "outputs": [
    {
     "data": {
      "image/png": "[encoded data removed]",
      "text/plain": [
       "<Figure size 4800x1600 with 1 Axes>"
      ]
     },
     "metadata": {},
     "output_type": "display_data"
    }
   ],
   "source": [
    "fig8 = plt.figure(figsize=(6, 2), dpi=800)\n",
    "fig8 = sns.barplot(data=age_g,\n",
    "             x=age_g['age'],\n",
    "            y=age_g['count'])\n",
    "fig8.set_title('Age repartition per race')\n",
    "plt.xlabel('Age', fontsize=8)\n",
    "plt.ylabel('Count', fontsize=8)\n",
    "plt.xticks(fontsize=4)\n",
    "plt.yticks(fontsize=4)\n",
    "\n",
    "for ind, label in enumerate(fig8.get_xticklabels()):\n",
    "    if ind % 10 == 0:  # every 10th label is kept\n",
    "        label.set_visible(True)\n",
    "    else:\n",
    "        label.set_visible(False)\n",
    "plt.show()"
   ]
  },
  {
   "cell_type": "code",
   "execution_count": 55,
   "metadata": {},
   "outputs": [
    {
     "data": {
      "image/png": "[encoded data removed]",
      "text/plain": [
       "<Figure size 1000x600 with 1 Axes>"
      ]
     },
     "metadata": {},
     "output_type": "display_data"
    }
   ],
   "source": [
    "plt.figure(figsize=(10, 6))\n",
    "sns.histplot(data=df_fatalities, x=\"age\", hue=\"race\", kde=True, bins=15, multiple=\"stack\")\n",
    "plt.title(\"Age Distribution per Race\")\n",
    "plt.xlabel(\"Age\")\n",
    "plt.ylabel(\"Count\")\n",
    "plt.show()"
   ]
  },
  {
   "cell_type": "markdown",
   "metadata": {
    "id": "JkcHvMUt43uE"
   },
   "source": [
    "# Race of People Killed\n",
    "\n",
    "Create a chart that shows the total number of people killed by race. "
   ]
  },
  {
   "cell_type": "code",
   "execution_count": 56,
   "metadata": {
    "id": "e8wZvBrt5BEb"
   },
   "outputs": [
    {
     "data": {
      "application/vnd.plotly.v1+json": {
       "config": {
        "plotlyServerURL": "https://plot.ly"
       },
       "data": [
        {
         "hovertemplate": "x=%{x}<br>y=%{y}<extra></extra>",
         "legendgroup": "",
         "marker": {
          "color": "#636efa",
          "pattern": {
           "shape": ""
          }
         },
         "name": "",
         "orientation": "v",
         "showlegend": false,
         "textposition": "auto",
         "type": "bar",
         "x": [
          "W",
          "B",
          "H",
          "A",
          "N",
          "O"
         ],
         "xaxis": "x",
         "y": {
          "bdata": "kARQApEBJAAdABwA",
          "dtype": "i2"
         },
         "yaxis": "y"
        }
       ],
       "layout": {
        "barmode": "relative",
        "legend": {
         "tracegroupgap": 0
        },
        "template": {
         "data": {
          "bar": [
           {
            "error_x": {
             "color": "#2a3f5f"
            },
            "error_y": {
             "color": "#2a3f5f"
            },
            "marker": {
             "line": {
              "color": "#E5ECF6",
              "width": 0.5
             },
             "pattern": {
              "fillmode": "overlay",
              "size": 10,
              "solidity": 0.2
             }
            },
            "type": "bar"
           }
          ],
          "barpolar": [
           {
            "marker": {
             "line": {
              "color": "#E5ECF6",
              "width": 0.5
             },
             "pattern": {
              "fillmode": "overlay",
              "size": 10,
              "solidity": 0.2
             }
            },
            "type": "barpolar"
           }
          ],
          "carpet": [
           {
            "aaxis": {
             "endlinecolor": "#2a3f5f",
             "gridcolor": "white",
             "linecolor": "white",
             "minorgridcolor": "white",
             "startlinecolor": "#2a3f5f"
            },
            "baxis": {
             "endlinecolor": "#2a3f5f",
             "gridcolor": "white",
             "linecolor": "white",
             "minorgridcolor": "white",
             "startlinecolor": "#2a3f5f"
            },
            "type": "carpet"
           }
          ],
          "choropleth": [
           {
            "colorbar": {
             "outlinewidth": 0,
             "ticks": ""
            },
            "type": "choropleth"
           }
          ],
          "contour": [
           {
            "colorbar": {
             "outlinewidth": 0,
             "ticks": ""
            },
            "colorscale": [
             [
              0,
              "#0d0887"
             ],
             [
              0.1111111111111111,
              "#46039f"
             ],
             [
              0.2222222222222222,
              "#7201a8"
             ],
             [
              0.3333333333333333,
              "#9c179e"
             ],
             [
              0.4444444444444444,
              "#bd3786"
             ],
             [
              0.5555555555555556,
              "#d8576b"
             ],
             [
              0.6666666666666666,
              "#ed7953"
             ],
             [
              0.7777777777777778,
              "#fb9f3a"
             ],
             [
              0.8888888888888888,
              "#fdca26"
             ],
             [
              1,
              "#f0f921"
             ]
            ],
            "type": "contour"
           }
          ],
          "contourcarpet": [
           {
            "colorbar": {
             "outlinewidth": 0,
             "ticks": ""
            },
            "type": "contourcarpet"
           }
          ],
          "heatmap": [
           {
            "colorbar": {
             "outlinewidth": 0,
             "ticks": ""
            },
            "colorscale": [
             [
              0,
              "#0d0887"
             ],
             [
              0.1111111111111111,
              "#46039f"
             ],
             [
              0.2222222222222222,
              "#7201a8"
             ],
             [
              0.3333333333333333,
              "#9c179e"
             ],
             [
              0.4444444444444444,
              "#bd3786"
             ],
             [
              0.5555555555555556,
              "#d8576b"
             ],
             [
              0.6666666666666666,
              "#ed7953"
             ],
             [
              0.7777777777777778,
              "#fb9f3a"
             ],
             [
              0.8888888888888888,
              "#fdca26"
             ],
             [
              1,
              "#f0f921"
             ]
            ],
            "type": "heatmap"
           }
          ],
          "histogram": [
           {
            "marker": {
             "pattern": {
              "fillmode": "overlay",
              "size": 10,
              "solidity": 0.2
             }
            },
            "type": "histogram"
           }
          ],
          "histogram2d": [
           {
            "colorbar": {
             "outlinewidth": 0,
             "ticks": ""
            },
            "colorscale": [
             [
              0,
              "#0d0887"
             ],
             [
              0.1111111111111111,
              "#46039f"
             ],
             [
              0.2222222222222222,
              "#7201a8"
             ],
             [
              0.3333333333333333,
              "#9c179e"
             ],
             [
              0.4444444444444444,
              "#bd3786"
             ],
             [
              0.5555555555555556,
              "#d8576b"
             ],
             [
              0.6666666666666666,
              "#ed7953"
             ],
             [
              0.7777777777777778,
              "#fb9f3a"
             ],
             [
              0.8888888888888888,
              "#fdca26"
             ],
             [
              1,
              "#f0f921"
             ]
            ],
            "type": "histogram2d"
           }
          ],
          "histogram2dcontour": [
           {
            "colorbar": {
             "outlinewidth": 0,
             "ticks": ""
            },
            "colorscale": [
             [
              0,
              "#0d0887"
             ],
             [
              0.1111111111111111,
              "#46039f"
             ],
             [
              0.2222222222222222,
              "#7201a8"
             ],
             [
              0.3333333333333333,
              "#9c179e"
             ],
             [
              0.4444444444444444,
              "#bd3786"
             ],
             [
              0.5555555555555556,
              "#d8576b"
             ],
             [
              0.6666666666666666,
              "#ed7953"
             ],
             [
              0.7777777777777778,
              "#fb9f3a"
             ],
             [
              0.8888888888888888,
              "#fdca26"
             ],
             [
              1,
              "#f0f921"
             ]
            ],
            "type": "histogram2dcontour"
           }
          ],
          "mesh3d": [
           {
            "colorbar": {
             "outlinewidth": 0,
             "ticks": ""
            },
            "type": "mesh3d"
           }
          ],
          "parcoords": [
           {
            "line": {
             "colorbar": {
              "outlinewidth": 0,
              "ticks": ""
             }
            },
            "type": "parcoords"
           }
          ],
          "pie": [
           {
            "automargin": true,
            "type": "pie"
           }
          ],
          "scatter": [
           {
            "fillpattern": {
             "fillmode": "overlay",
             "size": 10,
             "solidity": 0.2
            },
            "type": "scatter"
           }
          ],
          "scatter3d": [
           {
            "line": {
             "colorbar": {
              "outlinewidth": 0,
              "ticks": ""
             }
            },
            "marker": {
             "colorbar": {
              "outlinewidth": 0,
              "ticks": ""
             }
            },
            "type": "scatter3d"
           }
          ],
          "scattercarpet": [
           {
            "marker": {
             "colorbar": {
              "outlinewidth": 0,
              "ticks": ""
             }
            },
            "type": "scattercarpet"
           }
          ],
          "scattergeo": [
           {
            "marker": {
             "colorbar": {
              "outlinewidth": 0,
              "ticks": ""
             }
            },
            "type": "scattergeo"
           }
          ],
          "scattergl": [
           {
            "marker": {
             "colorbar": {
              "outlinewidth": 0,
              "ticks": ""
             }
            },
            "type": "scattergl"
           }
          ],
          "scattermap": [
           {
            "marker": {
             "colorbar": {
              "outlinewidth": 0,
              "ticks": ""
             }
            },
            "type": "scattermap"
           }
          ],
          "scattermapbox": [
           {
            "marker": {
             "colorbar": {
              "outlinewidth": 0,
              "ticks": ""
             }
            },
            "type": "scattermapbox"
           }
          ],
          "scatterpolar": [
           {
            "marker": {
             "colorbar": {
              "outlinewidth": 0,
              "ticks": ""
             }
            },
            "type": "scatterpolar"
           }
          ],
          "scatterpolargl": [
           {
            "marker": {
             "colorbar": {
              "outlinewidth": 0,
              "ticks": ""
             }
            },
            "type": "scatterpolargl"
           }
          ],
          "scatterternary": [
           {
            "marker": {
             "colorbar": {
              "outlinewidth": 0,
              "ticks": ""
             }
            },
            "type": "scatterternary"
           }
          ],
          "surface": [
           {
            "colorbar": {
             "outlinewidth": 0,
             "ticks": ""
            },
            "colorscale": [
             [
              0,
              "#0d0887"
             ],
             [
              0.1111111111111111,
              "#46039f"
             ],
             [
              0.2222222222222222,
              "#7201a8"
             ],
             [
              0.3333333333333333,
              "#9c179e"
             ],
             [
              0.4444444444444444,
              "#bd3786"
             ],
             [
              0.5555555555555556,
              "#d8576b"
             ],
             [
              0.6666666666666666,
              "#ed7953"
             ],
             [
              0.7777777777777778,
              "#fb9f3a"
             ],
             [
              0.8888888888888888,
              "#fdca26"
             ],
             [
              1,
              "#f0f921"
             ]
            ],
            "type": "surface"
           }
          ],
          "table": [
           {
            "cells": {
             "fill": {
              "color": "#EBF0F8"
             },
             "line": {
              "color": "white"
             }
            },
            "header": {
             "fill": {
              "color": "#C8D4E3"
             },
             "line": {
              "color": "white"
             }
            },
            "type": "table"
           }
          ]
         },
         "layout": {
          "annotationdefaults": {
           "arrowcolor": "#2a3f5f",
           "arrowhead": 0,
           "arrowwidth": 1
          },
          "autotypenumbers": "strict",
          "coloraxis": {
           "colorbar": {
            "outlinewidth": 0,
            "ticks": ""
           }
          },
          "colorscale": {
           "diverging": [
            [
             0,
             "#8e0152"
            ],
            [
             0.1,
             "#c51b7d"
            ],
            [
             0.2,
             "#de77ae"
            ],
            [
             0.3,
             "#f1b6da"
            ],
            [
             0.4,
             "#fde0ef"
            ],
            [
             0.5,
             "#f7f7f7"
            ],
            [
             0.6,
             "#e6f5d0"
            ],
            [
             0.7,
             "#b8e186"
            ],
            [
             0.8,
             "#7fbc41"
            ],
            [
             0.9,
             "#4d9221"
            ],
            [
             1,
             "#276419"
            ]
           ],
           "sequential": [
            [
             0,
             "#0d0887"
            ],
            [
             0.1111111111111111,
             "#46039f"
            ],
            [
             0.2222222222222222,
             "#7201a8"
            ],
            [
             0.3333333333333333,
             "#9c179e"
            ],
            [
             0.4444444444444444,
             "#bd3786"
            ],
            [
             0.5555555555555556,
             "#d8576b"
            ],
            [
             0.6666666666666666,
             "#ed7953"
            ],
            [
             0.7777777777777778,
             "#fb9f3a"
            ],
            [
             0.8888888888888888,
             "#fdca26"
            ],
            [
             1,
             "#f0f921"
            ]
           ],
           "sequentialminus": [
            [
             0,
             "#0d0887"
            ],
            [
             0.1111111111111111,
             "#46039f"
            ],
            [
             0.2222222222222222,
             "#7201a8"
            ],
            [
             0.3333333333333333,
             "#9c179e"
            ],
            [
             0.4444444444444444,
             "#bd3786"
            ],
            [
             0.5555555555555556,
             "#d8576b"
            ],
            [
             0.6666666666666666,
             "#ed7953"
            ],
            [
             0.7777777777777778,
             "#fb9f3a"
            ],
            [
             0.8888888888888888,
             "#fdca26"
            ],
            [
             1,
             "#f0f921"
            ]
           ]
          },
          "colorway": [
           "#636efa",
           "#EF553B",
           "#00cc96",
           "#ab63fa",
           "#FFA15A",
           "#19d3f3",
           "#FF6692",
           "#B6E880",
           "#FF97FF",
           "#FECB52"
          ],
          "font": {
           "color": "#2a3f5f"
          },
          "geo": {
           "bgcolor": "white",
           "lakecolor": "white",
           "landcolor": "#E5ECF6",
           "showlakes": true,
           "showland": true,
           "subunitcolor": "white"
          },
          "hoverlabel": {
           "align": "left"
          },
          "hovermode": "closest",
          "mapbox": {
           "style": "light"
          },
          "paper_bgcolor": "white",
          "plot_bgcolor": "#E5ECF6",
          "polar": {
           "angularaxis": {
            "gridcolor": "white",
            "linecolor": "white",
            "ticks": ""
           },
           "bgcolor": "#E5ECF6",
           "radialaxis": {
            "gridcolor": "white",
            "linecolor": "white",
            "ticks": ""
           }
          },
          "scene": {
           "xaxis": {
            "backgroundcolor": "#E5ECF6",
            "gridcolor": "white",
            "gridwidth": 2,
            "linecolor": "white",
            "showbackground": true,
            "ticks": "",
            "zerolinecolor": "white"
           },
           "yaxis": {
            "backgroundcolor": "#E5ECF6",
            "gridcolor": "white",
            "gridwidth": 2,
            "linecolor": "white",
            "showbackground": true,
            "ticks": "",
            "zerolinecolor": "white"
           },
           "zaxis": {
            "backgroundcolor": "#E5ECF6",
            "gridcolor": "white",
            "gridwidth": 2,
            "linecolor": "white",
            "showbackground": true,
            "ticks": "",
            "zerolinecolor": "white"
           }
          },
          "shapedefaults": {
           "line": {
            "color": "#2a3f5f"
           }
          },
          "ternary": {
           "aaxis": {
            "gridcolor": "white",
            "linecolor": "white",
            "ticks": ""
           },
           "baxis": {
            "gridcolor": "white",
            "linecolor": "white",
            "ticks": ""
           },
           "bgcolor": "#E5ECF6",
           "caxis": {
            "gridcolor": "white",
            "linecolor": "white",
            "ticks": ""
           }
          },
          "title": {
           "x": 0.05
          },
          "xaxis": {
           "automargin": true,
           "gridcolor": "white",
           "linecolor": "white",
           "ticks": "",
           "title": {
            "standoff": 15
           },
           "zerolinecolor": "white",
           "zerolinewidth": 2
          },
          "yaxis": {
           "automargin": true,
           "gridcolor": "white",
           "linecolor": "white",
           "ticks": "",
           "title": {
            "standoff": 15
           },
           "zerolinecolor": "white",
           "zerolinewidth": 2
          }
         }
        },
        "title": {
         "text": "Killed per race",
         "x": 0.5
        },
        "width": 600,
        "xaxis": {
         "anchor": "y",
         "domain": [
          0,
          1
         ],
         "title": {
          "text": "Race"
         }
        },
        "yaxis": {
         "anchor": "x",
         "domain": [
          0,
          1
         ],
         "title": {
          "text": "Killed"
         }
        }
       }
      }
     },
     "metadata": {},
     "output_type": "display_data"
    }
   ],
   "source": [
    "fig9 = px.bar(x=death_g['race'], y=death_g['count'], title='Killed per race', width=600)\n",
    "fig9.update_layout(xaxis_title='Race', yaxis_title='Killed', title_x=0.5)"
   ]
  },
  {
   "cell_type": "markdown",
   "metadata": {
    "id": "SJaNm4rC5nWm"
   },
   "source": [
    "# Mental Illness and Police Killings\n",
    "\n",
    "What percentage of people killed by police have been diagnosed with a mental illness?"
   ]
  },
  {
   "cell_type": "code",
   "execution_count": 57,
   "metadata": {
    "id": "dbuGvCnN5ytC"
   },
   "outputs": [
    {
     "data": {
      "application/vnd.plotly.v1+json": {
       "config": {
        "plotlyServerURL": "https://plot.ly"
       },
       "data": [
        {
         "domain": {
          "x": [
           0,
           1
          ],
          "y": [
           0,
           1
          ]
         },
         "hole": 0.6,
         "hovertemplate": "signs_of_mental_illness=%{label}<br>count=%{value}<extra></extra>",
         "labels": [
          false,
          true
         ],
         "legendgroup": "",
         "name": "",
         "showlegend": true,
         "type": "pie",
         "values": {
          "bdata": "kQY9Ag==",
          "dtype": "i2"
         }
        }
       ],
       "layout": {
        "height": 400,
        "legend": {
         "tracegroupgap": 0
        },
        "template": {
         "data": {
          "bar": [
           {
            "error_x": {
             "color": "#2a3f5f"
            },
            "error_y": {
             "color": "#2a3f5f"
            },
            "marker": {
             "line": {
              "color": "#E5ECF6",
              "width": 0.5
             },
             "pattern": {
              "fillmode": "overlay",
              "size": 10,
              "solidity": 0.2
             }
            },
            "type": "bar"
           }
          ],
          "barpolar": [
           {
            "marker": {
             "line": {
              "color": "#E5ECF6",
              "width": 0.5
             },
             "pattern": {
              "fillmode": "overlay",
              "size": 10,
              "solidity": 0.2
             }
            },
            "type": "barpolar"
           }
          ],
          "carpet": [
           {
            "aaxis": {
             "endlinecolor": "#2a3f5f",
             "gridcolor": "white",
             "linecolor": "white",
             "minorgridcolor": "white",
             "startlinecolor": "#2a3f5f"
            },
            "baxis": {
             "endlinecolor": "#2a3f5f",
             "gridcolor": "white",
             "linecolor": "white",
             "minorgridcolor": "white",
             "startlinecolor": "#2a3f5f"
            },
            "type": "carpet"
           }
          ],
          "choropleth": [
           {
            "colorbar": {
             "outlinewidth": 0,
             "ticks": ""
            },
            "type": "choropleth"
           }
          ],
          "contour": [
           {
            "colorbar": {
             "outlinewidth": 0,
             "ticks": ""
            },
            "colorscale": [
             [
              0,
              "#0d0887"
             ],
             [
              0.1111111111111111,
              "#46039f"
             ],
             [
              0.2222222222222222,
              "#7201a8"
             ],
             [
              0.3333333333333333,
              "#9c179e"
             ],
             [
              0.4444444444444444,
              "#bd3786"
             ],
             [
              0.5555555555555556,
              "#d8576b"
             ],
             [
              0.6666666666666666,
              "#ed7953"
             ],
             [
              0.7777777777777778,
              "#fb9f3a"
             ],
             [
              0.8888888888888888,
              "#fdca26"
             ],
             [
              1,
              "#f0f921"
             ]
            ],
            "type": "contour"
           }
          ],
          "contourcarpet": [
           {
            "colorbar": {
             "outlinewidth": 0,
             "ticks": ""
            },
            "type": "contourcarpet"
           }
          ],
          "heatmap": [
           {
            "colorbar": {
             "outlinewidth": 0,
             "ticks": ""
            },
            "colorscale": [
             [
              0,
              "#0d0887"
             ],
             [
              0.1111111111111111,
              "#46039f"
             ],
             [
              0.2222222222222222,
              "#7201a8"
             ],
             [
              0.3333333333333333,
              "#9c179e"
             ],
             [
              0.4444444444444444,
              "#bd3786"
             ],
             [
              0.5555555555555556,
              "#d8576b"
             ],
             [
              0.6666666666666666,
              "#ed7953"
             ],
             [
              0.7777777777777778,
              "#fb9f3a"
             ],
             [
              0.8888888888888888,
              "#fdca26"
             ],
             [
              1,
              "#f0f921"
             ]
            ],
            "type": "heatmap"
           }
          ],
          "histogram": [
           {
            "marker": {
             "pattern": {
              "fillmode": "overlay",
              "size": 10,
              "solidity": 0.2
             }
            },
            "type": "histogram"
           }
          ],
          "histogram2d": [
           {
            "colorbar": {
             "outlinewidth": 0,
             "ticks": ""
            },
            "colorscale": [
             [
              0,
              "#0d0887"
             ],
             [
              0.1111111111111111,
              "#46039f"
             ],
             [
              0.2222222222222222,
              "#7201a8"
             ],
             [
              0.3333333333333333,
              "#9c179e"
             ],
             [
              0.4444444444444444,
              "#bd3786"
             ],
             [
              0.5555555555555556,
              "#d8576b"
             ],
             [
              0.6666666666666666,
              "#ed7953"
             ],
             [
              0.7777777777777778,
              "#fb9f3a"
             ],
             [
              0.8888888888888888,
              "#fdca26"
             ],
             [
              1,
              "#f0f921"
             ]
            ],
            "type": "histogram2d"
           }
          ],
          "histogram2dcontour": [
           {
            "colorbar": {
             "outlinewidth": 0,
             "ticks": ""
            },
            "colorscale": [
             [
              0,
              "#0d0887"
             ],
             [
              0.1111111111111111,
              "#46039f"
             ],
             [
              0.2222222222222222,
              "#7201a8"
             ],
             [
              0.3333333333333333,
              "#9c179e"
             ],
             [
              0.4444444444444444,
              "#bd3786"
             ],
             [
              0.5555555555555556,
              "#d8576b"
             ],
             [
              0.6666666666666666,
              "#ed7953"
             ],
             [
              0.7777777777777778,
              "#fb9f3a"
             ],
             [
              0.8888888888888888,
              "#fdca26"
             ],
             [
              1,
              "#f0f921"
             ]
            ],
            "type": "histogram2dcontour"
           }
          ],
          "mesh3d": [
           {
            "colorbar": {
             "outlinewidth": 0,
             "ticks": ""
            },
            "type": "mesh3d"
           }
          ],
          "parcoords": [
           {
            "line": {
             "colorbar": {
              "outlinewidth": 0,
              "ticks": ""
             }
            },
            "type": "parcoords"
           }
          ],
          "pie": [
           {
            "automargin": true,
            "type": "pie"
           }
          ],
          "scatter": [
           {
            "fillpattern": {
             "fillmode": "overlay",
             "size": 10,
             "solidity": 0.2
            },
            "type": "scatter"
           }
          ],
          "scatter3d": [
           {
            "line": {
             "colorbar": {
              "outlinewidth": 0,
              "ticks": ""
             }
            },
            "marker": {
             "colorbar": {
              "outlinewidth": 0,
              "ticks": ""
             }
            },
            "type": "scatter3d"
           }
          ],
          "scattercarpet": [
           {
            "marker": {
             "colorbar": {
              "outlinewidth": 0,
              "ticks": ""
             }
            },
            "type": "scattercarpet"
           }
          ],
          "scattergeo": [
           {
            "marker": {
             "colorbar": {
              "outlinewidth": 0,
              "ticks": ""
             }
            },
            "type": "scattergeo"
           }
          ],
          "scattergl": [
           {
            "marker": {
             "colorbar": {
              "outlinewidth": 0,
              "ticks": ""
             }
            },
            "type": "scattergl"
           }
          ],
          "scattermap": [
           {
            "marker": {
             "colorbar": {
              "outlinewidth": 0,
              "ticks": ""
             }
            },
            "type": "scattermap"
           }
          ],
          "scattermapbox": [
           {
            "marker": {
             "colorbar": {
              "outlinewidth": 0,
              "ticks": ""
             }
            },
            "type": "scattermapbox"
           }
          ],
          "scatterpolar": [
           {
            "marker": {
             "colorbar": {
              "outlinewidth": 0,
              "ticks": ""
             }
            },
            "type": "scatterpolar"
           }
          ],
          "scatterpolargl": [
           {
            "marker": {
             "colorbar": {
              "outlinewidth": 0,
              "ticks": ""
             }
            },
            "type": "scatterpolargl"
           }
          ],
          "scatterternary": [
           {
            "marker": {
             "colorbar": {
              "outlinewidth": 0,
              "ticks": ""
             }
            },
            "type": "scatterternary"
           }
          ],
          "surface": [
           {
            "colorbar": {
             "outlinewidth": 0,
             "ticks": ""
            },
            "colorscale": [
             [
              0,
              "#0d0887"
             ],
             [
              0.1111111111111111,
              "#46039f"
             ],
             [
              0.2222222222222222,
              "#7201a8"
             ],
             [
              0.3333333333333333,
              "#9c179e"
             ],
             [
              0.4444444444444444,
              "#bd3786"
             ],
             [
              0.5555555555555556,
              "#d8576b"
             ],
             [
              0.6666666666666666,
              "#ed7953"
             ],
             [
              0.7777777777777778,
              "#fb9f3a"
             ],
             [
              0.8888888888888888,
              "#fdca26"
             ],
             [
              1,
              "#f0f921"
             ]
            ],
            "type": "surface"
           }
          ],
          "table": [
           {
            "cells": {
             "fill": {
              "color": "#EBF0F8"
             },
             "line": {
              "color": "white"
             }
            },
            "header": {
             "fill": {
              "color": "#C8D4E3"
             },
             "line": {
              "color": "white"
             }
            },
            "type": "table"
           }
          ]
         },
         "layout": {
          "annotationdefaults": {
           "arrowcolor": "#2a3f5f",
           "arrowhead": 0,
           "arrowwidth": 1
          },
          "autotypenumbers": "strict",
          "coloraxis": {
           "colorbar": {
            "outlinewidth": 0,
            "ticks": ""
           }
          },
          "colorscale": {
           "diverging": [
            [
             0,
             "#8e0152"
            ],
            [
             0.1,
             "#c51b7d"
            ],
            [
             0.2,
             "#de77ae"
            ],
            [
             0.3,
             "#f1b6da"
            ],
            [
             0.4,
             "#fde0ef"
            ],
            [
             0.5,
             "#f7f7f7"
            ],
            [
             0.6,
             "#e6f5d0"
            ],
            [
             0.7,
             "#b8e186"
            ],
            [
             0.8,
             "#7fbc41"
            ],
            [
             0.9,
             "#4d9221"
            ],
            [
             1,
             "#276419"
            ]
           ],
           "sequential": [
            [
             0,
             "#0d0887"
            ],
            [
             0.1111111111111111,
             "#46039f"
            ],
            [
             0.2222222222222222,
             "#7201a8"
            ],
            [
             0.3333333333333333,
             "#9c179e"
            ],
            [
             0.4444444444444444,
             "#bd3786"
            ],
            [
             0.5555555555555556,
             "#d8576b"
            ],
            [
             0.6666666666666666,
             "#ed7953"
            ],
            [
             0.7777777777777778,
             "#fb9f3a"
            ],
            [
             0.8888888888888888,
             "#fdca26"
            ],
            [
             1,
             "#f0f921"
            ]
           ],
           "sequentialminus": [
            [
             0,
             "#0d0887"
            ],
            [
             0.1111111111111111,
             "#46039f"
            ],
            [
             0.2222222222222222,
             "#7201a8"
            ],
            [
             0.3333333333333333,
             "#9c179e"
            ],
            [
             0.4444444444444444,
             "#bd3786"
            ],
            [
             0.5555555555555556,
             "#d8576b"
            ],
            [
             0.6666666666666666,
             "#ed7953"
            ],
            [
             0.7777777777777778,
             "#fb9f3a"
            ],
            [
             0.8888888888888888,
             "#fdca26"
            ],
            [
             1,
             "#f0f921"
            ]
           ]
          },
          "colorway": [
           "#636efa",
           "#EF553B",
           "#00cc96",
           "#ab63fa",
           "#FFA15A",
           "#19d3f3",
           "#FF6692",
           "#B6E880",
           "#FF97FF",
           "#FECB52"
          ],
          "font": {
           "color": "#2a3f5f"
          },
          "geo": {
           "bgcolor": "white",
           "lakecolor": "white",
           "landcolor": "#E5ECF6",
           "showlakes": true,
           "showland": true,
           "subunitcolor": "white"
          },
          "hoverlabel": {
           "align": "left"
          },
          "hovermode": "closest",
          "mapbox": {
           "style": "light"
          },
          "paper_bgcolor": "white",
          "plot_bgcolor": "#E5ECF6",
          "polar": {
           "angularaxis": {
            "gridcolor": "white",
            "linecolor": "white",
            "ticks": ""
           },
           "bgcolor": "#E5ECF6",
           "radialaxis": {
            "gridcolor": "white",
            "linecolor": "white",
            "ticks": ""
           }
          },
          "scene": {
           "xaxis": {
            "backgroundcolor": "#E5ECF6",
            "gridcolor": "white",
            "gridwidth": 2,
            "linecolor": "white",
            "showbackground": true,
            "ticks": "",
            "zerolinecolor": "white"
           },
           "yaxis": {
            "backgroundcolor": "#E5ECF6",
            "gridcolor": "white",
            "gridwidth": 2,
            "linecolor": "white",
            "showbackground": true,
            "ticks": "",
            "zerolinecolor": "white"
           },
           "zaxis": {
            "backgroundcolor": "#E5ECF6",
            "gridcolor": "white",
            "gridwidth": 2,
            "linecolor": "white",
            "showbackground": true,
            "ticks": "",
            "zerolinecolor": "white"
           }
          },
          "shapedefaults": {
           "line": {
            "color": "#2a3f5f"
           }
          },
          "ternary": {
           "aaxis": {
            "gridcolor": "white",
            "linecolor": "white",
            "ticks": ""
           },
           "baxis": {
            "gridcolor": "white",
            "linecolor": "white",
            "ticks": ""
           },
           "bgcolor": "#E5ECF6",
           "caxis": {
            "gridcolor": "white",
            "linecolor": "white",
            "ticks": ""
           }
          },
          "title": {
           "x": 0.05
          },
          "xaxis": {
           "automargin": true,
           "gridcolor": "white",
           "linecolor": "white",
           "ticks": "",
           "title": {
            "standoff": 15
           },
           "zerolinecolor": "white",
           "zerolinewidth": 2
          },
          "yaxis": {
           "automargin": true,
           "gridcolor": "white",
           "linecolor": "white",
           "ticks": "",
           "title": {
            "standoff": 15
           },
           "zerolinecolor": "white",
           "zerolinewidth": 2
          }
         }
        },
        "title": {
         "text": "Mental illness signs"
        },
        "width": 500
       }
      }
     },
     "metadata": {},
     "output_type": "display_data"
    }
   ],
   "source": [
    "ill_g = df_fatalities['signs_of_mental_illness'].value_counts().reset_index()\n",
    "fig10 = px.pie(ill_g, names='signs_of_mental_illness', values='count', hole=0.6, title='Mental illness signs', width=500, height=400)\n",
    "fig10.show()"
   ]
  },
  {
   "cell_type": "markdown",
   "metadata": {
    "id": "R0WSPeKD5Cir"
   },
   "source": [
    "# In Which Cities Do the Most Police Killings Take Place?\n",
    "\n",
    "Create a chart ranking the top 10 cities with the most police killings. Which cities are the most dangerous?  "
   ]
  },
  {
   "cell_type": "code",
   "execution_count": 58,
   "metadata": {
    "id": "NYVwo3qy5UV3"
   },
   "outputs": [
    {
     "data": {
      "application/vnd.plotly.v1+json": {
       "config": {
        "plotlyServerURL": "https://plot.ly"
       },
       "data": [
        {
         "hovertemplate": "x=%{x}<br>y=%{y}<extra></extra>",
         "legendgroup": "",
         "marker": {
          "color": "#636efa",
          "pattern": {
           "shape": ""
          }
         },
         "name": "",
         "orientation": "v",
         "showlegend": false,
         "textposition": "auto",
         "type": "bar",
         "x": [
          "Los Angeles",
          "Phoenix",
          "Houston",
          "Chicago",
          "Austin",
          "Las Vegas",
          "Columbus",
          "San Antonio",
          "Miami",
          "Indianapolis"
         ],
         "xaxis": "x",
         "y": {
          "bdata": "IxwYFhIREA8PDg==",
          "dtype": "i1"
         },
         "yaxis": "y"
        }
       ],
       "layout": {
        "barmode": "relative",
        "legend": {
         "tracegroupgap": 0
        },
        "margin": {
         "t": 60
        },
        "template": {
         "data": {
          "bar": [
           {
            "error_x": {
             "color": "#2a3f5f"
            },
            "error_y": {
             "color": "#2a3f5f"
            },
            "marker": {
             "line": {
              "color": "#E5ECF6",
              "width": 0.5
             },
             "pattern": {
              "fillmode": "overlay",
              "size": 10,
              "solidity": 0.2
             }
            },
            "type": "bar"
           }
          ],
          "barpolar": [
           {
            "marker": {
             "line": {
              "color": "#E5ECF6",
              "width": 0.5
             },
             "pattern": {
              "fillmode": "overlay",
              "size": 10,
              "solidity": 0.2
             }
            },
            "type": "barpolar"
           }
          ],
          "carpet": [
           {
            "aaxis": {
             "endlinecolor": "#2a3f5f",
             "gridcolor": "white",
             "linecolor": "white",
             "minorgridcolor": "white",
             "startlinecolor": "#2a3f5f"
            },
            "baxis": {
             "endlinecolor": "#2a3f5f",
             "gridcolor": "white",
             "linecolor": "white",
             "minorgridcolor": "white",
             "startlinecolor": "#2a3f5f"
            },
            "type": "carpet"
           }
          ],
          "choropleth": [
           {
            "colorbar": {
             "outlinewidth": 0,
             "ticks": ""
            },
            "type": "choropleth"
           }
          ],
          "contour": [
           {
            "colorbar": {
             "outlinewidth": 0,
             "ticks": ""
            },
            "colorscale": [
             [
              0,
              "#0d0887"
             ],
             [
              0.1111111111111111,
              "#46039f"
             ],
             [
              0.2222222222222222,
              "#7201a8"
             ],
             [
              0.3333333333333333,
              "#9c179e"
             ],
             [
              0.4444444444444444,
              "#bd3786"
             ],
             [
              0.5555555555555556,
              "#d8576b"
             ],
             [
              0.6666666666666666,
              "#ed7953"
             ],
             [
              0.7777777777777778,
              "#fb9f3a"
             ],
             [
              0.8888888888888888,
              "#fdca26"
             ],
             [
              1,
              "#f0f921"
             ]
            ],
            "type": "contour"
           }
          ],
          "contourcarpet": [
           {
            "colorbar": {
             "outlinewidth": 0,
             "ticks": ""
            },
            "type": "contourcarpet"
           }
          ],
          "heatmap": [
           {
            "colorbar": {
             "outlinewidth": 0,
             "ticks": ""
            },
            "colorscale": [
             [
              0,
              "#0d0887"
             ],
             [
              0.1111111111111111,
              "#46039f"
             ],
             [
              0.2222222222222222,
              "#7201a8"
             ],
             [
              0.3333333333333333,
              "#9c179e"
             ],
             [
              0.4444444444444444,
              "#bd3786"
             ],
             [
              0.5555555555555556,
              "#d8576b"
             ],
             [
              0.6666666666666666,
              "#ed7953"
             ],
             [
              0.7777777777777778,
              "#fb9f3a"
             ],
             [
              0.8888888888888888,
              "#fdca26"
             ],
             [
              1,
              "#f0f921"
             ]
            ],
            "type": "heatmap"
           }
          ],
          "histogram": [
           {
            "marker": {
             "pattern": {
              "fillmode": "overlay",
              "size": 10,
              "solidity": 0.2
             }
            },
            "type": "histogram"
           }
          ],
          "histogram2d": [
           {
            "colorbar": {
             "outlinewidth": 0,
             "ticks": ""
            },
            "colorscale": [
             [
              0,
              "#0d0887"
             ],
             [
              0.1111111111111111,
              "#46039f"
             ],
             [
              0.2222222222222222,
              "#7201a8"
             ],
             [
              0.3333333333333333,
              "#9c179e"
             ],
             [
              0.4444444444444444,
              "#bd3786"
             ],
             [
              0.5555555555555556,
              "#d8576b"
             ],
             [
              0.6666666666666666,
              "#ed7953"
             ],
             [
              0.7777777777777778,
              "#fb9f3a"
             ],
             [
              0.8888888888888888,
              "#fdca26"
             ],
             [
              1,
              "#f0f921"
             ]
            ],
            "type": "histogram2d"
           }
          ],
          "histogram2dcontour": [
           {
            "colorbar": {
             "outlinewidth": 0,
             "ticks": ""
            },
            "colorscale": [
             [
              0,
              "#0d0887"
             ],
             [
              0.1111111111111111,
              "#46039f"
             ],
             [
              0.2222222222222222,
              "#7201a8"
             ],
             [
              0.3333333333333333,
              "#9c179e"
             ],
             [
              0.4444444444444444,
              "#bd3786"
             ],
             [
              0.5555555555555556,
              "#d8576b"
             ],
             [
              0.6666666666666666,
              "#ed7953"
             ],
             [
              0.7777777777777778,
              "#fb9f3a"
             ],
             [
              0.8888888888888888,
              "#fdca26"
             ],
             [
              1,
              "#f0f921"
             ]
            ],
            "type": "histogram2dcontour"
           }
          ],
          "mesh3d": [
           {
            "colorbar": {
             "outlinewidth": 0,
             "ticks": ""
            },
            "type": "mesh3d"
           }
          ],
          "parcoords": [
           {
            "line": {
             "colorbar": {
              "outlinewidth": 0,
              "ticks": ""
             }
            },
            "type": "parcoords"
           }
          ],
          "pie": [
           {
            "automargin": true,
            "type": "pie"
           }
          ],
          "scatter": [
           {
            "fillpattern": {
             "fillmode": "overlay",
             "size": 10,
             "solidity": 0.2
            },
            "type": "scatter"
           }
          ],
          "scatter3d": [
           {
            "line": {
             "colorbar": {
              "outlinewidth": 0,
              "ticks": ""
             }
            },
            "marker": {
             "colorbar": {
              "outlinewidth": 0,
              "ticks": ""
             }
            },
            "type": "scatter3d"
           }
          ],
          "scattercarpet": [
           {
            "marker": {
             "colorbar": {
              "outlinewidth": 0,
              "ticks": ""
             }
            },
            "type": "scattercarpet"
           }
          ],
          "scattergeo": [
           {
            "marker": {
             "colorbar": {
              "outlinewidth": 0,
              "ticks": ""
             }
            },
            "type": "scattergeo"
           }
          ],
          "scattergl": [
           {
            "marker": {
             "colorbar": {
              "outlinewidth": 0,
              "ticks": ""
             }
            },
            "type": "scattergl"
           }
          ],
          "scattermap": [
           {
            "marker": {
             "colorbar": {
              "outlinewidth": 0,
              "ticks": ""
             }
            },
            "type": "scattermap"
           }
          ],
          "scattermapbox": [
           {
            "marker": {
             "colorbar": {
              "outlinewidth": 0,
              "ticks": ""
             }
            },
            "type": "scattermapbox"
           }
          ],
          "scatterpolar": [
           {
            "marker": {
             "colorbar": {
              "outlinewidth": 0,
              "ticks": ""
             }
            },
            "type": "scatterpolar"
           }
          ],
          "scatterpolargl": [
           {
            "marker": {
             "colorbar": {
              "outlinewidth": 0,
              "ticks": ""
             }
            },
            "type": "scatterpolargl"
           }
          ],
          "scatterternary": [
           {
            "marker": {
             "colorbar": {
              "outlinewidth": 0,
              "ticks": ""
             }
            },
            "type": "scatterternary"
           }
          ],
          "surface": [
           {
            "colorbar": {
             "outlinewidth": 0,
             "ticks": ""
            },
            "colorscale": [
             [
              0,
              "#0d0887"
             ],
             [
              0.1111111111111111,
              "#46039f"
             ],
             [
              0.2222222222222222,
              "#7201a8"
             ],
             [
              0.3333333333333333,
              "#9c179e"
             ],
             [
              0.4444444444444444,
              "#bd3786"
             ],
             [
              0.5555555555555556,
              "#d8576b"
             ],
             [
              0.6666666666666666,
              "#ed7953"
             ],
             [
              0.7777777777777778,
              "#fb9f3a"
             ],
             [
              0.8888888888888888,
              "#fdca26"
             ],
             [
              1,
              "#f0f921"
             ]
            ],
            "type": "surface"
           }
          ],
          "table": [
           {
            "cells": {
             "fill": {
              "color": "#EBF0F8"
             },
             "line": {
              "color": "white"
             }
            },
            "header": {
             "fill": {
              "color": "#C8D4E3"
             },
             "line": {
              "color": "white"
             }
            },
            "type": "table"
           }
          ]
         },
         "layout": {
          "annotationdefaults": {
           "arrowcolor": "#2a3f5f",
           "arrowhead": 0,
           "arrowwidth": 1
          },
          "autotypenumbers": "strict",
          "coloraxis": {
           "colorbar": {
            "outlinewidth": 0,
            "ticks": ""
           }
          },
          "colorscale": {
           "diverging": [
            [
             0,
             "#8e0152"
            ],
            [
             0.1,
             "#c51b7d"
            ],
            [
             0.2,
             "#de77ae"
            ],
            [
             0.3,
             "#f1b6da"
            ],
            [
             0.4,
             "#fde0ef"
            ],
            [
             0.5,
             "#f7f7f7"
            ],
            [
             0.6,
             "#e6f5d0"
            ],
            [
             0.7,
             "#b8e186"
            ],
            [
             0.8,
             "#7fbc41"
            ],
            [
             0.9,
             "#4d9221"
            ],
            [
             1,
             "#276419"
            ]
           ],
           "sequential": [
            [
             0,
             "#0d0887"
            ],
            [
             0.1111111111111111,
             "#46039f"
            ],
            [
             0.2222222222222222,
             "#7201a8"
            ],
            [
             0.3333333333333333,
             "#9c179e"
            ],
            [
             0.4444444444444444,
             "#bd3786"
            ],
            [
             0.5555555555555556,
             "#d8576b"
            ],
            [
             0.6666666666666666,
             "#ed7953"
            ],
            [
             0.7777777777777778,
             "#fb9f3a"
            ],
            [
             0.8888888888888888,
             "#fdca26"
            ],
            [
             1,
             "#f0f921"
            ]
           ],
           "sequentialminus": [
            [
             0,
             "#0d0887"
            ],
            [
             0.1111111111111111,
             "#46039f"
            ],
            [
             0.2222222222222222,
             "#7201a8"
            ],
            [
             0.3333333333333333,
             "#9c179e"
            ],
            [
             0.4444444444444444,
             "#bd3786"
            ],
            [
             0.5555555555555556,
             "#d8576b"
            ],
            [
             0.6666666666666666,
             "#ed7953"
            ],
            [
             0.7777777777777778,
             "#fb9f3a"
            ],
            [
             0.8888888888888888,
             "#fdca26"
            ],
            [
             1,
             "#f0f921"
            ]
           ]
          },
          "colorway": [
           "#636efa",
           "#EF553B",
           "#00cc96",
           "#ab63fa",
           "#FFA15A",
           "#19d3f3",
           "#FF6692",
           "#B6E880",
           "#FF97FF",
           "#FECB52"
          ],
          "font": {
           "color": "#2a3f5f"
          },
          "geo": {
           "bgcolor": "white",
           "lakecolor": "white",
           "landcolor": "#E5ECF6",
           "showlakes": true,
           "showland": true,
           "subunitcolor": "white"
          },
          "hoverlabel": {
           "align": "left"
          },
          "hovermode": "closest",
          "mapbox": {
           "style": "light"
          },
          "paper_bgcolor": "white",
          "plot_bgcolor": "#E5ECF6",
          "polar": {
           "angularaxis": {
            "gridcolor": "white",
            "linecolor": "white",
            "ticks": ""
           },
           "bgcolor": "#E5ECF6",
           "radialaxis": {
            "gridcolor": "white",
            "linecolor": "white",
            "ticks": ""
           }
          },
          "scene": {
           "xaxis": {
            "backgroundcolor": "#E5ECF6",
            "gridcolor": "white",
            "gridwidth": 2,
            "linecolor": "white",
            "showbackground": true,
            "ticks": "",
            "zerolinecolor": "white"
           },
           "yaxis": {
            "backgroundcolor": "#E5ECF6",
            "gridcolor": "white",
            "gridwidth": 2,
            "linecolor": "white",
            "showbackground": true,
            "ticks": "",
            "zerolinecolor": "white"
           },
           "zaxis": {
            "backgroundcolor": "#E5ECF6",
            "gridcolor": "white",
            "gridwidth": 2,
            "linecolor": "white",
            "showbackground": true,
            "ticks": "",
            "zerolinecolor": "white"
           }
          },
          "shapedefaults": {
           "line": {
            "color": "#2a3f5f"
           }
          },
          "ternary": {
           "aaxis": {
            "gridcolor": "white",
            "linecolor": "white",
            "ticks": ""
           },
           "baxis": {
            "gridcolor": "white",
            "linecolor": "white",
            "ticks": ""
           },
           "bgcolor": "#E5ECF6",
           "caxis": {
            "gridcolor": "white",
            "linecolor": "white",
            "ticks": ""
           }
          },
          "title": {
           "x": 0.05
          },
          "xaxis": {
           "automargin": true,
           "gridcolor": "white",
           "linecolor": "white",
           "ticks": "",
           "title": {
            "standoff": 15
           },
           "zerolinecolor": "white",
           "zerolinewidth": 2
          },
          "yaxis": {
           "automargin": true,
           "gridcolor": "white",
           "linecolor": "white",
           "ticks": "",
           "title": {
            "standoff": 15
           },
           "zerolinecolor": "white",
           "zerolinewidth": 2
          }
         }
        },
        "xaxis": {
         "anchor": "y",
         "domain": [
          0,
          1
         ],
         "title": {
          "text": "Cities"
         }
        },
        "yaxis": {
         "anchor": "x",
         "domain": [
          0,
          1
         ],
         "title": {
          "text": "Killed"
         }
        }
       }
      }
     },
     "metadata": {},
     "output_type": "display_data"
    }
   ],
   "source": [
    "city_rank = df_fatalities['city'].value_counts().reset_index()[0:10]\n",
    "fig11 = px.bar(x=city_rank['city'], y=city_rank['count'])\n",
    "fig11.update_layout(xaxis_title='Cities', yaxis_title='Killed')\n",
    "fig11.show()"
   ]
  },
  {
   "cell_type": "markdown",
   "metadata": {
    "id": "AqcOW6ca8JMD"
   },
   "source": [
    "# Rate of Death by Race\n",
    "\n",
    "Find the share of each race in the top 10 cities. Contrast this with the top 10 cities of police killings to work out the rate at which people are killed by race for each city. "
   ]
  },
  {
   "cell_type": "code",
   "execution_count": 108,
   "metadata": {
    "id": "FkjAUlKy8I2g"
   },
   "outputs": [],
   "source": [
    "city_race = df_fatalities.groupby(['city', 'race']).agg({'id':pd.Series.count}).reset_index()\n",
    "city_race = city_race[city_race['city'].isin(city_rank['city'])]\n",
    "city_race['total'] = city_race.groupby('city')['id'].transform('sum')\n",
    "city_race = city_race.sort_values(by='total', ascending=False)"
   ]
  },
  {
   "cell_type": "code",
   "execution_count": 109,
   "metadata": {
    "id": "dA3Hs9b55V59"
   },
   "outputs": [
    {
     "data": {
      "application/vnd.plotly.v1+json": {
       "config": {
        "plotlyServerURL": "https://plot.ly"
       },
       "data": [
        {
         "hovertemplate": "race=H<br>city=%{x}<br>id=%{y}<extra></extra>",
         "legendgroup": "H",
         "marker": {
          "color": "#636efa",
          "pattern": {
           "shape": ""
          }
         },
         "name": "H",
         "orientation": "v",
         "showlegend": true,
         "textposition": "auto",
         "type": "bar",
         "x": [
          "Los Angeles",
          "Phoenix",
          "Houston",
          "Chicago",
          "Austin",
          "Las Vegas",
          "Miami",
          "San Antonio"
         ],
         "xaxis": "x",
         "y": {
          "bdata": "EgsFAQIFBgs=",
          "dtype": "i1"
         },
         "yaxis": "y"
        },
        {
         "hovertemplate": "race=A<br>city=%{x}<br>id=%{y}<extra></extra>",
         "legendgroup": "A",
         "marker": {
          "color": "#EF553B",
          "pattern": {
           "shape": ""
          }
         },
         "name": "A",
         "orientation": "v",
         "showlegend": true,
         "textposition": "auto",
         "type": "bar",
         "x": [
          "Los Angeles",
          "Houston"
         ],
         "xaxis": "x",
         "y": {
          "bdata": "AQE=",
          "dtype": "i1"
         },
         "yaxis": "y"
        },
        {
         "hovertemplate": "race=W<br>city=%{x}<br>id=%{y}<extra></extra>",
         "legendgroup": "W",
         "marker": {
          "color": "#00cc96",
          "pattern": {
           "shape": ""
          }
         },
         "name": "W",
         "orientation": "v",
         "showlegend": true,
         "textposition": "auto",
         "type": "bar",
         "x": [
          "Los Angeles",
          "Phoenix",
          "Houston",
          "Chicago",
          "Austin",
          "Las Vegas",
          "Columbus",
          "Miami",
          "San Antonio",
          "Indianapolis"
         ],
         "xaxis": "x",
         "y": {
          "bdata": "BgwDAg0JBgICBQ==",
          "dtype": "i1"
         },
         "yaxis": "y"
        },
        {
         "hovertemplate": "race=B<br>city=%{x}<br>id=%{y}<extra></extra>",
         "legendgroup": "B",
         "marker": {
          "color": "#ab63fa",
          "pattern": {
           "shape": ""
          }
         },
         "name": "B",
         "orientation": "v",
         "showlegend": true,
         "textposition": "auto",
         "type": "bar",
         "x": [
          "Los Angeles",
          "Phoenix",
          "Houston",
          "Chicago",
          "Austin",
          "Las Vegas",
          "Columbus",
          "San Antonio",
          "Miami",
          "Indianapolis"
         ],
         "xaxis": "x",
         "y": {
          "bdata": "CgIOEwMDCQIHCQ==",
          "dtype": "i1"
         },
         "yaxis": "y"
        },
        {
         "hovertemplate": "race=N<br>city=%{x}<br>id=%{y}<extra></extra>",
         "legendgroup": "N",
         "marker": {
          "color": "#FFA15A",
          "pattern": {
           "shape": ""
          }
         },
         "name": "N",
         "orientation": "v",
         "showlegend": true,
         "textposition": "auto",
         "type": "bar",
         "x": [
          "Phoenix",
          "Houston"
         ],
         "xaxis": "x",
         "y": {
          "bdata": "AwE=",
          "dtype": "i1"
         },
         "yaxis": "y"
        },
        {
         "hovertemplate": "race=O<br>city=%{x}<br>id=%{y}<extra></extra>",
         "legendgroup": "O",
         "marker": {
          "color": "#19d3f3",
          "pattern": {
           "shape": ""
          }
         },
         "name": "O",
         "orientation": "v",
         "showlegend": true,
         "textposition": "auto",
         "type": "bar",
         "x": [
          "Columbus"
         ],
         "xaxis": "x",
         "y": {
          "bdata": "AQ==",
          "dtype": "i1"
         },
         "yaxis": "y"
        }
       ],
       "layout": {
        "barmode": "relative",
        "legend": {
         "title": {
          "text": "race"
         },
         "tracegroupgap": 0
        },
        "margin": {
         "t": 60
        },
        "template": {
         "data": {
          "bar": [
           {
            "error_x": {
             "color": "#2a3f5f"
            },
            "error_y": {
             "color": "#2a3f5f"
            },
            "marker": {
             "line": {
              "color": "#E5ECF6",
              "width": 0.5
             },
             "pattern": {
              "fillmode": "overlay",
              "size": 10,
              "solidity": 0.2
             }
            },
            "type": "bar"
           }
          ],
          "barpolar": [
           {
            "marker": {
             "line": {
              "color": "#E5ECF6",
              "width": 0.5
             },
             "pattern": {
              "fillmode": "overlay",
              "size": 10,
              "solidity": 0.2
             }
            },
            "type": "barpolar"
           }
          ],
          "carpet": [
           {
            "aaxis": {
             "endlinecolor": "#2a3f5f",
             "gridcolor": "white",
             "linecolor": "white",
             "minorgridcolor": "white",
             "startlinecolor": "#2a3f5f"
            },
            "baxis": {
             "endlinecolor": "#2a3f5f",
             "gridcolor": "white",
             "linecolor": "white",
             "minorgridcolor": "white",
             "startlinecolor": "#2a3f5f"
            },
            "type": "carpet"
           }
          ],
          "choropleth": [
           {
            "colorbar": {
             "outlinewidth": 0,
             "ticks": ""
            },
            "type": "choropleth"
           }
          ],
          "contour": [
           {
            "colorbar": {
             "outlinewidth": 0,
             "ticks": ""
            },
            "colorscale": [
             [
              0,
              "#0d0887"
             ],
             [
              0.1111111111111111,
              "#46039f"
             ],
             [
              0.2222222222222222,
              "#7201a8"
             ],
             [
              0.3333333333333333,
              "#9c179e"
             ],
             [
              0.4444444444444444,
              "#bd3786"
             ],
             [
              0.5555555555555556,
              "#d8576b"
             ],
             [
              0.6666666666666666,
              "#ed7953"
             ],
             [
              0.7777777777777778,
              "#fb9f3a"
             ],
             [
              0.8888888888888888,
              "#fdca26"
             ],
             [
              1,
              "#f0f921"
             ]
            ],
            "type": "contour"
           }
          ],
          "contourcarpet": [
           {
            "colorbar": {
             "outlinewidth": 0,
             "ticks": ""
            },
            "type": "contourcarpet"
           }
          ],
          "heatmap": [
           {
            "colorbar": {
             "outlinewidth": 0,
             "ticks": ""
            },
            "colorscale": [
             [
              0,
              "#0d0887"
             ],
             [
              0.1111111111111111,
              "#46039f"
             ],
             [
              0.2222222222222222,
              "#7201a8"
             ],
             [
              0.3333333333333333,
              "#9c179e"
             ],
             [
              0.4444444444444444,
              "#bd3786"
             ],
             [
              0.5555555555555556,
              "#d8576b"
             ],
             [
              0.6666666666666666,
              "#ed7953"
             ],
             [
              0.7777777777777778,
              "#fb9f3a"
             ],
             [
              0.8888888888888888,
              "#fdca26"
             ],
             [
              1,
              "#f0f921"
             ]
            ],
            "type": "heatmap"
           }
          ],
          "histogram": [
           {
            "marker": {
             "pattern": {
              "fillmode": "overlay",
              "size": 10,
              "solidity": 0.2
             }
            },
            "type": "histogram"
           }
          ],
          "histogram2d": [
           {
            "colorbar": {
             "outlinewidth": 0,
             "ticks": ""
            },
            "colorscale": [
             [
              0,
              "#0d0887"
             ],
             [
              0.1111111111111111,
              "#46039f"
             ],
             [
              0.2222222222222222,
              "#7201a8"
             ],
             [
              0.3333333333333333,
              "#9c179e"
             ],
             [
              0.4444444444444444,
              "#bd3786"
             ],
             [
              0.5555555555555556,
              "#d8576b"
             ],
             [
              0.6666666666666666,
              "#ed7953"
             ],
             [
              0.7777777777777778,
              "#fb9f3a"
             ],
             [
              0.8888888888888888,
              "#fdca26"
             ],
             [
              1,
              "#f0f921"
             ]
            ],
            "type": "histogram2d"
           }
          ],
          "histogram2dcontour": [
           {
            "colorbar": {
             "outlinewidth": 0,
             "ticks": ""
            },
            "colorscale": [
             [
              0,
              "#0d0887"
             ],
             [
              0.1111111111111111,
              "#46039f"
             ],
             [
              0.2222222222222222,
              "#7201a8"
             ],
             [
              0.3333333333333333,
              "#9c179e"
             ],
             [
              0.4444444444444444,
              "#bd3786"
             ],
             [
              0.5555555555555556,
              "#d8576b"
             ],
             [
              0.6666666666666666,
              "#ed7953"
             ],
             [
              0.7777777777777778,
              "#fb9f3a"
             ],
             [
              0.8888888888888888,
              "#fdca26"
             ],
             [
              1,
              "#f0f921"
             ]
            ],
            "type": "histogram2dcontour"
           }
          ],
          "mesh3d": [
           {
            "colorbar": {
             "outlinewidth": 0,
             "ticks": ""
            },
            "type": "mesh3d"
           }
          ],
          "parcoords": [
           {
            "line": {
             "colorbar": {
              "outlinewidth": 0,
              "ticks": ""
             }
            },
            "type": "parcoords"
           }
          ],
          "pie": [
           {
            "automargin": true,
            "type": "pie"
           }
          ],
          "scatter": [
           {
            "fillpattern": {
             "fillmode": "overlay",
             "size": 10,
             "solidity": 0.2
            },
            "type": "scatter"
           }
          ],
          "scatter3d": [
           {
            "line": {
             "colorbar": {
              "outlinewidth": 0,
              "ticks": ""
             }
            },
            "marker": {
             "colorbar": {
              "outlinewidth": 0,
              "ticks": ""
             }
            },
            "type": "scatter3d"
           }
          ],
          "scattercarpet": [
           {
            "marker": {
             "colorbar": {
              "outlinewidth": 0,
              "ticks": ""
             }
            },
            "type": "scattercarpet"
           }
          ],
          "scattergeo": [
           {
            "marker": {
             "colorbar": {
              "outlinewidth": 0,
              "ticks": ""
             }
            },
            "type": "scattergeo"
           }
          ],
          "scattergl": [
           {
            "marker": {
             "colorbar": {
              "outlinewidth": 0,
              "ticks": ""
             }
            },
            "type": "scattergl"
           }
          ],
          "scattermap": [
           {
            "marker": {
             "colorbar": {
              "outlinewidth": 0,
              "ticks": ""
             }
            },
            "type": "scattermap"
           }
          ],
          "scattermapbox": [
           {
            "marker": {
             "colorbar": {
              "outlinewidth": 0,
              "ticks": ""
             }
            },
            "type": "scattermapbox"
           }
          ],
          "scatterpolar": [
           {
            "marker": {
             "colorbar": {
              "outlinewidth": 0,
              "ticks": ""
             }
            },
            "type": "scatterpolar"
           }
          ],
          "scatterpolargl": [
           {
            "marker": {
             "colorbar": {
              "outlinewidth": 0,
              "ticks": ""
             }
            },
            "type": "scatterpolargl"
           }
          ],
          "scatterternary": [
           {
            "marker": {
             "colorbar": {
              "outlinewidth": 0,
              "ticks": ""
             }
            },
            "type": "scatterternary"
           }
          ],
          "surface": [
           {
            "colorbar": {
             "outlinewidth": 0,
             "ticks": ""
            },
            "colorscale": [
             [
              0,
              "#0d0887"
             ],
             [
              0.1111111111111111,
              "#46039f"
             ],
             [
              0.2222222222222222,
              "#7201a8"
             ],
             [
              0.3333333333333333,
              "#9c179e"
             ],
             [
              0.4444444444444444,
              "#bd3786"
             ],
             [
              0.5555555555555556,
              "#d8576b"
             ],
             [
              0.6666666666666666,
              "#ed7953"
             ],
             [
              0.7777777777777778,
              "#fb9f3a"
             ],
             [
              0.8888888888888888,
              "#fdca26"
             ],
             [
              1,
              "#f0f921"
             ]
            ],
            "type": "surface"
           }
          ],
          "table": [
           {
            "cells": {
             "fill": {
              "color": "#EBF0F8"
             },
             "line": {
              "color": "white"
             }
            },
            "header": {
             "fill": {
              "color": "#C8D4E3"
             },
             "line": {
              "color": "white"
             }
            },
            "type": "table"
           }
          ]
         },
         "layout": {
          "annotationdefaults": {
           "arrowcolor": "#2a3f5f",
           "arrowhead": 0,
           "arrowwidth": 1
          },
          "autotypenumbers": "strict",
          "coloraxis": {
           "colorbar": {
            "outlinewidth": 0,
            "ticks": ""
           }
          },
          "colorscale": {
           "diverging": [
            [
             0,
             "#8e0152"
            ],
            [
             0.1,
             "#c51b7d"
            ],
            [
             0.2,
             "#de77ae"
            ],
            [
             0.3,
             "#f1b6da"
            ],
            [
             0.4,
             "#fde0ef"
            ],
            [
             0.5,
             "#f7f7f7"
            ],
            [
             0.6,
             "#e6f5d0"
            ],
            [
             0.7,
             "#b8e186"
            ],
            [
             0.8,
             "#7fbc41"
            ],
            [
             0.9,
             "#4d9221"
            ],
            [
             1,
             "#276419"
            ]
           ],
           "sequential": [
            [
             0,
             "#0d0887"
            ],
            [
             0.1111111111111111,
             "#46039f"
            ],
            [
             0.2222222222222222,
             "#7201a8"
            ],
            [
             0.3333333333333333,
             "#9c179e"
            ],
            [
             0.4444444444444444,
             "#bd3786"
            ],
            [
             0.5555555555555556,
             "#d8576b"
            ],
            [
             0.6666666666666666,
             "#ed7953"
            ],
            [
             0.7777777777777778,
             "#fb9f3a"
            ],
            [
             0.8888888888888888,
             "#fdca26"
            ],
            [
             1,
             "#f0f921"
            ]
           ],
           "sequentialminus": [
            [
             0,
             "#0d0887"
            ],
            [
             0.1111111111111111,
             "#46039f"
            ],
            [
             0.2222222222222222,
             "#7201a8"
            ],
            [
             0.3333333333333333,
             "#9c179e"
            ],
            [
             0.4444444444444444,
             "#bd3786"
            ],
            [
             0.5555555555555556,
             "#d8576b"
            ],
            [
             0.6666666666666666,
             "#ed7953"
            ],
            [
             0.7777777777777778,
             "#fb9f3a"
            ],
            [
             0.8888888888888888,
             "#fdca26"
            ],
            [
             1,
             "#f0f921"
            ]
           ]
          },
          "colorway": [
           "#636efa",
           "#EF553B",
           "#00cc96",
           "#ab63fa",
           "#FFA15A",
           "#19d3f3",
           "#FF6692",
           "#B6E880",
           "#FF97FF",
           "#FECB52"
          ],
          "font": {
           "color": "#2a3f5f"
          },
          "geo": {
           "bgcolor": "white",
           "lakecolor": "white",
           "landcolor": "#E5ECF6",
           "showlakes": true,
           "showland": true,
           "subunitcolor": "white"
          },
          "hoverlabel": {
           "align": "left"
          },
          "hovermode": "closest",
          "mapbox": {
           "style": "light"
          },
          "paper_bgcolor": "white",
          "plot_bgcolor": "#E5ECF6",
          "polar": {
           "angularaxis": {
            "gridcolor": "white",
            "linecolor": "white",
            "ticks": ""
           },
           "bgcolor": "#E5ECF6",
           "radialaxis": {
            "gridcolor": "white",
            "linecolor": "white",
            "ticks": ""
           }
          },
          "scene": {
           "xaxis": {
            "backgroundcolor": "#E5ECF6",
            "gridcolor": "white",
            "gridwidth": 2,
            "linecolor": "white",
            "showbackground": true,
            "ticks": "",
            "zerolinecolor": "white"
           },
           "yaxis": {
            "backgroundcolor": "#E5ECF6",
            "gridcolor": "white",
            "gridwidth": 2,
            "linecolor": "white",
            "showbackground": true,
            "ticks": "",
            "zerolinecolor": "white"
           },
           "zaxis": {
            "backgroundcolor": "#E5ECF6",
            "gridcolor": "white",
            "gridwidth": 2,
            "linecolor": "white",
            "showbackground": true,
            "ticks": "",
            "zerolinecolor": "white"
           }
          },
          "shapedefaults": {
           "line": {
            "color": "#2a3f5f"
           }
          },
          "ternary": {
           "aaxis": {
            "gridcolor": "white",
            "linecolor": "white",
            "ticks": ""
           },
           "baxis": {
            "gridcolor": "white",
            "linecolor": "white",
            "ticks": ""
           },
           "bgcolor": "#E5ECF6",
           "caxis": {
            "gridcolor": "white",
            "linecolor": "white",
            "ticks": ""
           }
          },
          "title": {
           "x": 0.05
          },
          "xaxis": {
           "automargin": true,
           "gridcolor": "white",
           "linecolor": "white",
           "ticks": "",
           "title": {
            "standoff": 15
           },
           "zerolinecolor": "white",
           "zerolinewidth": 2
          },
          "yaxis": {
           "automargin": true,
           "gridcolor": "white",
           "linecolor": "white",
           "ticks": "",
           "title": {
            "standoff": 15
           },
           "zerolinecolor": "white",
           "zerolinewidth": 2
          }
         }
        },
        "xaxis": {
         "anchor": "y",
         "domain": [
          0,
          1
         ],
         "title": {
          "text": "city"
         }
        },
        "yaxis": {
         "anchor": "x",
         "domain": [
          0,
          1
         ],
         "title": {
          "text": "id"
         }
        }
       }
      },
      "image/png": "[encoded data removed]"
     },
     "metadata": {},
     "output_type": "display_data"
    }
   ],
   "source": [
    "fig12 = px.bar(city_race, x='city', y='id', color='race')\n",
    "fig12.show()"
   ]
  },
  {
   "cell_type": "markdown",
   "metadata": {
    "id": "1HUJksrI5WFb"
   },
   "source": [
    "# Create a Choropleth Map of Police Killings by US State\n",
    "\n",
    "Which states are the most dangerous? Compare your map with your previous chart. Are these the same states with high degrees of poverty? "
   ]
  },
  {
   "cell_type": "code",
   "execution_count": null,
   "metadata": {
    "id": "u3UuX4Yo5dBA"
   },
   "outputs": [],
   "source": []
  },
  {
   "cell_type": "code",
   "execution_count": null,
   "metadata": {
    "id": "Y6VLPDeN5dKO"
   },
   "outputs": [],
   "source": []
  },
  {
   "cell_type": "markdown",
   "metadata": {
    "id": "37UsmVYF6hA2"
   },
   "source": [
    "# Number of Police Killings Over Time\n",
    "\n",
    "Analyse the Number of Police Killings over Time. Is there a trend in the data? "
   ]
  },
  {
   "cell_type": "code",
   "execution_count": null,
   "metadata": {
    "id": "nITf1IhP6gpI"
   },
   "outputs": [],
   "source": []
  },
  {
   "cell_type": "code",
   "execution_count": null,
   "metadata": {
    "id": "Q_vxjD_A7JRh"
   },
   "outputs": [],
   "source": []
  },
  {
   "cell_type": "code",
   "execution_count": null,
   "metadata": {
    "id": "mOqtie707JU8"
   },
   "outputs": [],
   "source": []
  },
  {
   "cell_type": "code",
   "execution_count": null,
   "metadata": {
    "id": "5fjhL8Lk7JKa"
   },
   "outputs": [],
   "source": []
  },
  {
   "cell_type": "markdown",
   "metadata": {
    "id": "9o6uLFpS61nw"
   },
   "source": [
    "# Epilogue\n",
    "\n",
    "Now that you have analysed the data yourself, read [The Washington Post's analysis here](https://www.washingtonpost.com/graphics/investigations/police-shootings-database/)."
   ]
  },
  {
   "cell_type": "code",
   "execution_count": null,
   "metadata": {
    "id": "8PjgzuNa61I1"
   },
   "outputs": [],
   "source": []
  }
 ],
 "metadata": {
  "colab": {
   "name": "Fatal Force (start).ipynb",
   "provenance": []
  },
  "kernelspec": {
   "display_name": "Python 3 (ipykernel)",
   "language": "python",
   "name": "python3"
  },
  "language_info": {
   "codemirror_mode": {
    "name": "ipython",
    "version": 3
   },
   "file_extension": ".py",
   "mimetype": "text/x-python",
   "name": "python",
   "nbconvert_exporter": "python",
   "pygments_lexer": "ipython3",
   "version": "3.12.5"
  }
 },
 "nbformat": 4,
 "nbformat_minor": 4
}
